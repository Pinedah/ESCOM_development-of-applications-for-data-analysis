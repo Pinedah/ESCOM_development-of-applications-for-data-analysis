{
 "cells": [
  {
   "cell_type": "markdown",
   "metadata": {},
   "source": [
    "## Imputación"
   ]
  },
  {
   "cell_type": "code",
   "execution_count": null,
   "metadata": {},
   "outputs": [],
   "source": [
    "# Importar las bibliotecas necesarias\n",
    "import pandas as pd\n",
    "from sklearn.impute import SimpleImputer\n",
    "from sklearn.datasets import load_iris\n",
    "from sklearn.model_selection import train_test_split\n",
    "from sklearn.ensemble import RandomForestClassifier\n",
    "from sklearn.metrics import accuracy_score\n",
    "\n",
    "# Cargar un conjunto de datos de ejemplo (usaremos Iris)\n",
    "data = load_iris()\n",
    "X = pd.DataFrame(data.data, columns=data.feature_names)\n",
    "y = pd.Series(data.target, name=\"target\")\n",
    "\n",
    "# Simular valores faltantes en el conjunto de datos\n",
    "# Esto es solo un ejemplo, en la práctica los datos pueden estar incompletos\n",
    "# Aquí vamos a reemplazar algunos valores con NaN (Not-a-Number) de manera artificial\n",
    "X.iloc[10:15, 0] = X.iloc[20:25, 1] = X.iloc[30:35, 2] = X.iloc[40:45, 3] = float(\"NaN\")\n",
    "\n",
    "# Explicación: Hasta aquí hemos importado las bibliotecas, cargado un conjunto de datos de ejemplo (Iris) y simulado valores faltantes en el conjunto de datos.\n",
    "\n",
    "# Imprimir los datos originales con valores faltantes\n",
    "print(\"Datos originales con valores faltantes:\")\n",
    "print(X.head(15))\n",
    "\n",
    "# Dividir el conjunto de datos en entrenamiento y prueba\n",
    "X_train, X_test, y_train, y_test = train_test_split(X, y, test_size=0.2, random_state=42)\n",
    "\n",
    "# Explicación: Dividimos el conjunto de datos en conjuntos de entrenamiento y prueba para evaluar el modelo más adelante.\n",
    "\n",
    "# Imputar los valores faltantes en el conjunto de entrenamiento\n",
    "# Utilizaremos la estrategia de imputación de la media\n",
    "imputer = SimpleImputer(strategy=\"mean\")\n",
    "X_train_imputed = imputer.fit_transform(X_train)\n",
    "\n",
    "# Explicación: Utilizamos la estrategia de imputación de la media para llenar los valores faltantes en el conjunto de entrenamiento. La media se calcula para cada característica.\n",
    "\n",
    "# Imprimir los datos de entrenamiento imputados\n",
    "print(\"\\nDatos de entrenamiento imputados:\")\n",
    "print(pd.DataFrame(X_train_imputed, columns=X.columns).head(15))\n",
    "\n",
    "# Entrenar un modelo de Machine Learning (usaremos un clasificador RandomForest)\n",
    "model = RandomForestClassifier(random_state=42)\n",
    "model.fit(X_train_imputed, y_train)\n",
    "\n",
    "# Explicación: Hemos entrenado un modelo de clasificación Random Forest en los datos de entrenamiento imputados.\n",
    "\n",
    "# Imputar los valores faltantes en el conjunto de prueba\n",
    "X_test_imputed = imputer.transform(X_test)\n",
    "\n",
    "# Explicación: Utilizamos la misma estrategia de imputación de la media para llenar los valores faltantes en el conjunto de prueba.\n",
    "\n",
    "# Realizar predicciones en el conjunto de prueba\n",
    "y_pred = model.predict(X_test_imputed)\n",
    "\n",
    "# Explicación: Hemos realizado predicciones en el conjunto de prueba utilizando el modelo entrenado.\n",
    "\n",
    "# Calcular la precisión del modelo\n",
    "accuracy = accuracy_score(y_test, y_pred)\n",
    "print(\"\\nPrecisión del modelo en el conjunto de prueba:\", accuracy)\n",
    "\n",
    "# Explicación: Hemos calculado la precisión del modelo comparando las predicciones con los valores reales en el conjunto de prueba."
   ]
  },
  {
   "cell_type": "markdown",
   "metadata": {},
   "source": [
    "**1. Imputación de la media (Mean Imputation):**\n",
    "La imputación de la media consiste en reemplazar los valores faltantes por la media de la característica (columna) correspondiente en los datos."
   ]
  },
  {
   "cell_type": "code",
   "execution_count": null,
   "metadata": {},
   "outputs": [],
   "source": [
    "from sklearn.impute import SimpleImputer\n",
    "\n",
    "# Crear un imputador de media\n",
    "imputer = SimpleImputer(strategy='mean')\n",
    "\n",
    "# Imputar los valores faltantes en un conjunto de datos (X)\n",
    "X_train_imputed  = imputer.fit_transform(X)"
   ]
  },
  {
   "cell_type": "markdown",
   "metadata": {},
   "source": [
    "**2. Imputación de la mediana (Median Imputation):**\n",
    "En lugar de la media, podemos utilizar la mediana para imputar los valores faltantes. La mediana es menos sensible a valores atípicos."
   ]
  },
  {
   "cell_type": "code",
   "execution_count": null,
   "metadata": {},
   "outputs": [],
   "source": [
    "from sklearn.impute import SimpleImputer\n",
    "\n",
    "# Crear un imputador de mediana\n",
    "imputer = SimpleImputer(strategy='median')\n",
    "\n",
    "# Imputar los valores faltantes en un conjunto de datos (X)\n",
    "X_train_imputed  = imputer.fit_transform(X)\n"
   ]
  },
  {
   "cell_type": "markdown",
   "metadata": {},
   "source": [
    "**3. Imputación de valores constantes (Constant Imputation):**\n",
    "En ocasiones, se prefiere imputar los valores faltantes con un valor constante. Esto puede ser útil en situaciones donde los valores faltantes tienen un significado específico."
   ]
  },
  {
   "cell_type": "code",
   "execution_count": null,
   "metadata": {},
   "outputs": [],
   "source": [
    "from sklearn.impute import SimpleImputer\n",
    "\n",
    "# Crear un imputador con valor constante (por ejemplo, 0)\n",
    "imputer = SimpleImputer(strategy='constant', fill_value=0)\n",
    "\n",
    "# Imputar los valores faltantes en un conjunto de datos (X)\n",
    "X_train_imputed = imputer.fit_transform(X)\n"
   ]
  },
  {
   "cell_type": "markdown",
   "metadata": {},
   "source": [
    "**4. Imputación por regresión (Regression Imputation):**\n",
    "En algunos casos, es útil utilizar un modelo de regresión para predecir los valores faltantes en función de las demás características."
   ]
  },
  {
   "cell_type": "code",
   "execution_count": null,
   "metadata": {},
   "outputs": [],
   "source": [
    "from sklearn.experimental import enable_iterative_imputer\n",
    "from sklearn.impute import IterativeImputer\n",
    "\n",
    "# Crear un imputador de regresión (usaremos el IterativeImputer)\n",
    "imputer = IterativeImputer(max_iter=10, random_state=0)\n",
    "\n",
    "# Imputar los valores faltantes en un conjunto de datos (X)\n",
    "X_train_imputed  = imputer.fit_transform(X)\n"
   ]
  },
  {
   "cell_type": "markdown",
   "metadata": {},
   "source": [
    "**5. Imputación por K-vecinos más cercanos (K-Nearest Neighbors Imputation):**\n",
    "Este método reemplaza los valores faltantes por los valores de K-vecinos más cercanos en función de una métrica de similitud."
   ]
  },
  {
   "cell_type": "code",
   "execution_count": null,
   "metadata": {},
   "outputs": [],
   "source": [
    "from sklearn.impute import KNNImputer\n",
    "\n",
    "# Crear un imputador de K-vecinos más cercanos\n",
    "imputer = KNNImputer(n_neighbors=2)\n",
    "\n",
    "# Imputar los valores faltantes en un conjunto de datos (X)\n",
    "X_train_imputed  = imputer.fit_transform(X)\n"
   ]
  },
  {
   "cell_type": "markdown",
   "metadata": {},
   "source": [
    "**6. Imputación de valores más frecuentes (Most Frequent Imputation):**\n",
    "Esta estrategia imputa los valores faltantes con el valor más frecuente (modal) de la característica correspondiente."
   ]
  },
  {
   "cell_type": "code",
   "execution_count": null,
   "metadata": {},
   "outputs": [],
   "source": [
    "from sklearn.impute import SimpleImputer\n",
    "\n",
    "# Crear un imputador con el valor más frecuente\n",
    "imputer = SimpleImputer(strategy='most_frequent')\n",
    "\n",
    "# Imputar los valores faltantes en un conjunto de datos (X)\n",
    "X_train_imputed  = imputer.fit_transform(X)\n"
   ]
  },
  {
   "cell_type": "markdown",
   "metadata": {},
   "source": [
    "**7. Imputación por interpolación (Interpolation Imputation):**\n",
    "La imputación por interpolación se utiliza para rellenar los valores faltantes basándose en la interpolación de los valores existentes en la secuencia de datos."
   ]
  },
  {
   "cell_type": "code",
   "execution_count": null,
   "metadata": {},
   "outputs": [],
   "source": [
    "import pandas as pd\n",
    "\n",
    "# Realizar interpolación lineal en un DataFrame de Pandas\n",
    "X.interpolate(method='linear', axis=0, inplace=True)\n"
   ]
  },
  {
   "cell_type": "markdown",
   "metadata": {},
   "source": [
    "**8. Imputación con valores generados aleatoriamente (Random Imputation):**\n",
    "En algunos casos, puedes optar por imputar valores faltantes con valores generados aleatoriamente."
   ]
  },
  {
   "cell_type": "code",
   "execution_count": null,
   "metadata": {},
   "outputs": [],
   "source": [
    "import numpy as np\n",
    "\n",
    "# Reemplazar los valores faltantes con valores aleatorios en un rango específico\n",
    "X[X.isnull()] = np.random.randint(1, 100, size=X.isnull().sum().sum())"
   ]
  },
  {
   "cell_type": "markdown",
   "metadata": {},
   "source": [
    "**9. Imputación basada en el contexto (Contextual Imputation):**\n",
    "Este método implica imputar valores faltantes basándose en el contexto y la relación entre diferentes características. Es altamente personalizado y depende del conocimiento del dominio."
   ]
  },
  {
   "cell_type": "code",
   "execution_count": null,
   "metadata": {},
   "outputs": [],
   "source": [
    "# Ejemplo personalizado basado en el contexto\n",
    "X['feature_to_impute'] = X.apply(lambda row: custom_imputation_logic(row), axis=1)\n"
   ]
  },
  {
   "cell_type": "markdown",
   "metadata": {},
   "source": [
    "**10. Imputación secuencial (Sequential Imputation):**\n",
    "La imputación secuencial se utiliza cuando los datos tienen una secuencia temporal, como series temporales. Puedes imputar valores faltantes en función de los valores anteriores o posteriores."
   ]
  },
  {
   "cell_type": "code",
   "execution_count": null,
   "metadata": {},
   "outputs": [],
   "source": [
    "# Imputar valores faltantes en función de los valores anteriores en una serie temporal\n",
    "X['feature_to_impute'].fillna(method='ffill', inplace=True)"
   ]
  },
  {
   "cell_type": "markdown",
   "metadata": {},
   "source": [
    "**Nota:** La elección del método de imputación depende de la naturaleza de los datos y el contexto del problema. Es importante evaluar y comparar los resultados de diferentes estrategias de imputación en función de los objetivos y el rendimiento del modelo de Machine Learning que se construye."
   ]
  },
  {
   "cell_type": "code",
   "execution_count": null,
   "metadata": {},
   "outputs": [],
   "source": []
  }
 ],
 "metadata": {
  "kernelspec": {
   "display_name": "Python 3",
   "language": "python",
   "name": "python3"
  },
  "language_info": {
   "codemirror_mode": {
    "name": "ipython",
    "version": 3
   },
   "file_extension": ".py",
   "mimetype": "text/x-python",
   "name": "python",
   "nbconvert_exporter": "python",
   "pygments_lexer": "ipython3",
   "version": "3.8.5"
  }
 },
 "nbformat": 4,
 "nbformat_minor": 4
}
