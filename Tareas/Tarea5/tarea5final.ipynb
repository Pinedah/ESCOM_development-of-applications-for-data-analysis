{
 "cells": [
  {
   "cell_type": "markdown",
   "metadata": {
    "id": "KefiSM7s-j-S"
   },
   "source": [
    "# Tarea 5. Análisis DataSet\n",
    "## Equipo 9:\n",
    "- Israel Cortes Rosales\n",
    "- Alan Daniel Palma Pacheco\n",
    "- Pineda Hernández Francisco\n",
    "- Ramirez Aguilar Rodrigo Vidal"
   ]
  },
  {
   "cell_type": "code",
   "execution_count": 19,
   "metadata": {
    "id": "KDMMai3l9rWF"
   },
   "outputs": [],
   "source": [
    "import pandas as pd # Importar pandas para leer y manipular el DataSet\n",
    "import numpy as np  # Importar numpy para manipular datos"
   ]
  },
  {
   "cell_type": "code",
   "execution_count": 20,
   "metadata": {
    "colab": {
     "base_uri": "https://localhost:8080/",
     "height": 73
    },
    "id": "Jmr1ZMZ4-wtd",
    "outputId": "a8d9dd81-511e-4857-c3b8-bb25fb592a97"
   },
   "outputs": [],
   "source": [
    "#from google.colab import files # Importar google.colab para poder subir el archivo del DataSet\n",
    "#uploaded = files.upload()"
   ]
  },
  {
   "cell_type": "code",
   "execution_count": 21,
   "metadata": {
    "id": "nzuVj5g--3dc"
   },
   "outputs": [],
   "source": [
    "df = pd.read_csv('dataset.csv') # Leer el DataSet"
   ]
  },
  {
   "cell_type": "markdown",
   "metadata": {
    "id": "xBk8kMuaTTRC"
   },
   "source": [
    "# Primeras visualización del dataset en raw"
   ]
  },
  {
   "cell_type": "code",
   "execution_count": 22,
   "metadata": {
    "colab": {
     "base_uri": "https://localhost:8080/",
     "height": 424
    },
    "id": "nzkN5ICG_Us7",
    "outputId": "c3786b35-9c94-4695-c7ae-38d18216ce1e"
   },
   "outputs": [
    {
     "data": {
      "text/html": [
       "<div>\n",
       "<style scoped>\n",
       "    .dataframe tbody tr th:only-of-type {\n",
       "        vertical-align: middle;\n",
       "    }\n",
       "\n",
       "    .dataframe tbody tr th {\n",
       "        vertical-align: top;\n",
       "    }\n",
       "\n",
       "    .dataframe thead th {\n",
       "        text-align: right;\n",
       "    }\n",
       "</style>\n",
       "<table border=\"1\" class=\"dataframe\">\n",
       "  <thead>\n",
       "    <tr style=\"text-align: right;\">\n",
       "      <th></th>\n",
       "      <th>User ID</th>\n",
       "      <th>Age</th>\n",
       "      <th>Gender</th>\n",
       "      <th>Country</th>\n",
       "      <th>Purchase Amount</th>\n",
       "      <th>Purchase Date</th>\n",
       "      <th>Product Category</th>\n",
       "    </tr>\n",
       "  </thead>\n",
       "  <tbody>\n",
       "    <tr>\n",
       "      <th>0</th>\n",
       "      <td>1</td>\n",
       "      <td>56.0</td>\n",
       "      <td>Female</td>\n",
       "      <td>USA</td>\n",
       "      <td>331.79</td>\n",
       "      <td>2021-11-21</td>\n",
       "      <td>Sports</td>\n",
       "    </tr>\n",
       "    <tr>\n",
       "      <th>1</th>\n",
       "      <td>2</td>\n",
       "      <td>69.0</td>\n",
       "      <td>Male</td>\n",
       "      <td>Australia</td>\n",
       "      <td>335.72</td>\n",
       "      <td>2022-03-05</td>\n",
       "      <td>Home &amp; Kitchen</td>\n",
       "    </tr>\n",
       "    <tr>\n",
       "      <th>2</th>\n",
       "      <td>3</td>\n",
       "      <td>46.0</td>\n",
       "      <td>NaN</td>\n",
       "      <td>Germany</td>\n",
       "      <td>493.18</td>\n",
       "      <td>NaN</td>\n",
       "      <td>Books</td>\n",
       "    </tr>\n",
       "    <tr>\n",
       "      <th>3</th>\n",
       "      <td>4</td>\n",
       "      <td>32.0</td>\n",
       "      <td>Male</td>\n",
       "      <td>Germany</td>\n",
       "      <td>80.97</td>\n",
       "      <td>2023-06-08</td>\n",
       "      <td>Sports</td>\n",
       "    </tr>\n",
       "    <tr>\n",
       "      <th>4</th>\n",
       "      <td>5</td>\n",
       "      <td>60.0</td>\n",
       "      <td>Female</td>\n",
       "      <td>UK</td>\n",
       "      <td>21.75</td>\n",
       "      <td>NaN</td>\n",
       "      <td>Beauty</td>\n",
       "    </tr>\n",
       "    <tr>\n",
       "      <th>...</th>\n",
       "      <td>...</td>\n",
       "      <td>...</td>\n",
       "      <td>...</td>\n",
       "      <td>...</td>\n",
       "      <td>...</td>\n",
       "      <td>...</td>\n",
       "      <td>...</td>\n",
       "    </tr>\n",
       "    <tr>\n",
       "      <th>14995</th>\n",
       "      <td>14996</td>\n",
       "      <td>21.0</td>\n",
       "      <td>Male</td>\n",
       "      <td>UK</td>\n",
       "      <td>427.07</td>\n",
       "      <td>2023-08-20</td>\n",
       "      <td>Clothing</td>\n",
       "    </tr>\n",
       "    <tr>\n",
       "      <th>14996</th>\n",
       "      <td>14997</td>\n",
       "      <td>53.0</td>\n",
       "      <td>Other</td>\n",
       "      <td>UK</td>\n",
       "      <td>27.73</td>\n",
       "      <td>2021-07-23</td>\n",
       "      <td>Home &amp; Kitchen</td>\n",
       "    </tr>\n",
       "    <tr>\n",
       "      <th>14997</th>\n",
       "      <td>14998</td>\n",
       "      <td>65.0</td>\n",
       "      <td>Female</td>\n",
       "      <td>Canada</td>\n",
       "      <td>108.57</td>\n",
       "      <td>2022-02-21</td>\n",
       "      <td>Beauty</td>\n",
       "    </tr>\n",
       "    <tr>\n",
       "      <th>14998</th>\n",
       "      <td>14999</td>\n",
       "      <td>34.0</td>\n",
       "      <td>Other</td>\n",
       "      <td>USA</td>\n",
       "      <td>105.57</td>\n",
       "      <td>2022-08-25</td>\n",
       "      <td>Books</td>\n",
       "    </tr>\n",
       "    <tr>\n",
       "      <th>14999</th>\n",
       "      <td>15000</td>\n",
       "      <td>NaN</td>\n",
       "      <td>Other</td>\n",
       "      <td>Canada</td>\n",
       "      <td>415.07</td>\n",
       "      <td>2020-05-28</td>\n",
       "      <td>Sports</td>\n",
       "    </tr>\n",
       "  </tbody>\n",
       "</table>\n",
       "<p>15000 rows × 7 columns</p>\n",
       "</div>"
      ],
      "text/plain": [
       "       User ID   Age  Gender    Country  Purchase Amount Purchase Date  \\\n",
       "0            1  56.0  Female        USA           331.79    2021-11-21   \n",
       "1            2  69.0    Male  Australia           335.72    2022-03-05   \n",
       "2            3  46.0     NaN    Germany           493.18           NaN   \n",
       "3            4  32.0    Male    Germany            80.97    2023-06-08   \n",
       "4            5  60.0  Female         UK            21.75           NaN   \n",
       "...        ...   ...     ...        ...              ...           ...   \n",
       "14995    14996  21.0    Male         UK           427.07    2023-08-20   \n",
       "14996    14997  53.0   Other         UK            27.73    2021-07-23   \n",
       "14997    14998  65.0  Female     Canada           108.57    2022-02-21   \n",
       "14998    14999  34.0   Other        USA           105.57    2022-08-25   \n",
       "14999    15000   NaN   Other     Canada           415.07    2020-05-28   \n",
       "\n",
       "      Product Category  \n",
       "0               Sports  \n",
       "1       Home & Kitchen  \n",
       "2                Books  \n",
       "3               Sports  \n",
       "4               Beauty  \n",
       "...                ...  \n",
       "14995         Clothing  \n",
       "14996   Home & Kitchen  \n",
       "14997           Beauty  \n",
       "14998            Books  \n",
       "14999           Sports  \n",
       "\n",
       "[15000 rows x 7 columns]"
      ]
     },
     "execution_count": 22,
     "metadata": {},
     "output_type": "execute_result"
    }
   ],
   "source": [
    "df # Imprimir el dataset"
   ]
  },
  {
   "cell_type": "code",
   "execution_count": 23,
   "metadata": {
    "colab": {
     "base_uri": "https://localhost:8080/"
    },
    "id": "vxbc_hTK_W82",
    "outputId": "1c16d13e-12cc-473d-ab6a-2c5c0380099c"
   },
   "outputs": [
    {
     "name": "stdout",
     "output_type": "stream",
     "text": [
      "<class 'pandas.core.frame.DataFrame'>\n",
      "RangeIndex: 15000 entries, 0 to 14999\n",
      "Data columns (total 7 columns):\n",
      " #   Column            Non-Null Count  Dtype  \n",
      "---  ------            --------------  -----  \n",
      " 0   User ID           15000 non-null  int64  \n",
      " 1   Age               13500 non-null  float64\n",
      " 2   Gender            14250 non-null  object \n",
      " 3   Country           13800 non-null  object \n",
      " 4   Purchase Amount   13200 non-null  float64\n",
      " 5   Purchase Date     13950 non-null  object \n",
      " 6   Product Category  14100 non-null  object \n",
      "dtypes: float64(2), int64(1), object(4)\n",
      "memory usage: 820.4+ KB\n"
     ]
    }
   ],
   "source": [
    "df.info() # Imprimir información original del dataset"
   ]
  },
  {
   "cell_type": "code",
   "execution_count": 24,
   "metadata": {
    "colab": {
     "base_uri": "https://localhost:8080/"
    },
    "id": "wOqL-P6O_hst",
    "outputId": "554913cd-efdd-49da-9dfc-5303f5800388"
   },
   "outputs": [
    {
     "name": "stdout",
     "output_type": "stream",
     "text": [
      "['Female' 'Male' nan 'Other']\n",
      "['USA' 'Australia' 'Germany' 'UK' 'France' 'Canada' nan]\n",
      "['Sports' 'Home & Kitchen' 'Books' 'Beauty' 'Clothing' nan 'Electronics']\n"
     ]
    }
   ],
   "source": [
    "for column in df[['Gender', 'Country', 'Product Category']]:\n",
    "    print(df[column].unique()) # Mostrar los valores únicos de cada columna"
   ]
  },
  {
   "cell_type": "markdown",
   "metadata": {},
   "source": [
    "## Hacer un merge con una nueva columna procesada"
   ]
  },
  {
   "cell_type": "code",
   "execution_count": 25,
   "metadata": {
    "colab": {
     "base_uri": "https://localhost:8080/",
     "height": 424
    },
    "id": "ykpjhXgmDssI",
    "outputId": "e57fc242-c504-49c9-aebd-cef0ccf0b5dd"
   },
   "outputs": [
    {
     "data": {
      "text/html": [
       "<div>\n",
       "<style scoped>\n",
       "    .dataframe tbody tr th:only-of-type {\n",
       "        vertical-align: middle;\n",
       "    }\n",
       "\n",
       "    .dataframe tbody tr th {\n",
       "        vertical-align: top;\n",
       "    }\n",
       "\n",
       "    .dataframe thead th {\n",
       "        text-align: right;\n",
       "    }\n",
       "</style>\n",
       "<table border=\"1\" class=\"dataframe\">\n",
       "  <thead>\n",
       "    <tr style=\"text-align: right;\">\n",
       "      <th></th>\n",
       "      <th>User ID</th>\n",
       "      <th>Age</th>\n",
       "      <th>Gender</th>\n",
       "      <th>Country</th>\n",
       "      <th>Purchase Amount</th>\n",
       "      <th>Purchase Date</th>\n",
       "      <th>Product Category</th>\n",
       "      <th>Continent</th>\n",
       "    </tr>\n",
       "  </thead>\n",
       "  <tbody>\n",
       "    <tr>\n",
       "      <th>0</th>\n",
       "      <td>1</td>\n",
       "      <td>56.0</td>\n",
       "      <td>Female</td>\n",
       "      <td>USA</td>\n",
       "      <td>331.79</td>\n",
       "      <td>2021-11-21</td>\n",
       "      <td>Sports</td>\n",
       "      <td>America</td>\n",
       "    </tr>\n",
       "    <tr>\n",
       "      <th>1</th>\n",
       "      <td>2</td>\n",
       "      <td>69.0</td>\n",
       "      <td>Male</td>\n",
       "      <td>Australia</td>\n",
       "      <td>335.72</td>\n",
       "      <td>2022-03-05</td>\n",
       "      <td>Home &amp; Kitchen</td>\n",
       "      <td>Asia</td>\n",
       "    </tr>\n",
       "    <tr>\n",
       "      <th>2</th>\n",
       "      <td>3</td>\n",
       "      <td>46.0</td>\n",
       "      <td>NaN</td>\n",
       "      <td>Germany</td>\n",
       "      <td>493.18</td>\n",
       "      <td>NaN</td>\n",
       "      <td>Books</td>\n",
       "      <td>Europe</td>\n",
       "    </tr>\n",
       "    <tr>\n",
       "      <th>3</th>\n",
       "      <td>4</td>\n",
       "      <td>32.0</td>\n",
       "      <td>Male</td>\n",
       "      <td>Germany</td>\n",
       "      <td>80.97</td>\n",
       "      <td>2023-06-08</td>\n",
       "      <td>Sports</td>\n",
       "      <td>Europe</td>\n",
       "    </tr>\n",
       "    <tr>\n",
       "      <th>4</th>\n",
       "      <td>5</td>\n",
       "      <td>60.0</td>\n",
       "      <td>Female</td>\n",
       "      <td>UK</td>\n",
       "      <td>21.75</td>\n",
       "      <td>NaN</td>\n",
       "      <td>Beauty</td>\n",
       "      <td>Europe</td>\n",
       "    </tr>\n",
       "    <tr>\n",
       "      <th>...</th>\n",
       "      <td>...</td>\n",
       "      <td>...</td>\n",
       "      <td>...</td>\n",
       "      <td>...</td>\n",
       "      <td>...</td>\n",
       "      <td>...</td>\n",
       "      <td>...</td>\n",
       "      <td>...</td>\n",
       "    </tr>\n",
       "    <tr>\n",
       "      <th>14995</th>\n",
       "      <td>14996</td>\n",
       "      <td>21.0</td>\n",
       "      <td>Male</td>\n",
       "      <td>UK</td>\n",
       "      <td>427.07</td>\n",
       "      <td>2023-08-20</td>\n",
       "      <td>Clothing</td>\n",
       "      <td>Europe</td>\n",
       "    </tr>\n",
       "    <tr>\n",
       "      <th>14996</th>\n",
       "      <td>14997</td>\n",
       "      <td>53.0</td>\n",
       "      <td>Other</td>\n",
       "      <td>UK</td>\n",
       "      <td>27.73</td>\n",
       "      <td>2021-07-23</td>\n",
       "      <td>Home &amp; Kitchen</td>\n",
       "      <td>Europe</td>\n",
       "    </tr>\n",
       "    <tr>\n",
       "      <th>14997</th>\n",
       "      <td>14998</td>\n",
       "      <td>65.0</td>\n",
       "      <td>Female</td>\n",
       "      <td>Canada</td>\n",
       "      <td>108.57</td>\n",
       "      <td>2022-02-21</td>\n",
       "      <td>Beauty</td>\n",
       "      <td>America</td>\n",
       "    </tr>\n",
       "    <tr>\n",
       "      <th>14998</th>\n",
       "      <td>14999</td>\n",
       "      <td>34.0</td>\n",
       "      <td>Other</td>\n",
       "      <td>USA</td>\n",
       "      <td>105.57</td>\n",
       "      <td>2022-08-25</td>\n",
       "      <td>Books</td>\n",
       "      <td>America</td>\n",
       "    </tr>\n",
       "    <tr>\n",
       "      <th>14999</th>\n",
       "      <td>15000</td>\n",
       "      <td>NaN</td>\n",
       "      <td>Other</td>\n",
       "      <td>Canada</td>\n",
       "      <td>415.07</td>\n",
       "      <td>2020-05-28</td>\n",
       "      <td>Sports</td>\n",
       "      <td>America</td>\n",
       "    </tr>\n",
       "  </tbody>\n",
       "</table>\n",
       "<p>15000 rows × 8 columns</p>\n",
       "</div>"
      ],
      "text/plain": [
       "       User ID   Age  Gender    Country  Purchase Amount Purchase Date  \\\n",
       "0            1  56.0  Female        USA           331.79    2021-11-21   \n",
       "1            2  69.0    Male  Australia           335.72    2022-03-05   \n",
       "2            3  46.0     NaN    Germany           493.18           NaN   \n",
       "3            4  32.0    Male    Germany            80.97    2023-06-08   \n",
       "4            5  60.0  Female         UK            21.75           NaN   \n",
       "...        ...   ...     ...        ...              ...           ...   \n",
       "14995    14996  21.0    Male         UK           427.07    2023-08-20   \n",
       "14996    14997  53.0   Other         UK            27.73    2021-07-23   \n",
       "14997    14998  65.0  Female     Canada           108.57    2022-02-21   \n",
       "14998    14999  34.0   Other        USA           105.57    2022-08-25   \n",
       "14999    15000   NaN   Other     Canada           415.07    2020-05-28   \n",
       "\n",
       "      Product Category Continent  \n",
       "0               Sports   America  \n",
       "1       Home & Kitchen      Asia  \n",
       "2                Books    Europe  \n",
       "3               Sports    Europe  \n",
       "4               Beauty    Europe  \n",
       "...                ...       ...  \n",
       "14995         Clothing    Europe  \n",
       "14996   Home & Kitchen    Europe  \n",
       "14997           Beauty   America  \n",
       "14998            Books   America  \n",
       "14999           Sports   America  \n",
       "\n",
       "[15000 rows x 8 columns]"
      ]
     },
     "execution_count": 25,
     "metadata": {},
     "output_type": "execute_result"
    }
   ],
   "source": [
    "\n",
    "# Diccionario con los respectivos continentes\n",
    "continentes_por_pais = {\n",
    "    'USA': 'America',\n",
    "    'Canada': 'America',\n",
    "    'Australia': 'Asia',\n",
    "    'Germany': 'Europe',\n",
    "    'UK': 'Europe',\n",
    "    'nan': None\n",
    "}\n",
    "\n",
    "# Agregar columna 'Continent' al DataFrame\n",
    "df['Continent'] = df['Country'].map(continentes_por_pais)\n",
    "\n",
    "df"
   ]
  },
  {
   "cell_type": "code",
   "execution_count": 26,
   "metadata": {
    "colab": {
     "base_uri": "https://localhost:8080/"
    },
    "id": "p-YDntCfDwf3",
    "outputId": "118a8435-b3e7-44c7-c552-3f969d1b16ee"
   },
   "outputs": [
    {
     "name": "stdout",
     "output_type": "stream",
     "text": [
      "                 Tipo de Dato  Valores Perdidos  Porcentaje de Perdidos\n",
      "User ID                 int64                 0                0.000000\n",
      "Age                   float64              1500                0.100000\n",
      "Gender                 object               750                0.050000\n",
      "Country                object              1200                0.080000\n",
      "Purchase Amount       float64              1800                0.120000\n",
      "Purchase Date          object              1050                0.070000\n",
      "Product Category       object               900                0.060000\n",
      "Continent              object              3644                0.242933\n"
     ]
    }
   ],
   "source": [
    "# Se crea un Frame con los datos solicitados\n",
    "valoresPerdidos = pd.DataFrame({\n",
    "    'Tipo de Dato': df.dtypes,                                # tipo de dato\n",
    "    'Valores Perdidos': df.isnull().sum(),                    # valores perdidos\n",
    "    'Porcentaje de Perdidos': (df.isnull().sum() / len(df))   # porcentaje\n",
    "})\n",
    "\n",
    "print(valoresPerdidos)"
   ]
  },
  {
   "cell_type": "markdown",
   "metadata": {
    "id": "ndOws06oETFx"
   },
   "source": [
    "# Desbalance de clases"
   ]
  },
  {
   "cell_type": "code",
   "execution_count": 27,
   "metadata": {
    "colab": {
     "base_uri": "https://localhost:8080/"
    },
    "id": "uNTm4jLBES5u",
    "outputId": "e80ecf5d-ba01-4e9c-e2d6-3038f4cb28fe"
   },
   "outputs": [
    {
     "name": "stdout",
     "output_type": "stream",
     "text": [
      "edad mayor:  69.0\n",
      "edad menor:  18.0\n",
      "edad mayoritaria:  301\n",
      "edad minoritaria:  223\n",
      "IR edad:  1.3497757847533631\n"
     ]
    }
   ],
   "source": [
    "Edad = df[\"Age\"]\n",
    "EdadMax = Edad.max()\n",
    "print(\"edad mayor: \", EdadMax)\n",
    "EdadMin = Edad.min()\n",
    "print(\"edad menor: \", EdadMin)\n",
    "EdadMayor = pd.to_numeric(Edad.value_counts().max())\n",
    "print(\"edad mayoritaria: \", EdadMayor)\n",
    "EdadMenor = pd.to_numeric(Edad.value_counts().min())\n",
    "print(\"edad minoritaria: \",EdadMenor)\n",
    "DesbalanceEdad = EdadMayor/EdadMenor\n",
    "print(\"IR edad: \",DesbalanceEdad)"
   ]
  },
  {
   "cell_type": "code",
   "execution_count": 28,
   "metadata": {
    "colab": {
     "base_uri": "https://localhost:8080/"
    },
    "id": "Tn1T_PYXEXQV",
    "outputId": "2a7ec47d-dabe-48e6-c4f5-d2dc24bb2aaf"
   },
   "outputs": [
    {
     "name": "stdout",
     "output_type": "stream",
     "text": [
      "Genero mayor:  Female\n",
      "Genero menor:  Male\n",
      "Genero mayoritario:  4818\n",
      "Genero minoritario:  4690\n",
      "IR genero:  1.0272921108742004\n"
     ]
    }
   ],
   "source": [
    "genero = df[\"Gender\"]\n",
    "generoMasRepetido= genero.value_counts().idxmax()\n",
    "print(\"Genero mayor: \", generoMasRepetido)\n",
    "generoMin= genero.value_counts().idxmin()\n",
    "print(\"Genero menor: \", generoMin)\n",
    "generoMayor= pd.to_numeric(genero.value_counts().max())\n",
    "print(\"Genero mayoritario: \", generoMayor)\n",
    "generoMenor= pd.to_numeric(genero.value_counts().min())\n",
    "print(\"Genero minoritario: \",generoMenor)\n",
    "DesbalanceGenero=generoMayor/generoMenor\n",
    "print(\"IR genero: \",DesbalanceGenero)"
   ]
  },
  {
   "cell_type": "code",
   "execution_count": 29,
   "metadata": {
    "colab": {
     "base_uri": "https://localhost:8080/"
    },
    "id": "kv1i33GlEZLz",
    "outputId": "2b01f41d-5d69-40be-a6cf-6fedd4c5d92d"
   },
   "outputs": [
    {
     "name": "stdout",
     "output_type": "stream",
     "text": [
      "Pais mas repetido:  France\n",
      "Pais menos repetido:  USA\n",
      "Pais mayoritario:  2444\n",
      "Pais minoritario:  2230\n",
      "IR Pais:  1.0959641255605381\n"
     ]
    }
   ],
   "source": [
    "Pais = df[\"Country\"]\n",
    "PaisMasRepetido= Pais.value_counts().idxmax()\n",
    "print(\"Pais mas repetido: \", PaisMasRepetido)\n",
    "PaisMin= Pais.value_counts().idxmin()\n",
    "print(\"Pais menos repetido: \", PaisMin)\n",
    "PaisMayor= pd.to_numeric(Pais.value_counts().max())\n",
    "print(\"Pais mayoritario: \", PaisMayor)\n",
    "PaisMenor= pd.to_numeric(Pais.value_counts().min())\n",
    "print(\"Pais minoritario: \",PaisMenor)\n",
    "DesbalancePais=PaisMayor/PaisMenor\n",
    "print(\"IR Pais: \",DesbalancePais)"
   ]
  },
  {
   "cell_type": "code",
   "execution_count": 30,
   "metadata": {
    "colab": {
     "base_uri": "https://localhost:8080/"
    },
    "id": "dPiC4FYDEbbF",
    "outputId": "6edbb59d-953f-4347-e929-3bab4b8f5d7a"
   },
   "outputs": [
    {
     "name": "stdout",
     "output_type": "stream",
     "text": [
      "Importe Mayor:  499.95\n",
      "Importe Menor:  5.05\n",
      "Rango mayoritario:  2717\n",
      "Rango minoritario:  2538\n",
      "IR rango:  1.0705279747832939\n"
     ]
    }
   ],
   "source": [
    "Importe = df[\"Purchase Amount\"]\n",
    "ImporteMayor= Importe.max()\n",
    "rangos=np.arange(0,ImporteMayor+100,100)\n",
    "ImporteEnRangos= pd.cut(Importe, bins=rangos)\n",
    "df['rango'] = ImporteEnRangos\n",
    "print(\"Importe Mayor: \", Importe.max())\n",
    "print(\"Importe Menor: \", Importe.min())\n",
    "RangoMayor = df['rango'].value_counts().max()\n",
    "print(\"Rango mayoritario: \", RangoMayor)\n",
    "RangoMenor = df['rango'].value_counts().min()\n",
    "print(\"Rango minoritario: \", RangoMenor)\n",
    "DesbalanceRango=RangoMayor/RangoMenor\n",
    "print(\"IR rango: \",DesbalanceRango)"
   ]
  },
  {
   "cell_type": "code",
   "execution_count": 31,
   "metadata": {
    "colab": {
     "base_uri": "https://localhost:8080/"
    },
    "id": "_zOxpweYEdTF",
    "outputId": "84692270-35fc-4144-d730-d0121bd62c9a"
   },
   "outputs": [
    {
     "name": "stdout",
     "output_type": "stream",
     "text": [
      "Año mas repetido:  2020.0\n",
      "Año menos repetido:  2022.0\n",
      "Año mayoritario:  3544\n",
      "Año minoritario:  3419\n",
      "IR año:  1.0365603977771278\n"
     ]
    }
   ],
   "source": [
    "fechas = pd.to_datetime(df['Purchase Date'])\n",
    "df['año'] = fechas.dt.year\n",
    "año_mas_repetido= df['año'].value_counts().idxmax()\n",
    "print(\"Año mas repetido: \", año_mas_repetido)\n",
    "año_menos_repetido= df['año'].value_counts().idxmin()\n",
    "print(\"Año menos repetido: \", año_menos_repetido)\n",
    "añoMayor= pd.to_numeric(df['año'].value_counts().max())\n",
    "print(\"Año mayoritario: \", añoMayor)\n",
    "añoMenor= pd.to_numeric(df['año'].value_counts().min())\n",
    "print(\"Año minoritario: \",añoMenor)\n",
    "DesbalanceAño=añoMayor/añoMenor\n",
    "print(\"IR año: \",DesbalanceAño)\n"
   ]
  },
  {
   "cell_type": "code",
   "execution_count": 32,
   "metadata": {
    "colab": {
     "base_uri": "https://localhost:8080/"
    },
    "id": "-SCnK-NkEnP0",
    "outputId": "4828ef3c-84c5-4afb-97b6-e36d39fd425f"
   },
   "outputs": [
    {
     "name": "stdout",
     "output_type": "stream",
     "text": [
      "Categoria mas repetida:  Clothing\n",
      "Categoria menos repetida:  Beauty\n",
      "Categoria mayoritario:  2444\n",
      "Categoria minoritario:  2284\n",
      "IR categoria:  1.0700525394045535\n"
     ]
    }
   ],
   "source": [
    "categorias = df[\"Product Category\"]\n",
    "categoriasMasRepetidas = categorias.value_counts().idxmax()\n",
    "print(\"Categoria mas repetida: \", categoriasMasRepetidas)\n",
    "categoriasMenosRepetidas = categorias.value_counts().idxmin()\n",
    "print(\"Categoria menos repetida: \", categoriasMenosRepetidas)\n",
    "categoriasMayor = pd.to_numeric(categorias.value_counts().max())\n",
    "print(\"Categoria mayoritario: \", categoriasMayor)\n",
    "categoriasMenor = pd.to_numeric(categorias.value_counts().min())\n",
    "print(\"Categoria minoritario: \",categoriasMenor)\n",
    "DesbalanceCategorias =categoriasMayor/categoriasMenor\n",
    "print(\"IR categoria: \",DesbalanceCategorias)"
   ]
  },
  {
   "cell_type": "markdown",
   "metadata": {
    "id": "yo_V8B1TE4M1"
   },
   "source": [
    "# Valores Atipicos"
   ]
  },
  {
   "cell_type": "code",
   "execution_count": 33,
   "metadata": {
    "colab": {
     "base_uri": "https://localhost:8080/"
    },
    "id": "bI30PYIGE6L5",
    "outputId": "078abe65-0b6b-4cdb-edaa-b68ad634e362"
   },
   "outputs": [
    {
     "data": {
      "text/plain": [
       "(69.0, 18.0)"
      ]
     },
     "execution_count": 33,
     "metadata": {},
     "output_type": "execute_result"
    }
   ],
   "source": [
    "df['Age'].max(), df['Age'].min()"
   ]
  },
  {
   "cell_type": "code",
   "execution_count": 36,
   "metadata": {
    "colab": {
     "base_uri": "https://localhost:8080/",
     "height": 458
    },
    "id": "dmUg7VUDFgyt",
    "outputId": "ac5bf291-0ed9-4da1-892c-dd5bbf60143c"
   },
   "outputs": [
    {
     "data": {
      "text/plain": [
       "0        1637452800000000000\n",
       "1        1646438400000000000\n",
       "2       -9223372036854775808\n",
       "3        1686182400000000000\n",
       "4       -9223372036854775808\n",
       "                ...         \n",
       "14995    1692489600000000000\n",
       "14996    1626998400000000000\n",
       "14997    1645401600000000000\n",
       "14998    1661385600000000000\n",
       "14999    1590624000000000000\n",
       "Name: Purchase Date, Length: 15000, dtype: int64"
      ]
     },
     "execution_count": 36,
     "metadata": {},
     "output_type": "execute_result"
    }
   ],
   "source": [
    "pd.to_datetime(df['Purchase Date']).astype('int64') "
   ]
  },
  {
   "cell_type": "markdown",
   "metadata": {
    "id": "JECfFqUSHE3j"
   },
   "source": [
    "# Outliers"
   ]
  },
  {
   "cell_type": "code",
   "execution_count": 37,
   "metadata": {
    "id": "gr87Ph4_Fw43"
   },
   "outputs": [],
   "source": [
    "def outliers(col):\n",
    "  Q1 = df[col].quantile(0.25)\n",
    "  Q3 = df[col].quantile(0.75)\n",
    "  IQR = Q3 - Q1 \n",
    "  return df[(df[col] < (Q1 - 1.5 * IQR)) | (df[col] > (Q3 + 1.5 * IQR))]"
   ]
  },
  {
   "cell_type": "code",
   "execution_count": 38,
   "metadata": {
    "colab": {
     "base_uri": "https://localhost:8080/",
     "height": 53
    },
    "id": "CJ7hV8m1Gink",
    "outputId": "800875f1-1c84-4a68-f155-49aa695ffe0e"
   },
   "outputs": [
    {
     "data": {
      "text/html": [
       "<div>\n",
       "<style scoped>\n",
       "    .dataframe tbody tr th:only-of-type {\n",
       "        vertical-align: middle;\n",
       "    }\n",
       "\n",
       "    .dataframe tbody tr th {\n",
       "        vertical-align: top;\n",
       "    }\n",
       "\n",
       "    .dataframe thead th {\n",
       "        text-align: right;\n",
       "    }\n",
       "</style>\n",
       "<table border=\"1\" class=\"dataframe\">\n",
       "  <thead>\n",
       "    <tr style=\"text-align: right;\">\n",
       "      <th></th>\n",
       "      <th>User ID</th>\n",
       "      <th>Age</th>\n",
       "      <th>Gender</th>\n",
       "      <th>Country</th>\n",
       "      <th>Purchase Amount</th>\n",
       "      <th>Purchase Date</th>\n",
       "      <th>Product Category</th>\n",
       "      <th>Continent</th>\n",
       "      <th>rango</th>\n",
       "      <th>año</th>\n",
       "    </tr>\n",
       "  </thead>\n",
       "  <tbody>\n",
       "  </tbody>\n",
       "</table>\n",
       "</div>"
      ],
      "text/plain": [
       "Empty DataFrame\n",
       "Columns: [User ID, Age, Gender, Country, Purchase Amount, Purchase Date, Product Category, Continent, rango, año]\n",
       "Index: []"
      ]
     },
     "execution_count": 38,
     "metadata": {},
     "output_type": "execute_result"
    }
   ],
   "source": [
    "outliers('Purchase Amount')"
   ]
  },
  {
   "cell_type": "code",
   "execution_count": 39,
   "metadata": {
    "id": "di6v7VoTHLz4"
   },
   "outputs": [
    {
     "data": {
      "text/html": [
       "<div>\n",
       "<style scoped>\n",
       "    .dataframe tbody tr th:only-of-type {\n",
       "        vertical-align: middle;\n",
       "    }\n",
       "\n",
       "    .dataframe tbody tr th {\n",
       "        vertical-align: top;\n",
       "    }\n",
       "\n",
       "    .dataframe thead th {\n",
       "        text-align: right;\n",
       "    }\n",
       "</style>\n",
       "<table border=\"1\" class=\"dataframe\">\n",
       "  <thead>\n",
       "    <tr style=\"text-align: right;\">\n",
       "      <th></th>\n",
       "      <th>User ID</th>\n",
       "      <th>Age</th>\n",
       "      <th>Gender</th>\n",
       "      <th>Country</th>\n",
       "      <th>Purchase Amount</th>\n",
       "      <th>Purchase Date</th>\n",
       "      <th>Product Category</th>\n",
       "      <th>Continent</th>\n",
       "      <th>rango</th>\n",
       "      <th>año</th>\n",
       "    </tr>\n",
       "  </thead>\n",
       "  <tbody>\n",
       "  </tbody>\n",
       "</table>\n",
       "</div>"
      ],
      "text/plain": [
       "Empty DataFrame\n",
       "Columns: [User ID, Age, Gender, Country, Purchase Amount, Purchase Date, Product Category, Continent, rango, año]\n",
       "Index: []"
      ]
     },
     "execution_count": 39,
     "metadata": {},
     "output_type": "execute_result"
    }
   ],
   "source": [
    "outliers('Age')"
   ]
  },
  {
   "cell_type": "code",
   "execution_count": 42,
   "metadata": {
    "colab": {
     "base_uri": "https://localhost:8080/"
    },
    "id": "eSQlkGwGJxOn",
    "outputId": "b6502900-e019-4fba-ef67-56a10796aed4"
   },
   "outputs": [
    {
     "data": {
      "text/plain": [
       "1050"
      ]
     },
     "execution_count": 42,
     "metadata": {},
     "output_type": "execute_result"
    }
   ],
   "source": [
    "df['Purchase Date'] = pd.to_datetime(df['Purchase Date'])\n",
    "df['seg'] = df['Purchase Date'].astype('int64') / 10**9\n",
    "atipic = outliers('seg')\n",
    "atipic.shape[0]"
   ]
  },
  {
   "cell_type": "code",
   "execution_count": 43,
   "metadata": {
    "colab": {
     "base_uri": "https://localhost:8080/"
    },
    "id": "NnPaNkR2J9Uu",
    "outputId": "1539d111-3faa-4154-fcd3-6ab217db479a"
   },
   "outputs": [
    {
     "data": {
      "text/plain": [
       "1050"
      ]
     },
     "execution_count": 43,
     "metadata": {},
     "output_type": "execute_result"
    }
   ],
   "source": [
    "df['Purchase Date'].isna().sum()"
   ]
  },
  {
   "cell_type": "code",
   "execution_count": 50,
   "metadata": {
    "colab": {
     "base_uri": "https://localhost:8080/",
     "height": 332
    },
    "id": "Iql-z6WCJ_jH",
    "outputId": "91d49e16-7034-4856-d4be-a554b417936a"
   },
   "outputs": [
    {
     "ename": "AttributeError",
     "evalue": "module 'scipy.stats' has no attribute 'chi_squared_test'",
     "output_type": "error",
     "traceback": [
      "\u001b[1;31m---------------------------------------------------------------------------\u001b[0m",
      "\u001b[1;31mAttributeError\u001b[0m                            Traceback (most recent call last)",
      "Cell \u001b[1;32mIn[50], line 46\u001b[0m\n\u001b[0;32m     42\u001b[0m   \u001b[38;5;28;01mreturn\u001b[39;00m result\n\u001b[0;32m     45\u001b[0m \u001b[38;5;66;03m# Ejemplos de uso:\u001b[39;00m\n\u001b[1;32m---> 46\u001b[0m \u001b[43manalyze_relationship\u001b[49m\u001b[43m(\u001b[49m\u001b[43mdf\u001b[49m\u001b[43m,\u001b[49m\u001b[43m \u001b[49m\u001b[38;5;124;43m'\u001b[39;49m\u001b[38;5;124;43mGender\u001b[39;49m\u001b[38;5;124;43m'\u001b[39;49m\u001b[43m,\u001b[49m\u001b[43m \u001b[49m\u001b[38;5;124;43m'\u001b[39;49m\u001b[38;5;124;43mProduct Category\u001b[39;49m\u001b[38;5;124;43m'\u001b[39;49m\u001b[43m)\u001b[49m \u001b[38;5;66;03m# Categórica vs Categórica\u001b[39;00m\n\u001b[0;32m     47\u001b[0m analyze_relationship(df, \u001b[38;5;124m'\u001b[39m\u001b[38;5;124mAge\u001b[39m\u001b[38;5;124m'\u001b[39m, \u001b[38;5;124m'\u001b[39m\u001b[38;5;124mPurchase Amount\u001b[39m\u001b[38;5;124m'\u001b[39m) \u001b[38;5;66;03m# Numérica vs Numérica\u001b[39;00m\n\u001b[0;32m     48\u001b[0m analyze_relationship(df, \u001b[38;5;124m'\u001b[39m\u001b[38;5;124mGender\u001b[39m\u001b[38;5;124m'\u001b[39m, \u001b[38;5;124m'\u001b[39m\u001b[38;5;124mPurchase Amount\u001b[39m\u001b[38;5;124m'\u001b[39m) \u001b[38;5;66;03m# Categórica (convertida a numérica) vs Numérica\u001b[39;00m\n",
      "Cell \u001b[1;32mIn[50], line 28\u001b[0m, in \u001b[0;36manalyze_relationship\u001b[1;34m(df, col1, col2)\u001b[0m\n\u001b[0;32m     25\u001b[0m \u001b[38;5;66;03m# si son categoricas \u001b[39;00m\n\u001b[0;32m     26\u001b[0m \u001b[38;5;28;01melif\u001b[39;00m \u001b[38;5;129;01mnot\u001b[39;00m pd\u001b[38;5;241m.\u001b[39mapi\u001b[38;5;241m.\u001b[39mtypes\u001b[38;5;241m.\u001b[39mis_numeric_dtype(df[col1]) \u001b[38;5;129;01mand\u001b[39;00m \u001b[38;5;129;01mnot\u001b[39;00m pd\u001b[38;5;241m.\u001b[39mapi\u001b[38;5;241m.\u001b[39mtypes\u001b[38;5;241m.\u001b[39mis_numeric_dtype(df[col2]):\n\u001b[0;32m     27\u001b[0m   \u001b[38;5;66;03m# Realizar una prueba de chi-cuadrado si ambas son categóricas\u001b[39;00m\n\u001b[1;32m---> 28\u001b[0m   chi2, p, dof, expected \u001b[38;5;241m=\u001b[39m \u001b[43mstats\u001b[49m\u001b[38;5;241;43m.\u001b[39;49m\u001b[43mchi_squared_test\u001b[49m(df, col1, col2)\n\u001b[0;32m     29\u001b[0m   result[\u001b[38;5;124m'\u001b[39m\u001b[38;5;124mchi2\u001b[39m\u001b[38;5;124m'\u001b[39m] \u001b[38;5;241m=\u001b[39m chi2\n\u001b[0;32m     30\u001b[0m   result[\u001b[38;5;124m'\u001b[39m\u001b[38;5;124mp_value\u001b[39m\u001b[38;5;124m'\u001b[39m] \u001b[38;5;241m=\u001b[39m p\n",
      "\u001b[1;31mAttributeError\u001b[0m: module 'scipy.stats' has no attribute 'chi_squared_test'"
     ]
    }
   ],
   "source": [
    "\n",
    "import scipy.stats as stats\n",
    "\n",
    "def analyze_relationship(df, col1, col2):\n",
    "  \"\"\"\n",
    "\n",
    "\n",
    "  Args:\n",
    "    df: El DataFrame que contiene los datos.\n",
    "    col1: El nombre de la primera columna.\n",
    "    col2: El nombre de la segunda columna.\n",
    "\n",
    "  Returns:\n",
    "    Un diccionario con la información sobre la relación entre las variables.\n",
    "  \"\"\"\n",
    "\n",
    "  result = {}\n",
    "\n",
    "  # Verificar si las variables son categóricas o numéricas\n",
    "  if pd.api.types.is_numeric_dtype(df[col1]) and pd.api.types.is_numeric_dtype(df[col2]):\n",
    "    # Calcular la correlación si ambas son numéricas\n",
    "    correlation = df[col1].corr(df[col2])\n",
    "    result['correlation'] = correlation\n",
    "    print(f\"La correlación entre {col1} y {col2} es: {correlation}\")\n",
    "\n",
    "  # si son categoricas \n",
    "  elif not pd.api.types.is_numeric_dtype(df[col1]) and not pd.api.types.is_numeric_dtype(df[col2]):\n",
    "    # Realizar una prueba de chi-cuadrado si ambas son categóricas\n",
    "    chi2, p, dof, expected = stats.chi_squared_test(df, col1, col2)\n",
    "    result['chi2'] = chi2\n",
    "    result['p_value'] = p\n",
    "    result['dof'] = dof\n",
    "    result['expected'] = expected\n",
    "    print(f\"Prueba de chi-cuadrado entre {col1} y {col2}:\")\n",
    "    print(f\"Estadística de chi-cuadrado: {chi2}\")\n",
    "    print(f\"Valor p: {p}\")\n",
    "    print(f\"Grados de libertad: {dof}\")\n",
    "    print(f\"Tabla de contingencia esperada:\\n{expected}\")\n",
    "\n",
    "  else:\n",
    "    print(f\"Las variables {col1} y {col2} no son del mismo tipo (numérica o categórica).\")\n",
    "\n",
    "  return result\n",
    "\n",
    "\n",
    "# Ejemplos de uso:\n",
    "analyze_relationship(df, 'Gender', 'Product Category') # Categórica vs Categórica\n",
    "analyze_relationship(df, 'Age', 'Purchase Amount') # Numérica vs Numérica\n",
    "analyze_relationship(df, 'Gender', 'Purchase Amount') # Categórica (convertida a numérica) vs Numérica"
   ]
  },
  {
   "cell_type": "code",
   "execution_count": null,
   "metadata": {
    "id": "2YyBbwfxKC1I"
   },
   "outputs": [],
   "source": []
  }
 ],
 "metadata": {
  "colab": {
   "provenance": []
  },
  "kernelspec": {
   "display_name": "Python 3 (ipykernel)",
   "language": "python",
   "name": "python3"
  },
  "language_info": {
   "codemirror_mode": {
    "name": "ipython",
    "version": 3
   },
   "file_extension": ".py",
   "mimetype": "text/x-python",
   "name": "python",
   "nbconvert_exporter": "python",
   "pygments_lexer": "ipython3",
   "version": "3.12.3"
  }
 },
 "nbformat": 4,
 "nbformat_minor": 4
}
