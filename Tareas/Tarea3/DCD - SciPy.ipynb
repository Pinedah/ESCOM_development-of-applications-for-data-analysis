{
 "cells": [
  {
   "cell_type": "markdown",
   "metadata": {},
   "source": [
    "# Desarrollo de Aplicaciones para Análisis de Datos\n",
    "----------------------------"
   ]
  },
  {
   "cell_type": "markdown",
   "metadata": {},
   "source": [
    "## SciPy\n",
    "Es una biblioteca fundamental para la ciencia de datos en Python que se construye sobre NumPy y proporciona funcionalidades adicionales para una amplia gama de aplicaciones científicas y técnicas."
   ]
  },
  {
   "cell_type": "markdown",
   "metadata": {},
   "source": [
    "**1. Funciones Especiales:** SciPy incluye una extensa colección de funciones matemáticas especiales que son útiles en diversas aplicaciones científicas."
   ]
  },
  {
   "cell_type": "code",
   "execution_count": null,
   "metadata": {},
   "outputs": [],
   "source": [
    "import scipy.special\n",
    "\n",
    "# Calcular la función gamma de un número\n",
    "resultado = scipy.special.gamma(5)"
   ]
  },
  {
   "cell_type": "markdown",
   "metadata": {},
   "source": [
    "**2. Optimización:** SciPy ofrece algoritmos de optimización para encontrar los mínimos o máximos de funciones, lo que es crucial en la optimización de modelos de aprendizaje automático."
   ]
  },
  {
   "cell_type": "code",
   "execution_count": null,
   "metadata": {},
   "outputs": [],
   "source": [
    "from scipy.optimize import minimize\n",
    "\n",
    "# Definir una función de coste\n",
    "def funcion_coste(x):\n",
    "    return (x[0] - 2) ** 2 + (x[1] - 3) ** 2\n",
    "\n",
    "# Encontrar el mínimo de la función\n",
    "resultado = minimize(funcion_coste, [0, 0])"
   ]
  },
  {
   "cell_type": "markdown",
   "metadata": {},
   "source": [
    "**3. Integración Numérica:** SciPy proporciona herramientas para realizar integración numérica de funciones."
   ]
  },
  {
   "cell_type": "code",
   "execution_count": null,
   "metadata": {},
   "outputs": [],
   "source": [
    "from scipy.integrate import quad\n",
    "\n",
    "# Definir la función a integrar\n",
    "def funcion_a_integrar(x):\n",
    "    return x ** 2\n",
    "\n",
    "# Realizar la integración definida\n",
    "resultado, error = quad(funcion_a_integrar, 0, 1)"
   ]
  },
  {
   "cell_type": "markdown",
   "metadata": {},
   "source": [
    "**4. Álgebra Lineal:** SciPy contiene funciones y herramientas adicionales para álgebra lineal que complementan las de NumPy."
   ]
  },
  {
   "cell_type": "code",
   "execution_count": null,
   "metadata": {},
   "outputs": [],
   "source": [
    "from scipy.linalg import inv\n",
    "\n",
    "# Calcular la matriz inversa\n",
    "matriz = np.array([[1, 2], [3, 4]])\n",
    "matriz_inversa = inv(matriz)"
   ]
  },
  {
   "cell_type": "markdown",
   "metadata": {},
   "source": [
    "**5. Interpolación:** SciPy proporciona funciones para realizar interpolación de datos."
   ]
  },
  {
   "cell_type": "code",
   "execution_count": null,
   "metadata": {},
   "outputs": [],
   "source": [
    "from scipy.interpolate import interp1d\n",
    "\n",
    "# Definir datos de entrada\n",
    "x = np.array([0, 1, 2, 3, 4])\n",
    "y = np.array([0, 1, 4, 9, 16])\n",
    "\n",
    "# Crear una función interpoladora\n",
    "interpolador = interp1d(x, y, kind='linear')"
   ]
  },
  {
   "cell_type": "markdown",
   "metadata": {},
   "source": [
    "**6. Transformada de Fourier:** SciPy ofrece herramientas para realizar transformadas de Fourier y análisis de señales."
   ]
  },
  {
   "cell_type": "code",
   "execution_count": null,
   "metadata": {},
   "outputs": [],
   "source": [
    "from scipy.fft import fft\n",
    "\n",
    "# Realizar una transformada de Fourier\n",
    "senal = np.array([1, 2, 3, 4])\n",
    "transformada = fft(senal)"
   ]
  },
  {
   "cell_type": "markdown",
   "metadata": {},
   "source": [
    "**7. Procesamiento de Imágenes:** SciPy incluye funciones para el procesamiento y manipulación de imágenes."
   ]
  },
  {
   "cell_type": "code",
   "execution_count": null,
   "metadata": {},
   "outputs": [],
   "source": [
    "from scipy import ndimage, misc\n",
    "\n",
    "# Leer una imagen\n",
    "imagen = misc.imread('imagen.png')\n",
    "\n",
    "# Aplicar un filtro de suavizado\n",
    "imagen_suavizada = ndimage.gaussian_filter(imagen, sigma=2)"
   ]
  },
  {
   "cell_type": "markdown",
   "metadata": {},
   "source": [
    "**8. Estadísticas:** SciPy proporciona funciones estadísticas avanzadas para realizar pruebas hipotéticas, ajustar distribuciones y calcular estadísticas resumidas."
   ]
  },
  {
   "cell_type": "code",
   "execution_count": null,
   "metadata": {},
   "outputs": [],
   "source": [
    "from scipy import stats\n",
    "\n",
    "# Realizar una prueba t de Student\n",
    "datos = np.array([12, 15, 14, 16, 13])\n",
    "t_stat, p_valor = stats.ttest_1samp(datos, 14)"
   ]
  },
  {
   "cell_type": "markdown",
   "metadata": {},
   "source": [
    "En conclusión:\n",
    "- SciPy es una biblioteca esencial en la caja de herramientas de cualquier científico de datos o ingeniero que trabaja en aplicaciones científicas y técnicas. \n",
    "- Proporciona una amplia gama de funcionalidades avanzadas que son fundamentales para la investigación, el análisis de datos y la resolución de problemas complejos en campos como la física, la ingeniería, la biología y muchas otras disciplinas científicas."
   ]
  },
  {
   "cell_type": "code",
   "execution_count": null,
   "metadata": {},
   "outputs": [],
   "source": []
  }
 ],
 "metadata": {
  "kernelspec": {
   "display_name": "Python 3 (ipykernel)",
   "language": "python",
   "name": "python3"
  },
  "language_info": {
   "codemirror_mode": {
    "name": "ipython",
    "version": 3
   },
   "file_extension": ".py",
   "mimetype": "text/x-python",
   "name": "python",
   "nbconvert_exporter": "python",
   "pygments_lexer": "ipython3",
   "version": "3.11.7"
  }
 },
 "nbformat": 4,
 "nbformat_minor": 4
}
