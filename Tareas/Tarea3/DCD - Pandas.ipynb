{
 "cells": [
  {
   "cell_type": "markdown",
   "metadata": {},
   "source": [
    "# Desarrollo de Aplicaciones para Análisis de Datos\n",
    "----------------------------"
   ]
  },
  {
   "cell_type": "markdown",
   "metadata": {},
   "source": [
    "## Pandas\n",
    "Pandas es una biblioteca esencial para la ciencia de datos en Python que se utiliza para la manipulación y análisis de datos tabulares. "
   ]
  },
  {
   "cell_type": "markdown",
   "metadata": {},
   "source": [
    "**1. Estructuras de Datos:** Pandas proporciona dos estructuras de datos principales: DataFrame y Series. &nbsp;\n",
    "\n",
    "- Un *DataFrame* es una estructura de datos bidimensional similar a una tabla de base de datos. \n",
    "- Una *Series* es una estructura de datos unidimensional que es similar a una columna en una hoja de cálculo."
   ]
  },
  {
   "cell_type": "markdown",
   "metadata": {},
   "source": [
    "**2. Lectura y Escritura de Datos:** Pandas facilita la lectura y escritura de datos desde y hacia una variedad de formatos, como CSV, Excel, SQL y más."
   ]
  },
  {
   "cell_type": "code",
   "execution_count": null,
   "metadata": {},
   "outputs": [],
   "source": [
    "import pandas as pd\n",
    "\n",
    "# Leer un archivo CSV\n",
    "df = pd.read_csv('datos.csv')\n",
    "\n",
    "# Escribir a un archivo CSV\n",
    "df.to_csv('nuevos_datos.csv', index=False)"
   ]
  },
  {
   "cell_type": "markdown",
   "metadata": {},
   "source": [
    "**3. Indexación y Selección:** Pandas permite acceder a datos específicos dentro de un DataFrame o Series."
   ]
  },
  {
   "cell_type": "code",
   "execution_count": null,
   "metadata": {},
   "outputs": [],
   "source": [
    "# Acceder a una columna\n",
    "columna = df['nombre_columna']\n",
    "\n",
    "# Seleccionar filas basadas en una condición\n",
    "df_filtrado = df[df['columna'] > 50]"
   ]
  },
  {
   "cell_type": "markdown",
   "metadata": {},
   "source": [
    "**4. Manipulación de Datos:** Pandas proporciona una amplia gama de funciones para manipular y transformar datos, incluyendo la eliminación de duplicados, la agregación, la concatenación y la pivotación."
   ]
  },
  {
   "cell_type": "code",
   "execution_count": null,
   "metadata": {},
   "outputs": [],
   "source": [
    "# Eliminar duplicados\n",
    "df_sin_duplicados = df.drop_duplicates()\n",
    "\n",
    "# Agregar datos\n",
    "suma_por_categoria = df.groupby('categoria')['valor'].sum()\n",
    "\n",
    "# Concatenar DataFrames\n",
    "nuevo_df = pd.concat([df1, df2])"
   ]
  },
  {
   "cell_type": "markdown",
   "metadata": {},
   "source": [
    "**5. Valores Faltantes:** Pandas facilita la detección y manejo de valores faltantes en los datos."
   ]
  },
  {
   "cell_type": "code",
   "execution_count": null,
   "metadata": {},
   "outputs": [],
   "source": [
    "# Detección de valores faltantes\n",
    "valores_faltantes = df.isnull().sum()\n",
    "\n",
    "# Rellenar valores faltantes\n",
    "df['columna'].fillna(0, inplace=True)"
   ]
  },
  {
   "cell_type": "markdown",
   "metadata": {},
   "source": [
    "**6. Estadísticas Descriptivas:** Pandas permite calcular estadísticas descriptivas básicas de los datos."
   ]
  },
  {
   "cell_type": "code",
   "execution_count": null,
   "metadata": {},
   "outputs": [],
   "source": [
    "# Calcular la media\n",
    "media = df['columna'].mean()\n",
    "\n",
    "# Calcular la mediana\n",
    "mediana = df['columna'].median()\n",
    "\n",
    "# Calcular la desviación estándar\n",
    "desviacion_estandar = df['columna'].std()"
   ]
  },
  {
   "cell_type": "markdown",
   "metadata": {},
   "source": [
    "**7. Visualización de Datos:** Pandas se integra bien con bibliotecas de visualización como Matplotlib y Seaborn para crear gráficos y visualizaciones de datos."
   ]
  },
  {
   "cell_type": "code",
   "execution_count": null,
   "metadata": {},
   "outputs": [],
   "source": [
    "import matplotlib.pyplot as plt\n",
    "\n",
    "# Crear un gráfico de barras\n",
    "df['columna'].plot(kind='bar')\n",
    "plt.show()"
   ]
  },
  {
   "cell_type": "markdown",
   "metadata": {},
   "source": [
    "**8. Interoperabilidad:** Pandas se integra fácilmente con otras bibliotecas de ciencia de datos, como NumPy y scikit-learn."
   ]
  },
  {
   "cell_type": "code",
   "execution_count": null,
   "metadata": {},
   "outputs": [],
   "source": [
    "import numpy as np\n",
    "from sklearn.model_selection import train_test_split\n",
    "\n",
    "# Convertir un DataFrame de Pandas en un arreglo NumPy\n",
    "X = df.values\n",
    "\n",
    "# Dividir datos en entrenamiento y prueba\n",
    "X_train, X_test = train_test_split(df, test_size=0.2)"
   ]
  },
  {
   "cell_type": "markdown",
   "metadata": {},
   "source": [
    "Como conclusión: \n",
    "  - Es una herramienta poderosa y versátil para trabajar con datos tabulares en Python. \n",
    "  - Su facilidad de uso y sus capacidades de manipulación de datos hacen que sea esencial para la limpieza, exploración y análisis de datos en proyectos de ciencia de datos."
   ]
  },
  {
   "cell_type": "code",
   "execution_count": null,
   "metadata": {},
   "outputs": [],
   "source": []
  }
 ],
 "metadata": {
  "kernelspec": {
   "display_name": "Python 3",
   "language": "python",
   "name": "python3"
  },
  "language_info": {
   "codemirror_mode": {
    "name": "ipython",
    "version": 3
   },
   "file_extension": ".py",
   "mimetype": "text/x-python",
   "name": "python",
   "nbconvert_exporter": "python",
   "pygments_lexer": "ipython3",
   "version": "3.8.5"
  }
 },
 "nbformat": 4,
 "nbformat_minor": 4
}
