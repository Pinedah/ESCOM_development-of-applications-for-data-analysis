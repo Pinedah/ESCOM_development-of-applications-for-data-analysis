{
 "cells": [
  {
   "cell_type": "markdown",
   "metadata": {},
   "source": [
    "# Desarrollo de Aplicaciones para Análisis de Datos\n",
    "----------------------------"
   ]
  },
  {
   "cell_type": "markdown",
   "metadata": {},
   "source": [
    "## Numpy\n",
    "\n",
    "Es una biblioteca esencial para la ciencia de datos en Python. \n",
    "Su característica más importante es la manipulación eficiente de arreglos multidimensionales, lo que la convierte en la base de muchas otras bibliotecas de análisis de datos en Python, como pandas y scikit-learn"
   ]
  },
  {
   "cell_type": "markdown",
   "metadata": {},
   "source": [
    "**1. Areglos Numéricos:** NumPy introduce el objeto ndarray, que es una estructura de datos multidimensional que permite el almacenamiento y manipulación eficiente de datos numéricos."
   ]
  },
  {
   "cell_type": "code",
   "execution_count": null,
   "metadata": {},
   "outputs": [],
   "source": [
    "import numpy as np\n",
    "\n",
    "# Crear un arreglo NumPy\n",
    "arr = np.array([1, 2, 3, 4, 5])"
   ]
  },
  {
   "cell_type": "markdown",
   "metadata": {},
   "source": [
    "**2. Eficiencia:** NumPy está implementada en C, lo que la hace mucho más rápida que las listas de Python estándar para operaciones numéricas."
   ]
  },
  {
   "cell_type": "code",
   "execution_count": null,
   "metadata": {},
   "outputs": [],
   "source": [
    "# Operación simple con listas de Python\n",
    "lista = [1, 2, 3]\n",
    "lista_duplicada = [x * 2 for x in lista]\n",
    "\n",
    "# Operación equivalente con NumPy\n",
    "arreglo = np.array([1, 2, 3])\n",
    "arreglo_duplicado = arreglo * 2"
   ]
  },
  {
   "cell_type": "markdown",
   "metadata": {},
   "source": [
    "**3. Funciones Matemáticas:** NumPy proporciona una amplia gama de funciones matemáticas y estadísticas."
   ]
  },
  {
   "cell_type": "code",
   "execution_count": null,
   "metadata": {},
   "outputs": [],
   "source": [
    "# Calcular la media y la desviación estándar\n",
    "datos = np.array([10, 20, 30, 40, 50])\n",
    "media = np.mean(datos)\n",
    "desviacion_estandar = np.std(datos)"
   ]
  },
  {
   "cell_type": "markdown",
   "metadata": {},
   "source": [
    "**4. Indexación y Segmentación:** Puedes acceder a elementos individuales o segmentos de un arreglo NumPy de manera similar a las listas de Python."
   ]
  },
  {
   "cell_type": "code",
   "execution_count": null,
   "metadata": {},
   "outputs": [],
   "source": [
    "# Acceder a elementos\n",
    "elemento = arreglo[2]\n",
    "\n",
    "# Segmentación\n",
    "sub_arreglo = arreglo[1:4]"
   ]
  },
  {
   "cell_type": "markdown",
   "metadata": {},
   "source": [
    "**5. Broadcasting:** NumPy permite operaciones entre arreglos de diferentes tamaños de manera eficiente."
   ]
  },
  {
   "cell_type": "code",
   "execution_count": null,
   "metadata": {},
   "outputs": [],
   "source": [
    "# Broadcasting\n",
    "arreglo1 = np.array([1, 2, 3])\n",
    "arreglo2 = np.array([10, 20, 30])\n",
    "resultado = arreglo1 + arreglo2"
   ]
  },
  {
   "cell_type": "markdown",
   "metadata": {},
   "source": [
    "**6. Álgebra Lineal:** NumPy proporciona una amplia funcionalidad para realizar operaciones de álgebra lineal, como la multiplicación de matrices."
   ]
  },
  {
   "cell_type": "code",
   "execution_count": null,
   "metadata": {},
   "outputs": [],
   "source": [
    "# Multiplicación de matrices\n",
    "matriz1 = np.array([[1, 2], [3, 4]])\n",
    "matriz2 = np.array([[5, 6], [7, 8]])\n",
    "producto = np.dot(matriz1, matriz2)"
   ]
  },
  {
   "cell_type": "markdown",
   "metadata": {},
   "source": [
    "**7. Generación de Números Aleatorios:** NumPy incluye un módulo de generación de números aleatorios para experimentos y simulaciones."
   ]
  },
  {
   "cell_type": "code",
   "execution_count": null,
   "metadata": {},
   "outputs": [],
   "source": [
    "# Generación de números aleatorios\n",
    "numeros_aleatorios = np.random.rand(5)  # Genera 5 números aleatorios entre 0 y 1"
   ]
  },
  {
   "cell_type": "markdown",
   "metadata": {},
   "source": [
    "**8. Interoperabilidad:** NumPy se integra bien con otras bibliotecas de ciencia de datos, como pandas. "
   ]
  },
  {
   "cell_type": "code",
   "execution_count": null,
   "metadata": {},
   "outputs": [],
   "source": [
    "import pandas as pd\n",
    "\n",
    "# Crear un DataFrame de pandas a partir de un arreglo NumPy\n",
    "df = pd.DataFrame({'A': [1, 2, 3], 'B': [4, 5, 6]})"
   ]
  },
  {
   "cell_type": "markdown",
   "metadata": {},
   "source": [
    "En conclusión: \n",
    "   - NumPy proporciona una base sólida para la manipulación y el análisis de datos numéricos. \n",
    "   - Su eficiencia y flexibilidad son esenciales para el procesamiento de datos en aplicaciones de ciencia de datos."
   ]
  },
  {
   "cell_type": "code",
   "execution_count": null,
   "metadata": {},
   "outputs": [],
   "source": []
  }
 ],
 "metadata": {
  "kernelspec": {
   "display_name": "Python 3",
   "language": "python",
   "name": "python3"
  },
  "language_info": {
   "codemirror_mode": {
    "name": "ipython",
    "version": 3
   },
   "file_extension": ".py",
   "mimetype": "text/x-python",
   "name": "python",
   "nbconvert_exporter": "python",
   "pygments_lexer": "ipython3",
   "version": "3.8.5"
  }
 },
 "nbformat": 4,
 "nbformat_minor": 4
}
