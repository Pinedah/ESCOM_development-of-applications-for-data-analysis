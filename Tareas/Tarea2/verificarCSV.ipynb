{
 "cells": [
  {
   "cell_type": "markdown",
   "metadata": {},
   "source": [
    "# Validaciones al formato CSV\n",
    "<hr>\n",
    "<br>\n",
    "\n",
    "### Validación de la estructura. \n",
    "Se verifica si el archivo CSV tiene la cantidad correcta de columnas y el formato esperado en cada columna."
   ]
  },
  {
   "cell_type": "code",
   "execution_count": 5,
   "metadata": {},
   "outputs": [],
   "source": [
    "import pandas as pd"
   ]
  },
  {
   "cell_type": "code",
   "execution_count": 6,
   "metadata": {},
   "outputs": [
    {
     "name": "stdout",
     "output_type": "stream",
     "text": [
      "Las columnas coinciden.\n"
     ]
    }
   ],
   "source": [
    "# Leemos el archivo CSV\n",
    "archivo = 'Spotify.csv'\n",
    "\n",
    "try: \n",
    "    df = pd.read_csv(archivo)\n",
    "except FileNotFoundError:\n",
    "    print(f\"El archivo '{archivo}' no se encuentra en el directorio actual.\")\n",
    "\n",
    "# Se verifican las columnas que deberían ser correctas\n",
    "columnas = [\n",
    "    \"track_name\",\n",
    "    \"artist(s)_name\",\n",
    "    \"artist_count\",\n",
    "    \"released_year\",\n",
    "    \"released_month\",\n",
    "    \"released_day\",\n",
    "    \"in_spotify_playlists\",\n",
    "    \"in_spotify_charts\",\n",
    "    \"streams\",\n",
    "    \"in_apple_playlists\",\n",
    "    \"in_apple_charts\",\n",
    "    \"in_deezer_playlists\",\n",
    "    \"in_deezer_charts\",\n",
    "    \"in_shazam_charts\",\n",
    "    \"bpm\",\n",
    "    \"key\",\n",
    "    \"mode\",\n",
    "    \"danceability_%\",\n",
    "    \"valence_%\",\n",
    "    \"energy_%\",\n",
    "    \"acousticness_%\",\n",
    "    \"instrumentalness_%\",\n",
    "    \"liveness_%\",\n",
    "    \"speechiness_%\",\n",
    "    \"cover_url\"\n",
    "]\n",
    "\n",
    "if columnas == list(df.columns):\n",
    "    print(\"Las columnas coinciden.\")\n",
    "else:\n",
    "    print(\"Las columnas NO coinciden.\")\n"
   ]
  },
  {
   "cell_type": "markdown",
   "metadata": {},
   "source": [
    "<hr><br>\n",
    "\n",
    "### Validación de Tipos de Datos\n",
    "Asegurarse de que cada columna contenga el tipo de datos esperado, por ejemplo, enteros, cadenas o fechas."
   ]
  },
  {
   "cell_type": "code",
   "execution_count": 7,
   "metadata": {},
   "outputs": [
    {
     "name": "stdout",
     "output_type": "stream",
     "text": [
      "La columna \"released_year\" contiene solo enteros\n"
     ]
    }
   ],
   "source": [
    "# Validar que la columna 'released_year' contenga solo enteros\n",
    "if df['released_year'].apply(lambda x: isinstance(x, int)).all():\n",
    "    print(\"La columna \\\"released_year\\\" contiene solo enteros\")"
   ]
  },
  {
   "cell_type": "markdown",
   "metadata": {},
   "source": [
    "<hr><br>\n",
    "\n",
    "### Validación de Datos Duplicados\n",
    "Verificar si existen filas duplicadas en el dataset, ya que la duplicación podría indicar un problema de integridad."
   ]
  },
  {
   "cell_type": "code",
   "execution_count": 9,
   "metadata": {},
   "outputs": [
    {
     "name": "stdout",
     "output_type": "stream",
     "text": [
      "NO Existen filas duplicadas en el CSV.\n"
     ]
    }
   ],
   "source": [
    "# Comprobar duplicados en todas las columnas\n",
    "if df.duplicated().any():\n",
    "    print(\"Advertencia: Existen filas duplicadas en el CSV.\")\n",
    "else:\n",
    "    print(\"NO Existen filas duplicadas en el CSV.\")\n"
   ]
  },
  {
   "cell_type": "markdown",
   "metadata": {},
   "source": [
    "<hr><br>\n",
    "\n",
    "### Validación de Valores Nulos\n",
    "Asegurarse de que no existan valores nulos en las columnas críticas o en todo el dataset."
   ]
  },
  {
   "cell_type": "code",
   "execution_count": 10,
   "metadata": {},
   "outputs": [
    {
     "name": "stdout",
     "output_type": "stream",
     "text": [
      "Advertencia: Existen valores nulos en el dataset.\n"
     ]
    }
   ],
   "source": [
    "# Comprobar valores nulos\n",
    "if df.isnull().values.any():\n",
    "    print(\"Advertencia: Existen valores nulos en el dataset.\")\n",
    "else:\n",
    "    print(\"NO Existen valores nulos en el dataset.\")\n",
    "\n"
   ]
  },
  {
   "cell_type": "markdown",
   "metadata": {},
   "source": [
    "<hr><br>\n",
    "\n",
    "### Validación de Protocolos de Texto\n",
    "Verificar que el archivo CSV se haya guardado con la codificación correcta (como UTF-8) para evitar errores en caracteres especiales."
   ]
  },
  {
   "cell_type": "code",
   "execution_count": 18,
   "metadata": {},
   "outputs": [
    {
     "name": "stdout",
     "output_type": "stream",
     "text": [
      "El archivo está en UTF-8.\n"
     ]
    }
   ],
   "source": [
    "import chardet\n",
    "\n",
    "# Leer el archivo CSV para detectar la codificación\n",
    "with open(archivo, 'rb') as file:\n",
    "    result = chardet.detect(file.read())\n",
    "\n",
    "if result['encoding'] == 'utf-8':\n",
    "    print(\"El archivo está en UTF-8.\")\n",
    "else:\n",
    "    print(\"Advertencia: El archivo NO está en UTF-8.\")\n"
   ]
  }
 ],
 "metadata": {
  "kernelspec": {
   "display_name": "Python 3",
   "language": "python",
   "name": "python3"
  },
  "language_info": {
   "codemirror_mode": {
    "name": "ipython",
    "version": 3
   },
   "file_extension": ".py",
   "mimetype": "text/x-python",
   "name": "python",
   "nbconvert_exporter": "python",
   "pygments_lexer": "ipython3",
   "version": "3.12.3"
  }
 },
 "nbformat": 4,
 "nbformat_minor": 2
}
