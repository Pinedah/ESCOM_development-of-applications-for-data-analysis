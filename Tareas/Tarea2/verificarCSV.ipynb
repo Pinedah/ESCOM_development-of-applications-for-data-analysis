{
 "cells": [
  {
   "cell_type": "markdown",
   "metadata": {},
   "source": [
    "# Validaciones al formato CSV\n",
    "<hr>\n",
    "<br>\n",
    "\n",
    "### Validación de la estructura. \n",
    "Se verifica si el archivo CSV tiene la cantidad correcta de columnas y el formato esperado en cada columna."
   ]
  },
  {
   "cell_type": "code",
   "execution_count": 1,
   "metadata": {},
   "outputs": [],
   "source": [
    "import pandas as pd"
   ]
  },
  {
   "cell_type": "code",
   "execution_count": null,
   "metadata": {},
   "outputs": [],
   "source": [
    "# Leemos el archivo CSV\n",
    "archivo = ''\n",
    "\n",
    "try: \n",
    "    df = pd.read_csv(archivo)\n",
    "except FileNotFoundError:\n",
    "    print(f\"El archivo '{archivo}' no se encuentra en el directorio actual.\")\n",
    "\n",
    "# Se verifican las columnas que deberían ser correctas\n",
    "columnas = []\n",
    "if columnas == list(df.columns):\n",
    "    print(\"Las columnas coinciden.\")\n",
    "else:\n",
    "    print(\"Las columnas NO coinciden.\")\n"
   ]
  },
  {
   "cell_type": "markdown",
   "metadata": {},
   "source": [
    "<hr><br>\n",
    "\n",
    "### Validación de Tipos de Datos\n",
    "Asegurarse de que cada columna contenga el tipo de datos esperado, por ejemplo, enteros, cadenas o fechas."
   ]
  },
  {
   "cell_type": "code",
   "execution_count": null,
   "metadata": {},
   "outputs": [],
   "source": [
    "# Validar que la columna 'released_year' contenga solo enteros\n",
    "if df['released_year'].apply(lambda x: isinstance(x, int)).all():\n",
    "    print(\"La columna \\\"released_year\\\" contiene solo enteros\")"
   ]
  },
  {
   "cell_type": "markdown",
   "metadata": {},
   "source": [
    "<hr><br>\n",
    "\n",
    "### Validación de Datos Duplicados\n",
    "Verificar si existen filas duplicadas en el dataset, ya que la duplicación podría indicar un problema de integridad."
   ]
  },
  {
   "cell_type": "code",
   "execution_count": null,
   "metadata": {},
   "outputs": [],
   "source": [
    "# Comprobar duplicados en todas las columnas\n",
    "if df.duplicated().any():\n",
    "    print(\"Advertencia: Existen filas duplicadas en el CSV.\")"
   ]
  },
  {
   "cell_type": "markdown",
   "metadata": {},
   "source": [
    "<hr><br>\n",
    "\n",
    "### Validación de Valores Nulos\n",
    "Asegurarse de que no existan valores nulos en las columnas críticas o en todo el dataset."
   ]
  },
  {
   "cell_type": "code",
   "execution_count": null,
   "metadata": {},
   "outputs": [],
   "source": [
    "# Comprobar valores nulos\n",
    "if df.isnull().values.any():\n",
    "    print(\"Advertencia: Existen valores nulos en el dataset.\")\n"
   ]
  },
  {
   "cell_type": "markdown",
   "metadata": {},
   "source": [
    "<hr><br>\n",
    "\n",
    "### Validación de Protocolos de Texto\n",
    "Verificar que el archivo CSV se haya guardado con la codificación correcta (como UTF-8) para evitar errores en caracteres especiales."
   ]
  },
  {
   "cell_type": "code",
   "execution_count": null,
   "metadata": {},
   "outputs": [
    {
     "ename": "ModuleNotFoundError",
     "evalue": "No module named 'chardet'",
     "output_type": "error",
     "traceback": [
      "\u001b[1;31m---------------------------------------------------------------------------\u001b[0m",
      "\u001b[1;31mModuleNotFoundError\u001b[0m                       Traceback (most recent call last)",
      "Cell \u001b[1;32mIn[3], line 1\u001b[0m\n\u001b[1;32m----> 1\u001b[0m \u001b[38;5;28;01mimport\u001b[39;00m \u001b[38;5;21;01mchardet\u001b[39;00m\n\u001b[0;32m      3\u001b[0m \u001b[38;5;66;03m# Leer el archivo CSV para detectar la codificación\u001b[39;00m\n\u001b[0;32m      4\u001b[0m \u001b[38;5;28;01mwith\u001b[39;00m \u001b[38;5;28mopen\u001b[39m(archivo) \u001b[38;5;28;01mas\u001b[39;00m file:\n",
      "\u001b[1;31mModuleNotFoundError\u001b[0m: No module named 'chardet'"
     ]
    }
   ],
   "source": [
    "import chardet\n",
    "\n",
    "# Leer el archivo CSV para detectar la codificación\n",
    "with open(archivo) as file:\n",
    "    result = chardet.detect(file.read())\n",
    "assert result['encoding'] == 'utf-8', \"El archivo no está en UTF-8.\"\n"
   ]
  }
 ],
 "metadata": {
  "kernelspec": {
   "display_name": "Python 3",
   "language": "python",
   "name": "python3"
  },
  "language_info": {
   "codemirror_mode": {
    "name": "ipython",
    "version": 3
   },
   "file_extension": ".py",
   "mimetype": "text/x-python",
   "name": "python",
   "nbconvert_exporter": "python",
   "pygments_lexer": "ipython3",
   "version": "3.12.3"
  }
 },
 "nbformat": 4,
 "nbformat_minor": 2
}
