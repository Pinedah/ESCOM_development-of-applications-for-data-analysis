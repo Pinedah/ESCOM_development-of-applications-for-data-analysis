{
  "cells": [
    {
      "cell_type": "markdown",
      "metadata": {
        "id": "view-in-github",
        "colab_type": "text"
      },
      "source": [
        "<a href=\"https://colab.research.google.com/github/Pinedah/ESCOM_development-of-applications-for-data-analysis/blob/main/Tarea1.ipynb\" target=\"_parent\"><img src=\"https://colab.research.google.com/assets/colab-badge.svg\" alt=\"Open In Colab\"/></a>"
      ]
    },
    {
      "cell_type": "markdown",
      "metadata": {
        "id": "PSNyX7DL1leP"
      },
      "source": [
        "#Ejercicio 9. Posible cambio\n",
        "Desarrolla un programa que determine si es posible construir una cantidad exacta de dinero\n",
        "utilizando un número específico de monedas. Por ejemplo:\n",
        "1. Es posible obtener un total de \\$1.00 usando cuatro monedas si todas son de 25 centavos.\n",
        "2. Sin embargo, no es posible obtener un total de \\$1.00 con cinco monedas.\n",
        "3. Por otro lado, es posible formar \\$1.00 con seis monedas si se utilizan tres de 25 centavos,\n",
        "dos de 10 centavos, y una de 5 centavos.\n",
        "4. Del mismo modo, un total de \\$1.25 puede formarse usando cinco u ocho monedas, pero no\n",
        "se puede lograr usando cuatro, seis, o siete monedas.\n",
        "\n",
        "Su programa debe recibir como entrada el importe en dólares y el número de monedas que el\n",
        "usuario desea utilizar. Luego, debe mostrar un mensaje claro indicando si es posible formar la\n",
        "cantidad especificada con el número de monedas indicado.\n",
        "Para este problema, asume que tienes monedas de 25, 10, 5 y 1 centavos. La solución debe\n",
        "implementarse utilizando recursividad y no debe incluir ningún tipo de ciclo.\n",
        "<br><br>"
      ]
    },
    {
      "cell_type": "code",
      "execution_count": 1,
      "metadata": {
        "colab": {
          "base_uri": "https://localhost:8080/"
        },
        "id": "YMbjAnMX2W8u",
        "outputId": "06e9864f-87b3-4292-b813-4d7f4a1e4fd1"
      },
      "outputs": [
        {
          "output_type": "stream",
          "name": "stdout",
          "text": [
            "\n",
            "Ingrese los dolares: 1\n",
            "Ingrese la cantidad de monedas: 4\n",
            "{(96, 0, 3): False, (96, 0, 2): False, (96, 0, 1): False, (96, 0, 0): False, (92, 0, 3): False, (92, 0, 2): False, (92, 0, 1): False, (87, 0, 3): False, (87, 0, 2): False, (72, 0, 3): False, (97, 1, 3): False, (97, 1, 2): False, (97, 1, 1): False, (97, 1, 0): False, (88, 0, 3): False, (88, 0, 2): False, (88, 0, 1): False, (83, 0, 3): False, (83, 0, 2): False, (68, 0, 3): False, (93, 1, 3): False, (93, 1, 2): False, (93, 1, 1): False, (78, 0, 3): False, (78, 0, 2): False, (63, 0, 3): False, (88, 1, 3): False, (88, 1, 2): False, (48, 0, 3): False, (73, 1, 3): False, (98, 2, 3): False, (98, 2, 2): False, (98, 2, 1): False, (98, 2, 0): False, (84, 0, 3): False, (84, 0, 2): False, (84, 0, 1): False, (79, 0, 3): False, (79, 0, 2): False, (64, 0, 3): False, (89, 1, 3): False, (89, 1, 2): False, (89, 1, 1): False, (74, 0, 3): False, (74, 0, 2): False, (59, 0, 3): False, (84, 1, 3): False, (84, 1, 2): False, (44, 0, 3): False, (69, 1, 3): False, (94, 2, 3): False, (94, 2, 2): False, (94, 2, 1): False, (69, 0, 3): False, (69, 0, 2): False, (54, 0, 3): False, (79, 1, 3): False, (79, 1, 2): False, (39, 0, 3): False, (64, 1, 3): False, (89, 2, 3): False, (89, 2, 2): False, (24, 0, 3): False, (49, 1, 3): False, (74, 2, 3): False, (99, 3, 3): False, (99, 3, 2): False, (99, 3, 1): False, (99, 3, 0): False, (80, 0, 3): False, (80, 0, 2): False, (80, 0, 1): False, (75, 0, 3): False, (75, 0, 2): False, (60, 0, 3): False, (85, 1, 3): False, (85, 1, 2): False, (85, 1, 1): False, (70, 0, 3): False, (70, 0, 2): False, (55, 0, 3): False, (80, 1, 3): False, (80, 1, 2): False, (40, 0, 3): False, (65, 1, 3): False, (90, 2, 3): False, (90, 2, 2): False, (90, 2, 1): False, (65, 0, 3): False, (65, 0, 2): False, (50, 0, 3): False, (75, 1, 3): False, (75, 1, 2): False, (35, 0, 3): False, (60, 1, 3): False, (85, 2, 3): False, (85, 2, 2): False, (20, 0, 3): False, (45, 1, 3): False, (70, 2, 3): False, (95, 3, 3): False, (95, 3, 2): False, (95, 3, 1): False, (60, 0, 2): False, (45, 0, 3): False, (70, 1, 3): False, (70, 1, 2): False, (30, 0, 3): False, (55, 1, 3): False, (80, 2, 3): False, (80, 2, 2): False, (15, 0, 3): False, (40, 1, 3): False, (65, 2, 3): False, (90, 3, 3): False, (90, 3, 2): False}\n",
            "{(96, 0, 3): False, (96, 0, 2): False, (96, 0, 1): False, (96, 0, 0): False, (92, 0, 3): False, (92, 0, 2): False, (92, 0, 1): False, (87, 0, 3): False, (87, 0, 2): False, (72, 0, 3): False, (97, 1, 3): False, (97, 1, 2): False, (97, 1, 1): False, (97, 1, 0): False, (88, 0, 3): False, (88, 0, 2): False, (88, 0, 1): False, (83, 0, 3): False, (83, 0, 2): False, (68, 0, 3): False, (93, 1, 3): False, (93, 1, 2): False, (93, 1, 1): False, (78, 0, 3): False, (78, 0, 2): False, (63, 0, 3): False, (88, 1, 3): False, (88, 1, 2): False, (48, 0, 3): False, (73, 1, 3): False, (98, 2, 3): False, (98, 2, 2): False, (98, 2, 1): False, (98, 2, 0): False, (84, 0, 3): False, (84, 0, 2): False, (84, 0, 1): False, (79, 0, 3): False, (79, 0, 2): False, (64, 0, 3): False, (89, 1, 3): False, (89, 1, 2): False, (89, 1, 1): False, (74, 0, 3): False, (74, 0, 2): False, (59, 0, 3): False, (84, 1, 3): False, (84, 1, 2): False, (44, 0, 3): False, (69, 1, 3): False, (94, 2, 3): False, (94, 2, 2): False, (94, 2, 1): False, (69, 0, 3): False, (69, 0, 2): False, (54, 0, 3): False, (79, 1, 3): False, (79, 1, 2): False, (39, 0, 3): False, (64, 1, 3): False, (89, 2, 3): False, (89, 2, 2): False, (24, 0, 3): False, (49, 1, 3): False, (74, 2, 3): False, (99, 3, 3): False, (99, 3, 2): False, (99, 3, 1): False, (99, 3, 0): False, (80, 0, 3): False, (80, 0, 2): False, (80, 0, 1): False, (75, 0, 3): False, (75, 0, 2): False, (60, 0, 3): False, (85, 1, 3): False, (85, 1, 2): False, (85, 1, 1): False, (70, 0, 3): False, (70, 0, 2): False, (55, 0, 3): False, (80, 1, 3): False, (80, 1, 2): False, (40, 0, 3): False, (65, 1, 3): False, (90, 2, 3): False, (90, 2, 2): False, (90, 2, 1): False, (65, 0, 3): False, (65, 0, 2): False, (50, 0, 3): False, (75, 1, 3): False, (75, 1, 2): False, (35, 0, 3): False, (60, 1, 3): False, (85, 2, 3): False, (85, 2, 2): False, (20, 0, 3): False, (45, 1, 3): False, (70, 2, 3): False, (95, 3, 3): False, (95, 3, 2): False, (95, 3, 1): False, (60, 0, 2): False, (45, 0, 3): False, (70, 1, 3): False, (70, 1, 2): False, (30, 0, 3): False, (55, 1, 3): False, (80, 2, 3): False, (80, 2, 2): False, (15, 0, 3): False, (40, 1, 3): False, (65, 2, 3): False, (90, 3, 3): False, (90, 3, 2): False, (25, 1, 3): True}\n",
            "{(96, 0, 3): False, (96, 0, 2): False, (96, 0, 1): False, (96, 0, 0): False, (92, 0, 3): False, (92, 0, 2): False, (92, 0, 1): False, (87, 0, 3): False, (87, 0, 2): False, (72, 0, 3): False, (97, 1, 3): False, (97, 1, 2): False, (97, 1, 1): False, (97, 1, 0): False, (88, 0, 3): False, (88, 0, 2): False, (88, 0, 1): False, (83, 0, 3): False, (83, 0, 2): False, (68, 0, 3): False, (93, 1, 3): False, (93, 1, 2): False, (93, 1, 1): False, (78, 0, 3): False, (78, 0, 2): False, (63, 0, 3): False, (88, 1, 3): False, (88, 1, 2): False, (48, 0, 3): False, (73, 1, 3): False, (98, 2, 3): False, (98, 2, 2): False, (98, 2, 1): False, (98, 2, 0): False, (84, 0, 3): False, (84, 0, 2): False, (84, 0, 1): False, (79, 0, 3): False, (79, 0, 2): False, (64, 0, 3): False, (89, 1, 3): False, (89, 1, 2): False, (89, 1, 1): False, (74, 0, 3): False, (74, 0, 2): False, (59, 0, 3): False, (84, 1, 3): False, (84, 1, 2): False, (44, 0, 3): False, (69, 1, 3): False, (94, 2, 3): False, (94, 2, 2): False, (94, 2, 1): False, (69, 0, 3): False, (69, 0, 2): False, (54, 0, 3): False, (79, 1, 3): False, (79, 1, 2): False, (39, 0, 3): False, (64, 1, 3): False, (89, 2, 3): False, (89, 2, 2): False, (24, 0, 3): False, (49, 1, 3): False, (74, 2, 3): False, (99, 3, 3): False, (99, 3, 2): False, (99, 3, 1): False, (99, 3, 0): False, (80, 0, 3): False, (80, 0, 2): False, (80, 0, 1): False, (75, 0, 3): False, (75, 0, 2): False, (60, 0, 3): False, (85, 1, 3): False, (85, 1, 2): False, (85, 1, 1): False, (70, 0, 3): False, (70, 0, 2): False, (55, 0, 3): False, (80, 1, 3): False, (80, 1, 2): False, (40, 0, 3): False, (65, 1, 3): False, (90, 2, 3): False, (90, 2, 2): False, (90, 2, 1): False, (65, 0, 3): False, (65, 0, 2): False, (50, 0, 3): False, (75, 1, 3): False, (75, 1, 2): False, (35, 0, 3): False, (60, 1, 3): False, (85, 2, 3): False, (85, 2, 2): False, (20, 0, 3): False, (45, 1, 3): False, (70, 2, 3): False, (95, 3, 3): False, (95, 3, 2): False, (95, 3, 1): False, (60, 0, 2): False, (45, 0, 3): False, (70, 1, 3): False, (70, 1, 2): False, (30, 0, 3): False, (55, 1, 3): False, (80, 2, 3): False, (80, 2, 2): False, (15, 0, 3): False, (40, 1, 3): False, (65, 2, 3): False, (90, 3, 3): False, (90, 3, 2): False, (25, 1, 3): True, (50, 2, 3): True}\n",
            "{(96, 0, 3): False, (96, 0, 2): False, (96, 0, 1): False, (96, 0, 0): False, (92, 0, 3): False, (92, 0, 2): False, (92, 0, 1): False, (87, 0, 3): False, (87, 0, 2): False, (72, 0, 3): False, (97, 1, 3): False, (97, 1, 2): False, (97, 1, 1): False, (97, 1, 0): False, (88, 0, 3): False, (88, 0, 2): False, (88, 0, 1): False, (83, 0, 3): False, (83, 0, 2): False, (68, 0, 3): False, (93, 1, 3): False, (93, 1, 2): False, (93, 1, 1): False, (78, 0, 3): False, (78, 0, 2): False, (63, 0, 3): False, (88, 1, 3): False, (88, 1, 2): False, (48, 0, 3): False, (73, 1, 3): False, (98, 2, 3): False, (98, 2, 2): False, (98, 2, 1): False, (98, 2, 0): False, (84, 0, 3): False, (84, 0, 2): False, (84, 0, 1): False, (79, 0, 3): False, (79, 0, 2): False, (64, 0, 3): False, (89, 1, 3): False, (89, 1, 2): False, (89, 1, 1): False, (74, 0, 3): False, (74, 0, 2): False, (59, 0, 3): False, (84, 1, 3): False, (84, 1, 2): False, (44, 0, 3): False, (69, 1, 3): False, (94, 2, 3): False, (94, 2, 2): False, (94, 2, 1): False, (69, 0, 3): False, (69, 0, 2): False, (54, 0, 3): False, (79, 1, 3): False, (79, 1, 2): False, (39, 0, 3): False, (64, 1, 3): False, (89, 2, 3): False, (89, 2, 2): False, (24, 0, 3): False, (49, 1, 3): False, (74, 2, 3): False, (99, 3, 3): False, (99, 3, 2): False, (99, 3, 1): False, (99, 3, 0): False, (80, 0, 3): False, (80, 0, 2): False, (80, 0, 1): False, (75, 0, 3): False, (75, 0, 2): False, (60, 0, 3): False, (85, 1, 3): False, (85, 1, 2): False, (85, 1, 1): False, (70, 0, 3): False, (70, 0, 2): False, (55, 0, 3): False, (80, 1, 3): False, (80, 1, 2): False, (40, 0, 3): False, (65, 1, 3): False, (90, 2, 3): False, (90, 2, 2): False, (90, 2, 1): False, (65, 0, 3): False, (65, 0, 2): False, (50, 0, 3): False, (75, 1, 3): False, (75, 1, 2): False, (35, 0, 3): False, (60, 1, 3): False, (85, 2, 3): False, (85, 2, 2): False, (20, 0, 3): False, (45, 1, 3): False, (70, 2, 3): False, (95, 3, 3): False, (95, 3, 2): False, (95, 3, 1): False, (60, 0, 2): False, (45, 0, 3): False, (70, 1, 3): False, (70, 1, 2): False, (30, 0, 3): False, (55, 1, 3): False, (80, 2, 3): False, (80, 2, 2): False, (15, 0, 3): False, (40, 1, 3): False, (65, 2, 3): False, (90, 3, 3): False, (90, 3, 2): False, (25, 1, 3): True, (50, 2, 3): True, (75, 3, 3): True}\n",
            "Es posible formar ¢100 con 4 monedas\n",
            "Se ocuparon 0 monedas de 1 centavo\n",
            "Se ocuparon 0 monedas de 5 centavos\n",
            "Se ocuparon 0 monedas de 10 centavos\n",
            "Se ocuparon 4 monedas de 25 centavos\n"
          ]
        }
      ],
      "source": [
        "def PosibleCambio(monedas, importe, num_monedas, queMonedas, index=0, memo=None):\n",
        "    if memo is None:\n",
        "        memo = {}\n",
        "    if importe == 0 and num_monedas == 0:\n",
        "        return True\n",
        "    if importe < 0 or num_monedas < 0 or index >= len(monedas):\n",
        "        return False\n",
        "    if (importe, num_monedas, index) in memo:\n",
        "        return memo[(importe, num_monedas, index)]\n",
        "\n",
        "    usar_moneda = PosibleCambio(monedas, importe - monedas[index], num_monedas - 1,queMonedas, index, memo)\n",
        "\n",
        "    if(usar_moneda):\n",
        "        queMonedas.append(monedas[index])\n",
        "        print(memo)\n",
        "        memo[(importe, num_monedas, index)] = True\n",
        "        return True\n",
        "\n",
        "    no_usar_moneda = PosibleCambio(monedas, importe, num_monedas,queMonedas, index + 1, memo)\n",
        "    memo[(importe, num_monedas, index)] = no_usar_moneda\n",
        "    return no_usar_moneda\n",
        "\n",
        "\n",
        "def main():\n",
        "  tiposDeMonedas = [1,5,10,25]\n",
        "  queMonedas=[]\n",
        "  try:\n",
        "    dolares=float(input(\"\\nIngrese los dolares: \"))\n",
        "    importe = int(dolares*100)\n",
        "    num_monedas = int(input(\"Ingrese la cantidad de monedas: \"))\n",
        "  except ValueError:\n",
        "    print(\"\\nPor favor ingrese un valor válido.\\n\")\n",
        "    return\n",
        "\n",
        "  monedas = PosibleCambio(tiposDeMonedas, importe,num_monedas, queMonedas)\n",
        "\n",
        "  if monedas:\n",
        "    print(f\"Es posible formar ¢{importe} con {num_monedas} monedas\")\n",
        "    a=queMonedas.count(1)\n",
        "    b=queMonedas.count(5)\n",
        "    c=queMonedas.count(10)\n",
        "    d=queMonedas.count(25)\n",
        "    print(f\"Se ocuparon {a} monedas de 1 centavo\")\n",
        "    print(f\"Se ocuparon {b} monedas de 5 centavos\")\n",
        "    print(f\"Se ocuparon {c} monedas de 10 centavos\")\n",
        "    print(f\"Se ocuparon {d} monedas de 25 centavos\")\n",
        "  else:\n",
        "    print(f\"NO es posible formar ¢{importe} con {num_monedas} monedas\")\n",
        "\n",
        "if __name__ == '__main__':\n",
        "    main()"
      ]
    }
  ],
  "metadata": {
    "colab": {
      "provenance": [],
      "include_colab_link": true
    },
    "kernelspec": {
      "display_name": "Python 3",
      "name": "python3"
    },
    "language_info": {
      "name": "python"
    }
  },
  "nbformat": 4,
  "nbformat_minor": 0
}