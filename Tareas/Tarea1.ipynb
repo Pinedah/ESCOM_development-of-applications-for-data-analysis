{
  "nbformat": 4,
  "nbformat_minor": 0,
  "metadata": {
    "colab": {
      "provenance": [],
      "include_colab_link": true
    },
    "kernelspec": {
      "name": "python3",
      "display_name": "Python 3"
    },
    "language_info": {
      "name": "python"
    }
  },
  "cells": [
    {
      "cell_type": "markdown",
      "metadata": {
        "id": "view-in-github",
        "colab_type": "text"
      },
      "source": [
        "<a href=\"https://colab.research.google.com/github/Pinedah/ESCOM_development-of-applications-for-data-analysis/blob/main/Tarea1.ipynb\" target=\"_parent\"><img src=\"https://colab.research.google.com/assets/colab-badge.svg\" alt=\"Open In Colab\"/></a>"
      ]
    },
    {
      "cell_type": "markdown",
      "source": [
        "#Ejercicio 9. Posible cambio\n",
        "Desarrolla un programa que determine si es posible construir una cantidad exacta de dinero\n",
        "utilizando un número específico de monedas. Por ejemplo:\n",
        "1. Es posible obtener un total de \\$1.00 usando cuatro monedas si todas son de 25 centavos.\n",
        "2. Sin embargo, no es posible obtener un total de \\$1.00 con cinco monedas.\n",
        "3. Por otro lado, es posible formar \\$1.00 con seis monedas si se utilizan tres de 25 centavos,\n",
        "dos de 10 centavos, y una de 5 centavos.\n",
        "4. Del mismo modo, un total de \\$1.25 puede formarse usando cinco u ocho monedas, pero no\n",
        "se puede lograr usando cuatro, seis, o siete monedas.\n",
        "\n",
        "Su programa debe recibir como entrada el importe en dólares y el número de monedas que el\n",
        "usuario desea utilizar. Luego, debe mostrar un mensaje claro indicando si es posible formar la\n",
        "cantidad especificada con el número de monedas indicado.\n",
        "Para este problema, asume que tienes monedas de 25, 10, 5 y 1 centavos. La solución debe\n",
        "implementarse utilizando recursividad y no debe incluir ningún tipo de ciclo.\n",
        "<br><br>"
      ],
      "metadata": {
        "id": "PSNyX7DL1leP"
      }
    },
    {
      "cell_type": "code",
      "source": [
        "#TODO el problema no lo dice, pero podriamos encontrar la lista de que monedas ocupar cuando sea el caso\n",
        "def PosibleCambio(monedas, importe, num_monedas, index=0, memo=None):\n",
        "    if memo is None:\n",
        "        memo = {}\n",
        "    if importe == 0 and num_monedas == 0:\n",
        "        return True\n",
        "    if importe < 0 or num_monedas < 0 or index >= len(monedas):\n",
        "        return False\n",
        "    if (importe, num_monedas, index) in memo:\n",
        "        return memo[(importe, num_monedas, index)]\n",
        "    usar_moneda = PosibleCambio(monedas, importe - monedas[index], num_monedas - 1, index, memo)\n",
        "\n",
        "    no_usar_moneda = PosibleCambio(monedas, importe, num_monedas, index + 1, memo)\n",
        "\n",
        "    memo[(importe, num_monedas, index)] = usar_moneda or no_usar_moneda\n",
        "    return memo[(importe, num_monedas, index)]\n",
        "\n",
        "\n",
        "def main():\n",
        "  a=[1,5,10,25]\n",
        "  while True:\n",
        "      try:\n",
        "          importe = int(input(\"Ingrese el importe (en centavos): ¢\"))\n",
        "          num_monedas = int(input(\"Ingrese la cantidad de monedas: \"))\n",
        "          break\n",
        "      except ValueError:\n",
        "          print(\"!!! Por favor ingrese un valor válido.\\n\")\n",
        "  monedas = PosibleCambio(a,importe, num_monedas)\n",
        "  if monedas:\n",
        "    print(f\"Es posible formar ¢{importe} con {num_monedas} monedas\")\n",
        "  else:\n",
        "    print(f\"NO es posible formar ¢{importe} con {num_monedas} monedas\")\n",
        "\n",
        "if __name__ == '__main__':\n",
        "    main()"
      ],
      "metadata": {
        "id": "YMbjAnMX2W8u",
        "colab": {
          "base_uri": "https://localhost:8080/"
        },
        "outputId": "d1300db9-6613-48cc-ca87-672fe1089fcb"
      },
      "execution_count": null,
      "outputs": [
        {
          "output_type": "stream",
          "name": "stdout",
          "text": [
            "Ingrese el importe (en centavos): ¢1\n",
            "Ingrese la cantidad de monedas: 4\n",
            "NO es posible formar ¢1 con 4 monedas\n"
          ]
        }
      ]
    }
  ]
}