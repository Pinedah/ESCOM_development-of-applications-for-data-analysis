{
  "cells": [
    {
      "cell_type": "markdown",
      "metadata": {
        "id": "view-in-github",
        "colab_type": "text"
      },
      "source": [
        "<a href=\"https://colab.research.google.com/github/Pinedah/ESCOM_development-of-applications-for-data-analysis/blob/main/Practica7_1_4AM1_PHF.ipynb\" target=\"_parent\"><img src=\"https://colab.research.google.com/assets/colab-badge.svg\" alt=\"Open In Colab\"/></a>"
      ]
    },
    {
      "cell_type": "markdown",
      "metadata": {
        "id": "rU10uCvc9noL"
      },
      "source": [
        "# Desarrollo de Aplicaciones para Análisis de Datos\n",
        "-------------------------------------------------\n",
        "## Práctica 7. Bibliotecas Python"
      ]
    },
    {
      "cell_type": "markdown",
      "metadata": {
        "id": "Gy8ixmgJuG8m"
      },
      "source": [
        "### Nombre: Pineda Hernández Francisco"
      ]
    },
    {
      "cell_type": "markdown",
      "metadata": {
        "id": "TES8iyTs9noQ"
      },
      "source": [
        "# NumPy Ejercicios\n",
        "\n",
        "Ahora que hemos aprendido sobre NumPy vamos a poner a prueba tus conocimientos. Empezaremos con algunas tareas sencillas, y luego se te harán algunas preguntas más complicadas."
      ]
    },
    {
      "cell_type": "markdown",
      "metadata": {
        "id": "8qhaEgYX9noR"
      },
      "source": [
        "#### Importar NumPy como np"
      ]
    },
    {
      "cell_type": "code",
      "execution_count": null,
      "metadata": {
        "id": "z6k4DItU9noT"
      },
      "outputs": [],
      "source": [
        "import numpy as np"
      ]
    },
    {
      "cell_type": "markdown",
      "metadata": {
        "id": "2aSz7DT_9noV"
      },
      "source": [
        "#### Crear un array de 10 ceros"
      ]
    },
    {
      "cell_type": "code",
      "execution_count": null,
      "metadata": {
        "id": "BHp0yzTv9noV",
        "colab": {
          "base_uri": "https://localhost:8080/"
        },
        "outputId": "1bf94c20-48b9-4f75-c80c-171b8ac20558"
      },
      "outputs": [
        {
          "output_type": "execute_result",
          "data": {
            "text/plain": [
              "array([0., 0., 0., 0., 0., 0., 0., 0., 0., 0.])"
            ]
          },
          "metadata": {},
          "execution_count": 2
        }
      ],
      "source": [
        "np.zeros(10)"
      ]
    },
    {
      "cell_type": "markdown",
      "metadata": {
        "id": "E0CuWes_9noW"
      },
      "source": [
        "#### Crear un array de 10 unos"
      ]
    },
    {
      "cell_type": "code",
      "execution_count": null,
      "metadata": {
        "id": "pzBozUmy9noX",
        "colab": {
          "base_uri": "https://localhost:8080/"
        },
        "outputId": "a9579527-513e-43fb-b467-3af866e33677"
      },
      "outputs": [
        {
          "output_type": "execute_result",
          "data": {
            "text/plain": [
              "array([1., 1., 1., 1., 1., 1., 1., 1., 1., 1.])"
            ]
          },
          "metadata": {},
          "execution_count": 3
        }
      ],
      "source": [
        "np.ones(10)"
      ]
    },
    {
      "cell_type": "markdown",
      "metadata": {
        "id": "s84htAo09noY"
      },
      "source": [
        "#### Crear un array de 10 cincos"
      ]
    },
    {
      "cell_type": "code",
      "execution_count": null,
      "metadata": {
        "id": "jOHjy9-49noZ",
        "colab": {
          "base_uri": "https://localhost:8080/"
        },
        "outputId": "9b1a259b-3e54-410d-fa60-1d2247bd9842"
      },
      "outputs": [
        {
          "output_type": "execute_result",
          "data": {
            "text/plain": [
              "array([5, 5, 5, 5, 5, 5, 5, 5, 5, 5])"
            ]
          },
          "metadata": {},
          "execution_count": 7
        }
      ],
      "source": [
        "np.array([5 for _ in range(10)])"
      ]
    },
    {
      "cell_type": "markdown",
      "metadata": {
        "id": "gW69C6N29noZ"
      },
      "source": [
        "#### Crear un array de enteros entre 10 y 50"
      ]
    },
    {
      "cell_type": "code",
      "execution_count": null,
      "metadata": {
        "id": "SmUq-_ey9noZ",
        "colab": {
          "base_uri": "https://localhost:8080/"
        },
        "outputId": "245805d8-ae2a-410c-ce13-75eac9a10623"
      },
      "outputs": [
        {
          "output_type": "execute_result",
          "data": {
            "text/plain": [
              "array([10, 11, 12, 13, 14, 15, 16, 17, 18, 19, 20, 21, 22, 23, 24, 25, 26,\n",
              "       27, 28, 29, 30, 31, 32, 33, 34, 35, 36, 37, 38, 39, 40, 41, 42, 43,\n",
              "       44, 45, 46, 47, 48, 49, 50])"
            ]
          },
          "metadata": {},
          "execution_count": 9
        }
      ],
      "source": [
        "np.arange(10,51)"
      ]
    },
    {
      "cell_type": "markdown",
      "metadata": {
        "id": "geLCmWmf9noa"
      },
      "source": [
        "#### Crear un array de todos los números enteros pares de 10 a 50"
      ]
    },
    {
      "cell_type": "code",
      "execution_count": null,
      "metadata": {
        "id": "3Cyu0bWU9nob",
        "colab": {
          "base_uri": "https://localhost:8080/"
        },
        "outputId": "302a8d1a-2e39-4659-cd85-d131b2199c34"
      },
      "outputs": [
        {
          "output_type": "execute_result",
          "data": {
            "text/plain": [
              "array([10, 12, 14, 16, 18, 20, 22, 24, 26, 28, 30, 32, 34, 36, 38, 40, 42,\n",
              "       44, 46, 48, 50])"
            ]
          },
          "metadata": {},
          "execution_count": 12
        }
      ],
      "source": [
        "np.arange(10, 51, 2)"
      ]
    },
    {
      "cell_type": "markdown",
      "metadata": {
        "id": "0iBFUzYJ9nob"
      },
      "source": [
        "#### Crear una matriz 3x3 con valores comprendidos entre 0 y 8"
      ]
    },
    {
      "cell_type": "code",
      "execution_count": null,
      "metadata": {
        "id": "DmPoajmh9noc",
        "colab": {
          "base_uri": "https://localhost:8080/"
        },
        "outputId": "410e280f-b50a-434c-ebc0-2e4657020cc0"
      },
      "outputs": [
        {
          "output_type": "execute_result",
          "data": {
            "text/plain": [
              "array([[0, 1, 2],\n",
              "       [3, 4, 5],\n",
              "       [6, 7, 8]])"
            ]
          },
          "metadata": {},
          "execution_count": 14
        }
      ],
      "source": [
        "np.arange(0, 9).reshape(3,3)"
      ]
    },
    {
      "cell_type": "markdown",
      "metadata": {
        "id": "BOyxFoQ39noc"
      },
      "source": [
        "#### Crear una matriz indentidad 3x3"
      ]
    },
    {
      "cell_type": "code",
      "execution_count": null,
      "metadata": {
        "id": "djmKEGar9nod",
        "colab": {
          "base_uri": "https://localhost:8080/"
        },
        "outputId": "f552e5ce-86ba-4379-d9af-ba27c42de008"
      },
      "outputs": [
        {
          "output_type": "execute_result",
          "data": {
            "text/plain": [
              "array([[1., 0., 0.],\n",
              "       [0., 1., 0.],\n",
              "       [0., 0., 1.]])"
            ]
          },
          "metadata": {},
          "execution_count": 17
        }
      ],
      "source": [
        "np.identity(3)"
      ]
    },
    {
      "cell_type": "markdown",
      "metadata": {
        "id": "8a-4OaAB9nod"
      },
      "source": [
        "#### Usa NumPy para generar un número aleatorio entre  0 y 1"
      ]
    },
    {
      "cell_type": "code",
      "execution_count": null,
      "metadata": {
        "id": "g-jWRGNq9noe",
        "colab": {
          "base_uri": "https://localhost:8080/"
        },
        "outputId": "997773af-696f-44c4-b985-e015692100c5"
      },
      "outputs": [
        {
          "output_type": "execute_result",
          "data": {
            "text/plain": [
              "0.8672889559715881"
            ]
          },
          "metadata": {},
          "execution_count": 18
        }
      ],
      "source": [
        "np.random.rand()"
      ]
    },
    {
      "cell_type": "markdown",
      "metadata": {
        "id": "F0XQ8gBJ9noe"
      },
      "source": [
        "#### Utiliza NumPy para generar una matriz de 25 números aleatorios extraídos de una distribución normal estándar."
      ]
    },
    {
      "cell_type": "code",
      "execution_count": null,
      "metadata": {
        "id": "IRnbYCR69noe",
        "colab": {
          "base_uri": "https://localhost:8080/"
        },
        "outputId": "27d4ad7e-d60e-496c-9d63-47537c518660"
      },
      "outputs": [
        {
          "output_type": "execute_result",
          "data": {
            "text/plain": [
              "array([[ 3.02686390e+01, -6.85963917e+00, -8.34276545e+00,\n",
              "         1.16314005e+01,  2.51705710e+01],\n",
              "       [ 7.55696990e+00,  1.68048625e+00,  2.94162104e+00,\n",
              "        -2.33971463e-02, -7.84742893e+00],\n",
              "       [-6.19336275e+00,  1.58775697e+01,  8.27982475e-01,\n",
              "        -1.15022317e+01,  3.63205319e+00],\n",
              "       [ 1.35316676e+00, -9.84127894e+00,  7.85133420e+00,\n",
              "         1.62191509e+01,  3.18128272e+00],\n",
              "       [ 4.06274624e+00,  6.01471036e+00,  4.93475477e+00,\n",
              "        -1.11434065e+01,  9.47588066e+00]])"
            ]
          },
          "metadata": {},
          "execution_count": 20
        }
      ],
      "source": [
        "# normal(media, desviación estandar, cantidad)\n",
        "np.random.normal(5, 10, 25).reshape(5,5)"
      ]
    },
    {
      "cell_type": "markdown",
      "metadata": {
        "id": "B_AKElXv9noe"
      },
      "source": [
        "#### Crea una matriz de 20 puntos linealmente espaciados entre 0 y 1:"
      ]
    },
    {
      "cell_type": "code",
      "execution_count": null,
      "metadata": {
        "id": "vTVTmei_9nof",
        "colab": {
          "base_uri": "https://localhost:8080/"
        },
        "outputId": "8a8137ba-f562-443b-c57d-23caf9a1a849"
      },
      "outputs": [
        {
          "output_type": "execute_result",
          "data": {
            "text/plain": [
              "array([[0.        , 0.05263158, 0.10526316, 0.15789474, 0.21052632],\n",
              "       [0.26315789, 0.31578947, 0.36842105, 0.42105263, 0.47368421],\n",
              "       [0.52631579, 0.57894737, 0.63157895, 0.68421053, 0.73684211],\n",
              "       [0.78947368, 0.84210526, 0.89473684, 0.94736842, 1.        ]])"
            ]
          },
          "metadata": {},
          "execution_count": 21
        }
      ],
      "source": [
        "np.linspace(0, 1, 20).reshape(4,5)"
      ]
    },
    {
      "cell_type": "markdown",
      "metadata": {
        "id": "Vo7nbfku9nof"
      },
      "source": [
        "## Indexación y selección en Numpy\n",
        "\n",
        "Ahora se te darán unas cuantas matrices, debes replicar las salidas matriciales resultantes:"
      ]
    },
    {
      "cell_type": "code",
      "execution_count": null,
      "metadata": {
        "id": "84ayy2SO9nof",
        "outputId": "174f17e8-5130-499d-cf82-a513fdc011d3",
        "colab": {
          "base_uri": "https://localhost:8080/"
        }
      },
      "outputs": [
        {
          "output_type": "execute_result",
          "data": {
            "text/plain": [
              "array([[ 1,  2,  3,  4,  5],\n",
              "       [ 6,  7,  8,  9, 10],\n",
              "       [11, 12, 13, 14, 15],\n",
              "       [16, 17, 18, 19, 20],\n",
              "       [21, 22, 23, 24, 25]])"
            ]
          },
          "metadata": {},
          "execution_count": 32
        }
      ],
      "source": [
        "matriz = np.arange(1,26).reshape(5,5)\n",
        "matriz"
      ]
    },
    {
      "cell_type": "code",
      "execution_count": null,
      "metadata": {
        "id": "Be-vn0IW9noh",
        "outputId": "225e7a45-d36a-4dad-fbcb-5d800b75a0fa",
        "colab": {
          "base_uri": "https://localhost:8080/"
        }
      },
      "outputs": [
        {
          "output_type": "execute_result",
          "data": {
            "text/plain": [
              "array([[12, 13, 14, 15],\n",
              "       [17, 18, 19, 20],\n",
              "       [22, 23, 24, 25]])"
            ]
          },
          "metadata": {},
          "execution_count": 35
        }
      ],
      "source": [
        "matriz[2: , 1:]"
      ]
    },
    {
      "cell_type": "code",
      "execution_count": null,
      "metadata": {
        "id": "JIGzOrnC9noi",
        "outputId": "65238362-09a5-4f54-abea-fe0a329da4b6",
        "colab": {
          "base_uri": "https://localhost:8080/"
        }
      },
      "outputs": [
        {
          "output_type": "execute_result",
          "data": {
            "text/plain": [
              "20"
            ]
          },
          "metadata": {},
          "execution_count": 37
        }
      ],
      "source": [
        "matriz[3,4]"
      ]
    },
    {
      "cell_type": "code",
      "execution_count": null,
      "metadata": {
        "id": "SxNr3Ca99noi",
        "outputId": "d3f82340-8f53-46e5-e999-c9c61c3f841a",
        "colab": {
          "base_uri": "https://localhost:8080/"
        }
      },
      "outputs": [
        {
          "output_type": "execute_result",
          "data": {
            "text/plain": [
              "array([[ 2],\n",
              "       [ 7],\n",
              "       [12]])"
            ]
          },
          "metadata": {},
          "execution_count": 42
        }
      ],
      "source": [
        "matriz[0:3, 1].reshape(3,1)"
      ]
    },
    {
      "cell_type": "code",
      "execution_count": null,
      "metadata": {
        "id": "30SAnKGg9noj",
        "outputId": "43bdec62-14d4-44d5-cfcb-e43046e39520",
        "colab": {
          "base_uri": "https://localhost:8080/"
        }
      },
      "outputs": [
        {
          "output_type": "execute_result",
          "data": {
            "text/plain": [
              "array([21, 22, 23, 24, 25])"
            ]
          },
          "metadata": {},
          "execution_count": 44
        }
      ],
      "source": [
        "matriz[-1, :]"
      ]
    },
    {
      "cell_type": "code",
      "execution_count": null,
      "metadata": {
        "id": "D73DyNK09noj",
        "outputId": "a457a801-2377-43cf-aa01-8541434565be",
        "colab": {
          "base_uri": "https://localhost:8080/"
        }
      },
      "outputs": [
        {
          "output_type": "execute_result",
          "data": {
            "text/plain": [
              "array([[16, 17, 18, 19, 20],\n",
              "       [21, 22, 23, 24, 25]])"
            ]
          },
          "metadata": {},
          "execution_count": 46
        }
      ],
      "source": [
        "matriz[-2:, :]"
      ]
    },
    {
      "cell_type": "markdown",
      "metadata": {
        "id": "7VM85y4j9noj"
      },
      "source": [
        "### Ahora haz lo siguiente"
      ]
    },
    {
      "cell_type": "markdown",
      "metadata": {
        "id": "OzW7D5sU9noj"
      },
      "source": [
        "#### Obtener la suma de todos los valores en mat"
      ]
    },
    {
      "cell_type": "code",
      "execution_count": null,
      "metadata": {
        "id": "A3rvs4Sh9nok",
        "colab": {
          "base_uri": "https://localhost:8080/"
        },
        "outputId": "8cf26329-d08b-4c43-a160-4de16f1e2072"
      },
      "outputs": [
        {
          "output_type": "execute_result",
          "data": {
            "text/plain": [
              "325"
            ]
          },
          "metadata": {},
          "execution_count": 47
        }
      ],
      "source": [
        "np.sum(matriz)"
      ]
    },
    {
      "cell_type": "markdown",
      "metadata": {
        "id": "MPS-yKSH9nok"
      },
      "source": [
        "####  Obtener la desviación estándar de los valores en mat"
      ]
    },
    {
      "cell_type": "code",
      "execution_count": null,
      "metadata": {
        "id": "HrlN7-YX9nok",
        "colab": {
          "base_uri": "https://localhost:8080/"
        },
        "outputId": "b44d7318-1225-4cf5-d3cd-7690c72c5a90"
      },
      "outputs": [
        {
          "output_type": "execute_result",
          "data": {
            "text/plain": [
              "7.211102550927978"
            ]
          },
          "metadata": {},
          "execution_count": 48
        }
      ],
      "source": [
        "np.std(matriz)"
      ]
    },
    {
      "cell_type": "markdown",
      "metadata": {
        "id": "34ajbNSg9nok"
      },
      "source": [
        "#### Obtener la suma de todas las columnas de mat"
      ]
    },
    {
      "cell_type": "code",
      "execution_count": null,
      "metadata": {
        "id": "BzrkVAmI9nok",
        "colab": {
          "base_uri": "https://localhost:8080/"
        },
        "outputId": "645e1a95-cb33-40e6-e2b6-8f74c537bbec"
      },
      "outputs": [
        {
          "output_type": "execute_result",
          "data": {
            "text/plain": [
              "array([55, 60, 65, 70, 75])"
            ]
          },
          "metadata": {},
          "execution_count": 50
        }
      ],
      "source": [
        "np.array([np.sum(matriz[:, 0]), np.sum(matriz[:, 1]), np.sum(matriz[:, 2]), np.sum(matriz[:, 3]), np.sum(matriz[:, 4])])"
      ]
    }
  ],
  "metadata": {
    "colab": {
      "provenance": [],
      "include_colab_link": true
    },
    "kernelspec": {
      "display_name": "Python 3 (ipykernel)",
      "language": "python",
      "name": "python3"
    },
    "language_info": {
      "codemirror_mode": {
        "name": "ipython",
        "version": 3
      },
      "file_extension": ".py",
      "mimetype": "text/x-python",
      "name": "python",
      "nbconvert_exporter": "python",
      "pygments_lexer": "ipython3",
      "version": "3.11.7"
    }
  },
  "nbformat": 4,
  "nbformat_minor": 0
}