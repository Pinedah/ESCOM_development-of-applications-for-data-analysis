{
  "cells": [
    {
      "cell_type": "markdown",
      "metadata": {
        "id": "view-in-github",
        "colab_type": "text"
      },
      "source": [
        "<a href=\"https://colab.research.google.com/github/Pinedah/ESCOM_development-of-applications-for-data-analysis/blob/main/Pr%C3%A1ctica4_4AM1_Eq9.ipynb\" target=\"_parent\"><img src=\"https://colab.research.google.com/assets/colab-badge.svg\" alt=\"Open In Colab\"/></a>"
      ]
    },
    {
      "cell_type": "markdown",
      "source": [
        "### Práctica 4\n",
        "Fecha de entrega: 9 de Octubre\n"
      ],
      "metadata": {
        "id": "kleInS1KrVJN"
      }
    },
    {
      "cell_type": "markdown",
      "source": [
        " \"**Practica4_4AM2_Eq9**\"\n",
        "\n",
        "> **Nombres:**<br>\n",
        "* Cortes Rosales Israel\n",
        "* Palma Pacheco Alan Daniel\n",
        "* Pineda Hernández Francisco\n",
        "* Ramírez Aguilar Rodrigo Vidal\n"
      ],
      "metadata": {
        "id": "RmppEZvw3PYx"
      }
    },
    {
      "cell_type": "code",
      "execution_count": null,
      "metadata": {
        "colab": {
          "base_uri": "https://localhost:8080/",
          "height": 73
        },
        "id": "jpK9_kARfipc",
        "outputId": "7ecae6ff-94cf-4c45-c52d-7e204b9d3fd3"
      },
      "outputs": [
        {
          "output_type": "display_data",
          "data": {
            "text/plain": [
              "<IPython.core.display.HTML object>"
            ],
            "text/html": [
              "\n",
              "     <input type=\"file\" id=\"files-76fc9ca7-083f-4040-bde8-3497bb76a6dc\" name=\"files[]\" multiple disabled\n",
              "        style=\"border:none\" />\n",
              "     <output id=\"result-76fc9ca7-083f-4040-bde8-3497bb76a6dc\">\n",
              "      Upload widget is only available when the cell has been executed in the\n",
              "      current browser session. Please rerun this cell to enable.\n",
              "      </output>\n",
              "      <script>// Copyright 2017 Google LLC\n",
              "//\n",
              "// Licensed under the Apache License, Version 2.0 (the \"License\");\n",
              "// you may not use this file except in compliance with the License.\n",
              "// You may obtain a copy of the License at\n",
              "//\n",
              "//      http://www.apache.org/licenses/LICENSE-2.0\n",
              "//\n",
              "// Unless required by applicable law or agreed to in writing, software\n",
              "// distributed under the License is distributed on an \"AS IS\" BASIS,\n",
              "// WITHOUT WARRANTIES OR CONDITIONS OF ANY KIND, either express or implied.\n",
              "// See the License for the specific language governing permissions and\n",
              "// limitations under the License.\n",
              "\n",
              "/**\n",
              " * @fileoverview Helpers for google.colab Python module.\n",
              " */\n",
              "(function(scope) {\n",
              "function span(text, styleAttributes = {}) {\n",
              "  const element = document.createElement('span');\n",
              "  element.textContent = text;\n",
              "  for (const key of Object.keys(styleAttributes)) {\n",
              "    element.style[key] = styleAttributes[key];\n",
              "  }\n",
              "  return element;\n",
              "}\n",
              "\n",
              "// Max number of bytes which will be uploaded at a time.\n",
              "const MAX_PAYLOAD_SIZE = 100 * 1024;\n",
              "\n",
              "function _uploadFiles(inputId, outputId) {\n",
              "  const steps = uploadFilesStep(inputId, outputId);\n",
              "  const outputElement = document.getElementById(outputId);\n",
              "  // Cache steps on the outputElement to make it available for the next call\n",
              "  // to uploadFilesContinue from Python.\n",
              "  outputElement.steps = steps;\n",
              "\n",
              "  return _uploadFilesContinue(outputId);\n",
              "}\n",
              "\n",
              "// This is roughly an async generator (not supported in the browser yet),\n",
              "// where there are multiple asynchronous steps and the Python side is going\n",
              "// to poll for completion of each step.\n",
              "// This uses a Promise to block the python side on completion of each step,\n",
              "// then passes the result of the previous step as the input to the next step.\n",
              "function _uploadFilesContinue(outputId) {\n",
              "  const outputElement = document.getElementById(outputId);\n",
              "  const steps = outputElement.steps;\n",
              "\n",
              "  const next = steps.next(outputElement.lastPromiseValue);\n",
              "  return Promise.resolve(next.value.promise).then((value) => {\n",
              "    // Cache the last promise value to make it available to the next\n",
              "    // step of the generator.\n",
              "    outputElement.lastPromiseValue = value;\n",
              "    return next.value.response;\n",
              "  });\n",
              "}\n",
              "\n",
              "/**\n",
              " * Generator function which is called between each async step of the upload\n",
              " * process.\n",
              " * @param {string} inputId Element ID of the input file picker element.\n",
              " * @param {string} outputId Element ID of the output display.\n",
              " * @return {!Iterable<!Object>} Iterable of next steps.\n",
              " */\n",
              "function* uploadFilesStep(inputId, outputId) {\n",
              "  const inputElement = document.getElementById(inputId);\n",
              "  inputElement.disabled = false;\n",
              "\n",
              "  const outputElement = document.getElementById(outputId);\n",
              "  outputElement.innerHTML = '';\n",
              "\n",
              "  const pickedPromise = new Promise((resolve) => {\n",
              "    inputElement.addEventListener('change', (e) => {\n",
              "      resolve(e.target.files);\n",
              "    });\n",
              "  });\n",
              "\n",
              "  const cancel = document.createElement('button');\n",
              "  inputElement.parentElement.appendChild(cancel);\n",
              "  cancel.textContent = 'Cancel upload';\n",
              "  const cancelPromise = new Promise((resolve) => {\n",
              "    cancel.onclick = () => {\n",
              "      resolve(null);\n",
              "    };\n",
              "  });\n",
              "\n",
              "  // Wait for the user to pick the files.\n",
              "  const files = yield {\n",
              "    promise: Promise.race([pickedPromise, cancelPromise]),\n",
              "    response: {\n",
              "      action: 'starting',\n",
              "    }\n",
              "  };\n",
              "\n",
              "  cancel.remove();\n",
              "\n",
              "  // Disable the input element since further picks are not allowed.\n",
              "  inputElement.disabled = true;\n",
              "\n",
              "  if (!files) {\n",
              "    return {\n",
              "      response: {\n",
              "        action: 'complete',\n",
              "      }\n",
              "    };\n",
              "  }\n",
              "\n",
              "  for (const file of files) {\n",
              "    const li = document.createElement('li');\n",
              "    li.append(span(file.name, {fontWeight: 'bold'}));\n",
              "    li.append(span(\n",
              "        `(${file.type || 'n/a'}) - ${file.size} bytes, ` +\n",
              "        `last modified: ${\n",
              "            file.lastModifiedDate ? file.lastModifiedDate.toLocaleDateString() :\n",
              "                                    'n/a'} - `));\n",
              "    const percent = span('0% done');\n",
              "    li.appendChild(percent);\n",
              "\n",
              "    outputElement.appendChild(li);\n",
              "\n",
              "    const fileDataPromise = new Promise((resolve) => {\n",
              "      const reader = new FileReader();\n",
              "      reader.onload = (e) => {\n",
              "        resolve(e.target.result);\n",
              "      };\n",
              "      reader.readAsArrayBuffer(file);\n",
              "    });\n",
              "    // Wait for the data to be ready.\n",
              "    let fileData = yield {\n",
              "      promise: fileDataPromise,\n",
              "      response: {\n",
              "        action: 'continue',\n",
              "      }\n",
              "    };\n",
              "\n",
              "    // Use a chunked sending to avoid message size limits. See b/62115660.\n",
              "    let position = 0;\n",
              "    do {\n",
              "      const length = Math.min(fileData.byteLength - position, MAX_PAYLOAD_SIZE);\n",
              "      const chunk = new Uint8Array(fileData, position, length);\n",
              "      position += length;\n",
              "\n",
              "      const base64 = btoa(String.fromCharCode.apply(null, chunk));\n",
              "      yield {\n",
              "        response: {\n",
              "          action: 'append',\n",
              "          file: file.name,\n",
              "          data: base64,\n",
              "        },\n",
              "      };\n",
              "\n",
              "      let percentDone = fileData.byteLength === 0 ?\n",
              "          100 :\n",
              "          Math.round((position / fileData.byteLength) * 100);\n",
              "      percent.textContent = `${percentDone}% done`;\n",
              "\n",
              "    } while (position < fileData.byteLength);\n",
              "  }\n",
              "\n",
              "  // All done.\n",
              "  yield {\n",
              "    response: {\n",
              "      action: 'complete',\n",
              "    }\n",
              "  };\n",
              "}\n",
              "\n",
              "scope.google = scope.google || {};\n",
              "scope.google.colab = scope.google.colab || {};\n",
              "scope.google.colab._files = {\n",
              "  _uploadFiles,\n",
              "  _uploadFilesContinue,\n",
              "};\n",
              "})(self);\n",
              "</script> "
            ]
          },
          "metadata": {}
        },
        {
          "output_type": "stream",
          "name": "stdout",
          "text": [
            "Saving Spotify.csv to Spotify.csv\n"
          ]
        }
      ],
      "source": [
        "from google.colab import files\n",
        "uploaded = files.upload()"
      ]
    },
    {
      "cell_type": "code",
      "execution_count": null,
      "metadata": {
        "id": "ZCn4Z7XPWGzl",
        "colab": {
          "base_uri": "https://localhost:8080/"
        },
        "outputId": "d877496a-f2a7-4934-fa7b-9dcb77db2e47"
      },
      "outputs": [
        {
          "output_type": "stream",
          "name": "stdout",
          "text": [
            "Selecciona el nombre del archivo que deseas manipular. Ejemplo: hola.csv\n",
            "MBA.csv\n",
            "¿Cuál es el formato de tu archivo? (CSV, TSV, Excel, JSON, XML, HDF5)\n",
            "csv\n",
            "¿A qué formato deseas hacer la conversión? ['csv', 'tsv', 'excel', 'json', 'xml', 'hdf5']\n",
            "hdf5\n",
            "¿Cómo quieres que se llame tu archivo convertido? Ejemplo: hola.tsv\n",
            " Las extensiones son: ['CSV: .csv', 'TSV: .tsv', 'Excel: .xlsx', 'JSON: .json', 'XML: .xml', 'HDF5: .h5']MBA.h5\n",
            "Archivo convertido a formato hdf5 con el nombre de: 'MBA.h5'.\n"
          ]
        }
      ],
      "source": [
        "import pandas as pd  # Para trabajar con la mayoría de los formatos\n",
        "import json          # Para exportar a JSON\n",
        "import xml.etree.ElementTree as ET  # Para exportar a XML\n",
        "import h5py          # Para exportar a HDF5\n",
        "import openpyxl      #Para archivos excel\n",
        "\n",
        "# Función para leer los archivos y convertirlos después a otro formato.\n",
        "def conversor(archivo, tipo_archivo, formato_conversión, archivo_convertido):\n",
        "    if tipo_archivo == formato_conversión:  # En caso de que el formato a convertir sea el mismo del archivo original.\n",
        "        print(f\"Tu archivo {archivo} ya está en formato {formato_conversión}.\")\n",
        "        return\n",
        "\n",
        "    # Esta parte se encarga de leer el archivo según su tipo:\n",
        "    try:\n",
        "        # Leer un archivo csv\n",
        "        if tipo_archivo == \"csv\":\n",
        "            df = pd.read_csv(archivo)\n",
        "        # Leer un archivo tsv\n",
        "        elif tipo_archivo == \"tsv\":\n",
        "            df = pd.read_csv(archivo, sep=\"\\t\")\n",
        "        # Leer un archivo excel\n",
        "        elif tipo_archivo == \"excel\":\n",
        "            df = pd.read_excel(archivo)\n",
        "        # Leer un archivo json\n",
        "        elif tipo_archivo == \"json\":\n",
        "            with open(archivo, 'r') as f:\n",
        "                df = pd.DataFrame(json.load(f))\n",
        "        # Leer un archivo xml\n",
        "        elif tipo_archivo == \"xml\":\n",
        "            arbol = ET.parse(archivo)\n",
        "            raiz = arbol.getroot()\n",
        "            datos = []\n",
        "            for hijo in raiz:\n",
        "                datos.append({elemento.tag: elemento.text for elemento in hijo})\n",
        "            df = pd.DataFrame(datos)  # Convertir la estructura de XML a DataFrame\n",
        "        # Leer un archivo hdf5\n",
        "        elif tipo_archivo == \"hdf5\":\n",
        "            df = {}\n",
        "            with h5py.File(archivo, 'r') as f:\n",
        "                for key in f.keys():\n",
        "                    df[key] = f[key][:]  # Guardar cada dataset en un diccionario\n",
        "            df = pd.DataFrame(df)  # Convertir el diccionario a DataFrame\n",
        "        else:\n",
        "            raise ValueError(f\"No se puede convertir tu archivo desde {tipo_archivo} al formato {formato_conversión}\")\n",
        "\n",
        "    except FileNotFoundError:\n",
        "        print(f\"El archivo '{archivo}' no se encuentra en el directorio actual.\")\n",
        "        return\n",
        "\n",
        "    # Esta parte de la función se encarga de convertir el archivo al formato deseado:\n",
        "    try:\n",
        "       #Comvertir a csv\n",
        "        if formato_conversión == \"csv\":\n",
        "            df.to_csv(archivo_convertido, index=False)\n",
        "        #Convertir a tsv\n",
        "        elif formato_conversión == \"tsv\":\n",
        "            df.to_csv(archivo_convertido, sep=\"\\t\", index=False)\n",
        "        #Convertir a excel\n",
        "        elif formato_conversión == \"excel\":\n",
        "            df.to_excel(archivo_convertido, index=False)\n",
        "        #Convertir a json\n",
        "        elif formato_conversión == \"json\":\n",
        "          # Verifica si alguna columna contiene objetos de tipo bytes y conviértelos a string\n",
        "            for col in df.columns:\n",
        "              if df[col].dtype == 'object':\n",
        "                 df[col] = df[col].apply(lambda x: x.decode('utf-8') if isinstance(x, bytes) else x)\n",
        "            with open(archivo_convertido, 'w') as f:\n",
        "                json.dump(df.to_dict(orient=\"records\"), f)\n",
        "        #Convertir a xml\n",
        "        elif formato_conversión == \"xml\":\n",
        "            raiz = ET.Element(\"raiz\")\n",
        "            for _, fila in df.iterrows():\n",
        "                item = ET.SubElement(raiz, \"item\")\n",
        "                for col, val in fila.items():\n",
        "                    hijo = ET.SubElement(item, col)\n",
        "                    hijo.text = str(val)\n",
        "            arbol = ET.ElementTree(raiz)\n",
        "            arbol.write(archivo_convertido)\n",
        "        #Convertir a hdf5\n",
        "        elif formato_conversión == \"hdf5\":\n",
        "           # Convertir columnas de tipo object a string (Esto por el caso de hdf5 que no acepta las columnas object)\n",
        "            for col in df.select_dtypes(include=['object']).columns:\n",
        "                 df[col] = df[col].astype(str)\n",
        "            with h5py.File(archivo_convertido, 'w') as f:\n",
        "                for col in df.columns:\n",
        "                    f.create_dataset(col, data=df[col].values)\n",
        "        print(f\"Archivo convertido a formato {formato_conversión} con el nombre de: '{archivo_convertido}'.\")\n",
        "    except Exception as e:\n",
        "        print(f\"Error: {str(e)}\")\n",
        "\n",
        "# Función principal donde se piden los datos al usuario\n",
        "def main():\n",
        "    archivo = input(\"Selecciona el nombre del archivo que deseas manipular. Ejemplo: hola.csv\\n\")\n",
        "    tipo_archivo = input(\"¿Cuál es el formato de tu archivo? (CSV, TSV, Excel, JSON, XML, HDF5)\\n\").lower()\n",
        "\n",
        "    formatos_validos = [\"csv\", \"tsv\", \"excel\", \"json\", \"xml\", \"hdf5\"]\n",
        "    formatos_punto = [\"CSV: .csv\", \"TSV: .tsv\", \"Excel: .xlsx\", \"JSON: .json\", \"XML: .xml\", \"HDF5: .h5\"]\n",
        "\n",
        "    if tipo_archivo in formatos_validos:\n",
        "        formato_conversión = input(f\"¿A qué formato deseas hacer la conversión? {formatos_validos}\\n\").lower()\n",
        "        if formato_conversión not in formatos_validos:\n",
        "            print(f\"Formato no válido. Debe ser uno de los siguientes: {formatos_validos}\")\n",
        "            return\n",
        "\n",
        "        archivo_convertido = input(f\"¿Cómo quieres que se llame tu archivo convertido? Ejemplo: hola.tsv\\n Las extensiones son: {formatos_punto}\")\n",
        "        conversor(archivo, tipo_archivo, formato_conversión, archivo_convertido)\n",
        "    else:\n",
        "        print(f\"Formato no reconocido. Los formatos válidos son: {formatos_validos}\")\n",
        "\n",
        "if __name__ == '__main__':\n",
        "    main()\n"
      ]
    },
    {
      "cell_type": "markdown",
      "source": [
        "# A partir de aqui se presenta el código utilizado para la medición del tiempo de carga de cada formato."
      ],
      "metadata": {
        "id": "2pIhRTWd9tlC"
      }
    },
    {
      "cell_type": "code",
      "source": [
        "import pandas as pd  # Para trabajar con la mayoría de los formatos\n",
        "import json          # Para exportar a JSON\n",
        "import xml.etree.ElementTree as ET  # Para exportar a XML\n",
        "import h5py          # Para exportar a HDF5\n",
        "import openpyxl      #Para archivos excel\n",
        "import time #Para medir el tiempo de carga\n",
        "archivo1=\"Spotify\"\n",
        "archivo2=\"MBA\"\n"
      ],
      "metadata": {
        "id": "TR_gLnvI93v6"
      },
      "execution_count": null,
      "outputs": []
    },
    {
      "cell_type": "code",
      "source": [
        "inicio = time.time()\n",
        "df = pd.read_csv(f'{archivo2}.csv') #Leer csv\n",
        "final = time.time()\n",
        "total = round(final - inicio,3)\n",
        "\n",
        "print(f\"Tiempo de carga: {total} segundos\")"
      ],
      "metadata": {
        "colab": {
          "base_uri": "https://localhost:8080/"
        },
        "id": "oxL2rm_z94lo",
        "outputId": "40643bbc-3ef4-453e-e5cb-3c1d33bab543"
      },
      "execution_count": null,
      "outputs": [
        {
          "output_type": "stream",
          "name": "stdout",
          "text": [
            "Tiempo de carga: 0.026 segundos\n"
          ]
        }
      ]
    },
    {
      "cell_type": "code",
      "source": [
        "inicio = time.time()\n",
        "df = pd.read_csv(f'{archivo2}.tsv', sep=\"\\t\") #Leer tsv\n",
        "final = time.time()\n",
        "total = round(final - inicio,3)\n",
        "print(f\"Tiempo de carga: {total} segundos\")"
      ],
      "metadata": {
        "colab": {
          "base_uri": "https://localhost:8080/"
        },
        "id": "rOF_jIFg-MIU",
        "outputId": "4388d4f9-3e15-4f9f-9406-b8d2436b548c"
      },
      "execution_count": null,
      "outputs": [
        {
          "output_type": "stream",
          "name": "stdout",
          "text": [
            "Tiempo de carga: 0.015 segundos\n"
          ]
        }
      ]
    },
    {
      "cell_type": "code",
      "source": [
        "inicio = time.time()\n",
        "df = pd.read_excel(f'{archivo2}.xlsx')#leer excel\n",
        "final = time.time()\n",
        "total = round(final - inicio,3)\n",
        "print(f\"Tiempo de carga: {total} segundos\")"
      ],
      "metadata": {
        "colab": {
          "base_uri": "https://localhost:8080/"
        },
        "id": "BWqDaw9T_u_u",
        "outputId": "375faf04-16c6-4ae1-c1ef-db4936e5e8b9"
      },
      "execution_count": null,
      "outputs": [
        {
          "output_type": "stream",
          "name": "stdout",
          "text": [
            "Tiempo de carga: 3.521 segundos\n"
          ]
        }
      ]
    },
    {
      "cell_type": "code",
      "source": [
        "inicio = time.time()\n",
        "with open(f'{archivo2}.json', 'r') as f:\n",
        "                df = pd.DataFrame(json.load(f)) #leer json\n",
        "final = time.time()\n",
        "total = round(final - inicio,3)\n",
        "print(f\"Tiempo de carga: {total} segundos\")"
      ],
      "metadata": {
        "colab": {
          "base_uri": "https://localhost:8080/"
        },
        "id": "H_VYIVPS_wuo",
        "outputId": "76aac93a-0207-4a2d-c3bb-bc53db915876"
      },
      "execution_count": null,
      "outputs": [
        {
          "output_type": "stream",
          "name": "stdout",
          "text": [
            "Tiempo de carga: 0.03 segundos\n"
          ]
        }
      ]
    },
    {
      "cell_type": "code",
      "source": [
        "inicio = time.time()\n",
        "arbol = ET.parse(f'{archivo2}.xml')  #leer xml\n",
        "raiz = arbol.getroot()\n",
        "data = []\n",
        "for hijo in raiz:\n",
        "    data.append({element.tag: element.text for element in hijo})\n",
        "df = pd.DataFrame(data)\n",
        "final = time.time()\n",
        "total = round(final - inicio,3)\n",
        "print(f\"Tiempo de carga: {total} segundos\")"
      ],
      "metadata": {
        "colab": {
          "base_uri": "https://localhost:8080/"
        },
        "id": "l5ETjLuf_zm_",
        "outputId": "d39a8077-2b75-459f-8aa6-a0eb15dbd937"
      },
      "execution_count": null,
      "outputs": [
        {
          "output_type": "stream",
          "name": "stdout",
          "text": [
            "Tiempo de carga: 0.191 segundos\n"
          ]
        }
      ]
    },
    {
      "cell_type": "code",
      "source": [
        "inicio = time.time()\n",
        "df = {}\n",
        "with h5py.File(f'{archivo2}.h5', 'r') as f:\n",
        "  for key in f.keys():\n",
        "      df[key] = f[key][:]  # Guardar cada dataset en un diccionario\n",
        "df = pd.DataFrame(df)\n",
        "final = time.time()\n",
        "total = round(final - inicio,3)\n",
        "print(f\"Tiempo de carga: {total} segundos\")"
      ],
      "metadata": {
        "colab": {
          "base_uri": "https://localhost:8080/"
        },
        "id": "cTBMc1ryACBk",
        "outputId": "4644978e-f6d5-45af-ede8-44d7fee813d7"
      },
      "execution_count": null,
      "outputs": [
        {
          "output_type": "stream",
          "name": "stdout",
          "text": [
            "Tiempo de carga: 0.121 segundos\n"
          ]
        }
      ]
    }
  ],
  "metadata": {
    "colab": {
      "provenance": [],
      "include_colab_link": true
    },
    "kernelspec": {
      "display_name": "Python 3",
      "name": "python3"
    },
    "language_info": {
      "name": "python"
    }
  },
  "nbformat": 4,
  "nbformat_minor": 0
}