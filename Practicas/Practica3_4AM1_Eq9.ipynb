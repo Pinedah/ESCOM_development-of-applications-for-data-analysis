{
  "cells": [
    {
      "cell_type": "markdown",
      "metadata": {
        "id": "view-in-github",
        "colab_type": "text"
      },
      "source": [
        "<a href=\"https://colab.research.google.com/github/Pinedah/ESCOM_development-of-applications-for-data-analysis/blob/main/Practica3_4AM1_Eq9.ipynb\" target=\"_parent\"><img src=\"https://colab.research.google.com/assets/colab-badge.svg\" alt=\"Open In Colab\"/></a>"
      ]
    },
    {
      "cell_type": "markdown",
      "metadata": {
        "id": "9UT7UMG7cYrW"
      },
      "source": [
        "# Desarrollo de Aplicaciones para Análisis de Datos\n",
        "\n",
        "## Práctica 3.\n",
        "\n",
        "\n",
        "> **Fecha de Entrega: 26 de septiembre**\n",
        "\n",
        "\n",
        "\n",
        "<hr>"
      ]
    },
    {
      "cell_type": "markdown",
      "metadata": {
        "id": "42cQ1XbQNXB3"
      },
      "source": [
        "\n",
        "\n",
        "> **Nota.** Renombrar el documento incluyendo agregando su equipo:\n",
        " \"**Practica3_4AM1_Eq **\"\n",
        "\n",
        "> **Nombres**: <br>\n",
        "* Cortes Rosales Israel\n",
        "*Pineda Hernández Francisco\n",
        "* Ramirez Aguilar Rodrigo\n",
        "* Palma Pacheco Alan Daniel\n"
      ]
    },
    {
      "cell_type": "markdown",
      "metadata": {
        "id": "7sL6zmiL37Jj"
      },
      "source": [
        "\n",
        "**Ejercicio 1. Unidades de distancia**\n",
        "\n",
        "Diseñen un programa que solicite al usuario una medida en pies. Posteriormente, el programa calculará y mostrará dicha medida equivalente en pulgadas, yardas y millas.\n"
      ]
    },
    {
      "cell_type": "code",
      "source": [
        "# 1 pie es igual a 12 pulgadas\n",
        "#1 pie es igual a 0.333333 yardas\n",
        "#1 pie es igual a 0.000189394 millas\n",
        "\n",
        "print(\"Conversor de pie a pulgadas, yardas y millas\")\n",
        "pie= float(input(\"Digite la cantidad en Pies que desee convertir: \"))\n",
        "\n",
        "def conversor(pie):\n",
        "    pulgada= pie*12\n",
        "    yarda= pie*0.333333\n",
        "    milla= pie*0.000189394\n",
        "    if pie==0:\n",
        "       return print(\"¿Para qué quieres calcular eso?, pues 0 en todas\")\n",
        "    elif pie==1:\n",
        "       return print(f\"Un pie es igual a: {pulgada} pulgadas, {yarda} yardas, {milla} millas\")\n",
        "    else:\n",
        "       return print(f\"{pie} pies es igual a:\\n {pulgada} pulgadas.\\n {yarda} yardas.\\n {milla} millas\")\n",
        "\n",
        "conversor(pie)"
      ],
      "metadata": {
        "colab": {
          "base_uri": "https://localhost:8080/"
        },
        "id": "-2ucruc1mFb8",
        "outputId": "1358c719-3b5a-426d-e8c1-1f4187ad1400"
      },
      "execution_count": null,
      "outputs": [
        {
          "output_type": "stream",
          "name": "stdout",
          "text": [
            "Conversor de pie a pulgadas, yardas y millas\n",
            "Digite la cantidad en Pies que desee convertir: 3.5\n",
            "3.5 pies es igual a:\n",
            " 42.0 pulgadas.\n",
            " 1.1666655 yardas.\n",
            " 0.000662879 millas\n"
          ]
        }
      ]
    },
    {
      "cell_type": "markdown",
      "metadata": {
        "id": "jBcJZTFDKLsL"
      },
      "source": [
        "**Ejercicio 2. Nombre del mes a número de días**\n",
        "\n",
        "Los meses pueden tener una duración variable de 28 a 31 días. En este ejercicio, creen un programa que solicite al usuario el nombre de un mes como una cadena. Luego, el programa mostrará el número de días correspondiente a ese mes. Para abordar los años bisiestos, en el caso de febrero, se mostrará '28 o 29 días'."
      ]
    },
    {
      "cell_type": "code",
      "source": [
        "def dias_en_mes(mes):\n",
        "    # Los meses que tienen 31 días\n",
        "    meses_31 = ['enero', 'marzo', 'mayo', 'julio', 'agosto', 'octubre', 'diciembre']\n",
        "    # Los meses que tienen 30 días\n",
        "    meses_30 = ['abril', 'junio', 'septiembre', 'noviembre']\n",
        "\n",
        "    #Para cambiar  la  letra inicial a mayusucla\n",
        "    mes = mes.lower()\n",
        "\n",
        "    # Verificar el mes y devolver el número de días correspondiente\n",
        "    if mes in meses_31:\n",
        "        return f\"{mes.capitalize()} tiene 31 días.\"\n",
        "    elif mes in meses_30:\n",
        "        return f\"{mes.capitalize()} tiene 30 días.\"\n",
        "    elif mes == 'febrero':\n",
        "        return \"Febrero tiene 28 o 29 días.\"\n",
        "    else:\n",
        "        return \"El mes ingresado no es válido.\"\n",
        "\n",
        "mes_usuario = input(\"Ingrese el nombre de un mes: \")\n",
        "print(dias_en_mes(mes_usuario))\n"
      ],
      "metadata": {
        "colab": {
          "base_uri": "https://localhost:8080/"
        },
        "id": "9guBliEkpJ41",
        "outputId": "028a5291-a58d-47e4-c025-ebea996c039c"
      },
      "execution_count": null,
      "outputs": [
        {
          "output_type": "stream",
          "name": "stdout",
          "text": [
            "Ingrese el nombre de un mes: Febrero\n",
            "Febrero tiene 28 o 29 días.\n"
          ]
        }
      ]
    },
    {
      "cell_type": "markdown",
      "metadata": {
        "id": "gJy06osr5QDE"
      },
      "source": [
        "**Ejercicio 3: ¿Es un año bisiesto?**\n",
        "\n",
        "La mayoría de los años tienen 365 días. Sin embargo, el tiempo necesario para que la Tierra orbite alrededor del Sol\n",
        "en realidad es un poco más que eso. Como resultado, se incluye un día extra, el 29 de febrero.\n",
        "en algunos años para corregir esta diferencia. Estos años se denominan años bisiestos.\n",
        "Las reglas para determinar si un año es bisiesto o no son las siguientes:\n",
        "\n",
        " - Cualquier año que sea divisible por 400 es un año bisiesto.\n",
        " - Del resto de años, cualquier año que sea divisible por 100 no es bisiesto.\n",
        " - Del resto de años, cualquier año que sea divisible por 4 es bisiesto.\n",
        " - Todos los demás años no son bisiestos.\n",
        "\n",
        "Escriba un programa que lea un año del usuario y muestre un mensaje indicando\n",
        "si es o no un año bisiesto."
      ]
    },
    {
      "cell_type": "code",
      "source": [
        "\n",
        "def esBisiesto(anio):\n",
        "  if anio % 400 == 0:\n",
        "    return True\n",
        "  elif (anio % 400) % 100 == 0:\n",
        "    return False\n",
        "  elif ((anio % 400) % 100) % 4 == 0:\n",
        "    return True\n",
        "  else:\n",
        "    return False\n",
        "\n",
        "\n",
        "def main():\n",
        "  try:\n",
        "    anio = int(input(\"Ingresa un año:\\t\"))\n",
        "  except ValueError:\n",
        "    print(\"Ingresa un año valido\")\n",
        "    return\n",
        "\n",
        "  if esBisiesto(anio):\n",
        "    print(f\"{anio} es un año bisiesto\")\n",
        "  else:\n",
        "    print(f\"{anio} NO es un año bisiesto\")\n",
        "\n",
        "if __name__ == '__main__':\n",
        "  main()\n"
      ],
      "metadata": {
        "colab": {
          "base_uri": "https://localhost:8080/"
        },
        "id": "JXK7nUebetzl",
        "outputId": "38aaab11-40db-4350-8e73-ec5b3ab2f0f1"
      },
      "execution_count": null,
      "outputs": [
        {
          "output_type": "stream",
          "name": "stdout",
          "text": [
            "Ingresa un año:\ta\n",
            "Ingresa un año valido\n"
          ]
        }
      ]
    },
    {
      "cell_type": "markdown",
      "metadata": {
        "id": "LKznyO5P5u4L"
      },
      "source": [
        "**Ejercicio 4: Siguiente día**\n",
        "\n",
        "Escriban un programa que lea una fecha del usuario y calcule su sucesor inmediato. Por ejemplo, si el usuario ingresa valores que representan **2013-11-18**, entonces su programa debería mostrar un mensaje indicando que el día inmediatamente después del **2013-11-18** es **2013-11-19**.\n",
        "\n",
        "Si el usuario ingresa valores que representan **2013-11-30**, entonces el programa debe indicar que el día siguiente es **2013-12-01**. Si el usuario ingresa valores que representan **2013-12-31** entonces el programa debería indicar que el día siguiente es **2014-01-01**.\n",
        "\n",
        "La fecha se ingresará en forma numérica con tres declaraciones de entrada separadas; uno para el año, uno para el mes y otro para el día. Asegúrense de que su programa funcione correctamente para los años bisiestos."
      ]
    },
    {
      "cell_type": "code",
      "execution_count": null,
      "metadata": {
        "id": "6KW5qZ0k4iOK",
        "colab": {
          "base_uri": "https://localhost:8080/"
        },
        "outputId": "9f3a3ae9-cf95-4ecf-909f-8f32b50a2a78"
      },
      "outputs": [
        {
          "output_type": "stream",
          "name": "stdout",
          "text": [
            "Ingresa un año:\t2013\n",
            "Ingresa un mes:\t02\n",
            "Ingresa un dia:\t28\n",
            "El dia siguiente es 2013-03-01\n"
          ]
        }
      ],
      "source": [
        "meses31 = [1, 3, 5, 7, 8, 10, 12]\n",
        "def main():\n",
        "  try:\n",
        "    anio = int(input(\"Ingresa un año:\\t\"))\n",
        "    mes = int(input(\"Ingresa un mes:\\t\"))\n",
        "    dia = int(input(\"Ingresa un dia:\\t\"))\n",
        "    if anio < 0:\n",
        "      raise ValueError\n",
        "    if mes > 12 or mes < 1:\n",
        "      raise ValueError\n",
        "    if dia > 31 or dia < 1:\n",
        "      raise ValueError\n",
        "    if mes == 2 and dia >= 29 and not esBisiesto(anio):\n",
        "      raise ValueError\n",
        "    if dia > 30 and not (mes in meses31):\n",
        "      raise ValueError\n",
        "  except ValueError:\n",
        "    print(\"Ingresa una fecha valida\")\n",
        "    return\n",
        "\n",
        "  anio, mes, dia = diaSiguiente(anio, mes, dia)\n",
        "  if mes > 9:\n",
        "    mes = mes\n",
        "  else :\n",
        "    mes = \"0\"+str(mes)\n",
        "  if dia>9:\n",
        "    dia = dia\n",
        "  else :\n",
        "    dia = \"0\"+str(dia)\n",
        "  print(\"El dia siguiente es {}-{}-{}\".format(anio, mes, dia))\n",
        "\n",
        "\n",
        "def diaSiguiente(anio, mes, dia):\n",
        "  if dia == 28 and mes == 2 and esBisiesto(anio):\n",
        "    return anio, mes, dia + 1\n",
        "  elif dia == 28 and mes == 2:\n",
        "    return anio, mes + 1, 1\n",
        "  elif dia == 29 and mes == 2:\n",
        "    return anio, mes + 1, 1\n",
        "  elif dia == 30 and mes in meses31:\n",
        "    return anio, mes, dia+1\n",
        "  elif dia == 30 and not (mes in meses31):\n",
        "    return anio, mes + 1, 1\n",
        "  elif dia == 31 and mes == 12:\n",
        "    return anio + 1, 1, 1\n",
        "  else:\n",
        "    return anio, mes, dia + 1\n",
        "\n",
        "if __name__ == '__main__':\n",
        "  main()\n"
      ]
    }
  ],
  "metadata": {
    "colab": {
      "provenance": [],
      "include_colab_link": true
    },
    "kernelspec": {
      "display_name": "Python 3",
      "language": "python",
      "name": "python3"
    },
    "language_info": {
      "codemirror_mode": {
        "name": "ipython",
        "version": 3
      },
      "file_extension": ".py",
      "mimetype": "text/x-python",
      "name": "python",
      "nbconvert_exporter": "python",
      "pygments_lexer": "ipython3",
      "version": "3.8.5"
    },
    "vscode": {
      "interpreter": {
        "hash": "074199b25a8a867ea9a75b8ed3063be9f78cb342e7387ae79a15242657ecab73"
      }
    }
  },
  "nbformat": 4,
  "nbformat_minor": 0
}