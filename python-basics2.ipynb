{
 "cells": [
  {
   "cell_type": "markdown",
   "id": "2045f58b",
   "metadata": {},
   "source": [
    "<hr>\n",
    "\n",
    "# TIPOS DE DATOS\n",
    "\n",
    "## set <class 'set'>\n",
    "Es una colección: \n",
    "* Desordenada: No se puede acceder a sus valores mediante un indice como una lista\n",
    "* Valores unicos: No se pueden repetir los valores dentro del Set.\n",
    "-> Pensar al SET como un conjunto matemático, ya que de igual manera es posible realizar las operaciones como union, diferencia, intersección, diferencia simetrica, etc."
   ]
  },
  {
   "cell_type": "markdown",
   "id": "ebbf7df2",
   "metadata": {},
   "source": [
    "Creación de sets\n",
    "En Python los sets se pueden crear de dos formas distintas. \n",
    "\n",
    "* Usando llaves {} y separando los elementos por comas\n",
    "* Usando el método constructor Set al que se le debe pasar una lista con los elementos del set\n",
    "* Para crear un set vacio se debe usar el constructor, ya que si solo dejamos las llaves, python lo interpreta como diccionario.\n"
   ]
  },
  {
   "cell_type": "code",
   "execution_count": 1,
   "id": "2d95a6d6",
   "metadata": {},
   "outputs": [
    {
     "name": "stdout",
     "output_type": "stream",
     "text": [
      "<class 'set'>\n",
      "{1, 2, 3, 4, 5, 6, 7, 8, 9, 10, 11}\n",
      "{1, 2, 3, 4, 5, 6, 7, 8, 9, 10, 11}\n",
      "<class 'set'>\n",
      "set()\n"
     ]
    }
   ],
   "source": [
    "mySet = {1,2,3,4,5,6,7,8,9,10,11,11,10,9,3,1,3,7,2}\n",
    "print(type(mySet))\n",
    "print(mySet)\n",
    "\n",
    "myList = [1,2,3,4,5,6,7,8,9,10,11,11,10,9,3,1,3,7,2]\n",
    "mySet2 = set(myList)\n",
    "print(mySet2)\n",
    "\n",
    "emptySet = set()\n",
    "print(type(emptySet))\n",
    "print(emptySet)"
   ]
  },
  {
   "cell_type": "markdown",
   "id": "6fc7f13e",
   "metadata": {},
   "source": [
    "* Para acceder a los elementos de un set, se debe hacer mediante un bucle for\n",
    "* Para comprobar si algun elemento está en un set se debera usar el operador in"
   ]
  },
  {
   "cell_type": "code",
   "execution_count": 16,
   "id": "1064f7a6",
   "metadata": {},
   "outputs": [
    {
     "name": "stdout",
     "output_type": "stream",
     "text": [
      "{1, 3, 5, 'dos', 6, 7, 8, 10, 11, 'mil ocho mil', 'cuatro'}\n",
      "1\n",
      "3\n",
      "5\n",
      "dos\n",
      "6\n",
      "7\n",
      "8\n",
      "10\n",
      "11\n",
      "mil ocho mil\n",
      "cuatro\n",
      "True\n",
      "False\n",
      "False\n",
      "True\n",
      "True\n"
     ]
    }
   ],
   "source": [
    "mySet = {1, \"dos\", 3, \"cuatro\", 5, 6, 7, 8, \"mil ocho mil\", 10, 11}\n",
    "print(mySet)\n",
    "\n",
    "for element in mySet:\n",
    "    print(element)\n",
    "\n",
    "print('dos' in mySet)\n",
    "print(0 in mySet)\n",
    "print(\"pan\" in mySet)\n",
    "print(11 in mySet)\n",
    "print(\"mil ocho mil\" in mySet)\n"
   ]
  },
  {
   "cell_type": "markdown",
   "id": "f7c011ed",
   "metadata": {},
   "source": [
    "set(my_list)\n",
    "-> el metodo set convertira una lista de valores a un set, por lo que eliminara valores repetidos si es que existen."
   ]
  },
  {
   "cell_type": "code",
   "execution_count": 2,
   "id": "c652e7a9",
   "metadata": {},
   "outputs": [
    {
     "data": {
      "text/plain": [
       "{1, 2, 5, 12, 21, 24, 35, 42}"
      ]
     },
     "execution_count": 2,
     "metadata": {},
     "output_type": "execute_result"
    }
   ],
   "source": [
    "my_list = [1,21,2,1,35,1,21,1,24,12,42,5]\n",
    "set(my_list)"
   ]
  },
  {
   "cell_type": "markdown",
   "id": "40093951",
   "metadata": {},
   "source": [
    "* Para agregar un elemento a un Set se deberá usar el metodo .add\n",
    "* Para agregar varios elementos de golpe se puede usar .update(list)\n",
    "* Si se trata de agregar un elemento que ya existe solo no lo hara."
   ]
  },
  {
   "cell_type": "code",
   "execution_count": 24,
   "id": "df1b539a",
   "metadata": {},
   "outputs": [
    {
     "name": "stdout",
     "output_type": "stream",
     "text": [
      "{0, 1, -0.1, 3, 5, 'dos', 6, 7, 8, 10, 11, 'menos cuatro', 'mil ocho mil', -3, 'cuatro', -1}\n"
     ]
    }
   ],
   "source": [
    "mySet = {1, \"dos\", 3, \"cuatro\", 5, 6, 7, 8, \"mil ocho mil\", 10, 11}\n",
    "mySet.add(0)\n",
    "mySet.update([-1, -3, \"menos cuatro\", -0.1]) # recibe una lista\n",
    "print(mySet)"
   ]
  },
  {
   "cell_type": "markdown",
   "id": "21562a23",
   "metadata": {},
   "source": [
    "* Para eliminar elementos se puede usar el metodo .remove() que lanza un error KeyError si no se encuentra en el set\n",
    "* Se puede evitar ese error con .discard()\n",
    "* El metodo .pop() elimina un elemento aleatorio y retornarlo"
   ]
  },
  {
   "cell_type": "code",
   "execution_count": 30,
   "id": "07499677",
   "metadata": {},
   "outputs": [
    {
     "name": "stdout",
     "output_type": "stream",
     "text": [
      "{3, 5, 6, 7, 8, 10, 11, 'mil ocho mil'}\n",
      "3\n",
      "{5, 6, 7, 8, 10, 11, 'mil ocho mil'}\n"
     ]
    }
   ],
   "source": [
    "mySet = {1, \"dos\", 3, \"cuatro\", 5, 6, 7, 8, \"mil ocho mil\", 10, 11}\n",
    "\n",
    "mySet.remove(1)\n",
    "mySet.remove(\"dos\")\n",
    "# mySet.remove(\"tres\") KEYERROR\n",
    "mySet.discard(\"cuatro\")\n",
    "mySet.discard(\"cinco\")\n",
    "print(mySet)\n",
    "popped = mySet.pop()\n",
    "print(popped)\n",
    "print(mySet)\n"
   ]
  },
  {
   "cell_type": "markdown",
   "id": "e0aa1944",
   "metadata": {},
   "source": [
    "* Para eliminar todos los elementos de un Set se puede usar .clear()"
   ]
  },
  {
   "cell_type": "code",
   "execution_count": 31,
   "id": "90cb0e4d",
   "metadata": {},
   "outputs": [
    {
     "data": {
      "text/plain": [
       "set()"
      ]
     },
     "execution_count": 31,
     "metadata": {},
     "output_type": "execute_result"
    }
   ],
   "source": [
    "mySet = {1, \"dos\", 3, \"cuatro\", 5, 6, 7, 8, \"mil ocho mil\", 10, 11}\n",
    "mySet.clear()\n",
    "mySet"
   ]
  },
  {
   "cell_type": "markdown",
   "id": "24e681fd",
   "metadata": {},
   "source": [
    "## OPERACIONES ENTRE SETS"
   ]
  },
  {
   "cell_type": "markdown",
   "id": "f1869af7",
   "metadata": {},
   "source": [
    "### UNION\n",
    "\n",
    "set1 | set2 <br>\n",
    "set1.union(set2)"
   ]
  },
  {
   "cell_type": "code",
   "execution_count": 32,
   "id": "70976e34",
   "metadata": {},
   "outputs": [
    {
     "data": {
      "text/plain": [
       "{1, 2, 3, 5, 7, 9}"
      ]
     },
     "execution_count": 32,
     "metadata": {},
     "output_type": "execute_result"
    }
   ],
   "source": [
    "impares = {1, 3, 5, 7, 9}\n",
    "primos = {2, 3, 5, 7}\n",
    "\n",
    "impares | primos"
   ]
  },
  {
   "cell_type": "markdown",
   "id": "7e1e19e8",
   "metadata": {},
   "source": [
    "### INTERSECCION\n",
    "\n",
    "set1 & set2 <br>\n",
    "set1.intersection(set2)"
   ]
  },
  {
   "cell_type": "code",
   "execution_count": 33,
   "id": "ba24319b",
   "metadata": {},
   "outputs": [
    {
     "data": {
      "text/plain": [
       "{3, 5, 7}"
      ]
     },
     "execution_count": 33,
     "metadata": {},
     "output_type": "execute_result"
    }
   ],
   "source": [
    "impares = {1, 3, 5, 7, 9}\n",
    "primos = {2, 3, 5, 7}\n",
    "\n",
    "impares & primos"
   ]
  },
  {
   "cell_type": "markdown",
   "id": "89a3d0cb",
   "metadata": {},
   "source": [
    "### DIFERENCIA\n",
    "\n",
    "set 1 - set2 <br>\n",
    "set1.difference(set2)"
   ]
  },
  {
   "cell_type": "code",
   "execution_count": 36,
   "id": "37fd799f",
   "metadata": {},
   "outputs": [
    {
     "name": "stdout",
     "output_type": "stream",
     "text": [
      "{1, 9}\n",
      "{2}\n"
     ]
    }
   ],
   "source": [
    "impares = {1, 3, 5, 7, 9}\n",
    "primos = {2, 3, 5, 7}\n",
    "\n",
    "print(impares - primos)\n",
    "print(primos - impares)\n"
   ]
  },
  {
   "cell_type": "markdown",
   "id": "77595ebb",
   "metadata": {},
   "source": [
    "### DIFERENCIA SIMETRICA\n",
    "\n",
    "set1 ^ set2 <br>\n",
    "set1.symmetric_difference()"
   ]
  },
  {
   "cell_type": "code",
   "execution_count": 39,
   "id": "f2f99619",
   "metadata": {},
   "outputs": [
    {
     "name": "stdout",
     "output_type": "stream",
     "text": [
      "{1, 2, 9}\n",
      "{1, 2, 9}\n",
      "{1, 2, 9}\n"
     ]
    }
   ],
   "source": [
    "impares = {1, 3, 5, 7, 9}\n",
    "primos = {2, 3, 5, 7}\n",
    "\n",
    "print(impares ^ primos)\n",
    "print(impares.symmetric_difference(primos))\n"
   ]
  },
  {
   "cell_type": "markdown",
   "id": "1da14cec",
   "metadata": {},
   "source": [
    "### Otras operaciones con Sets\n",
    "\n",
    "* Se puede usar len() para encontrar el tamaño del Set\n",
    "* Eliminar elementos repetidos de una lista O(n)"
   ]
  },
  {
   "cell_type": "code",
   "execution_count": 41,
   "id": "7d80901e",
   "metadata": {},
   "outputs": [
    {
     "name": "stdout",
     "output_type": "stream",
     "text": [
      "5\n",
      "[1, 2, 3, 4, 5, 7, 9, 10, 11]\n"
     ]
    }
   ],
   "source": [
    "primos = {1, 3, 5, 7, 9}\n",
    "print(len(primos))\n",
    "\n",
    "# ----------\n",
    "\n",
    "my_list = [1,2,3,4,5,7,9,10,11,11,1,2,3,4]\n",
    "new_list = list(set(my_list))\n",
    "print(new_list)"
   ]
  },
  {
   "cell_type": "markdown",
   "id": "db11b48d",
   "metadata": {},
   "source": [
    "<hr><hr>\n",
    "\n",
    "# Lamda\n",
    "### lambda argumentos: expresión\n",
    "\n",
    "lambda es la palabra clave que indica que se está definiendo una función anónima.\n",
    "argumentos son los parámetros que la función acepta, separados por comas si hay más de uno.\n",
    "expresión es una expresión que se evalúa y devuelve como resultado de la función.\n"
   ]
  },
  {
   "cell_type": "code",
   "execution_count": 43,
   "id": "fb0d8f7a",
   "metadata": {},
   "outputs": [
    {
     "data": {
      "text/plain": [
       "128"
      ]
     },
     "execution_count": 43,
     "metadata": {},
     "output_type": "execute_result"
    }
   ],
   "source": [
    "potencia = lambda x, n: x ** n\n",
    "potencia(2,7)"
   ]
  }
 ],
 "metadata": {
  "kernelspec": {
   "display_name": "Python 3",
   "language": "python",
   "name": "python3"
  },
  "language_info": {
   "codemirror_mode": {
    "name": "ipython",
    "version": 3
   },
   "file_extension": ".py",
   "mimetype": "text/x-python",
   "name": "python",
   "nbconvert_exporter": "python",
   "pygments_lexer": "ipython3",
   "version": "3.12.3"
  }
 },
 "nbformat": 4,
 "nbformat_minor": 5
}
