{
 "cells": [
  {
   "cell_type": "code",
   "execution_count": null,
   "id": "da9e9702",
   "metadata": {},
   "outputs": [],
   "source": []
  },
  {
   "cell_type": "markdown",
   "id": "2045f58b",
   "metadata": {},
   "source": [
    "TIPOS DE DATOS\n",
    "\n",
    "set <class 'set'>\n",
    "Es una colección: \n",
    "* Desordenada: No se puede acceder a sus valores mediante un indice como una lista\n",
    "* Valores unicos: No se pueden repetir los valores dentro del Set.\n",
    "-> Pensar al SET como un conjunto matemático, ya que de igual manera es posible realizar las operaciones como union, diferencia, intersección, diferencia simetrica, etc."
   ]
  },
  {
   "cell_type": "markdown",
   "id": "ebbf7df2",
   "metadata": {},
   "source": [
    "Creación de sets\n",
    "En Python los sets se pueden crear de dos formas distintas. \n",
    "\n",
    "* Usando llaves {} y separando los elementos por comas\n",
    "* Usando el método constructor Set al que se le debe pasar una lista con los elementos del set\n",
    "* Para crear un set vacio se debe usar el constructor, ya que si solo dejamos las llaves, python lo interpreta como diccionario.\n"
   ]
  },
  {
   "cell_type": "code",
   "execution_count": 8,
   "id": "2d95a6d6",
   "metadata": {},
   "outputs": [
    {
     "name": "stdout",
     "output_type": "stream",
     "text": [
      "<class 'set'>\n",
      "{1, 2, 3, 4, 5, 6, 7, 8, 9, 10, 11}\n",
      "{1, 2, 3, 4, 5, 6, 7, 8, 9, 10, 11}\n",
      "<class 'set'>\n",
      "set()\n"
     ]
    }
   ],
   "source": [
    "mySet = {1,2,3,4,5,6,7,8,9,10,11,11,10,9,3,1,3,7,2}\n",
    "print(type(mySet))\n",
    "print(mySet)\n",
    "\n",
    "myList = [1,2,3,4,5,6,7,8,9,10,11,11,10,9,3,1,3,7,2]\n",
    "mySet2 = set(myList)\n",
    "print(mySet2)\n",
    "\n",
    "emptySet = set()\n",
    "print(type(emptySet))\n",
    "print(emptySet)"
   ]
  },
  {
   "cell_type": "markdown",
   "id": "f7c011ed",
   "metadata": {},
   "source": [
    "set(my_list)\n",
    "-> el metodo set convertira una lista de valores a un set, por lo que eliminara valores repetidos si es que existen."
   ]
  },
  {
   "cell_type": "code",
   "execution_count": 2,
   "id": "c652e7a9",
   "metadata": {},
   "outputs": [
    {
     "data": {
      "text/plain": [
       "{1, 2, 5, 12, 21, 24, 35, 42}"
      ]
     },
     "execution_count": 2,
     "metadata": {},
     "output_type": "execute_result"
    }
   ],
   "source": [
    "my_list = [1,21,2,1,35,1,21,1,24,12,42,5]\n",
    "set(my_list)"
   ]
  }
 ],
 "metadata": {
  "kernelspec": {
   "display_name": "Python 3",
   "language": "python",
   "name": "python3"
  },
  "language_info": {
   "codemirror_mode": {
    "name": "ipython",
    "version": 3
   },
   "file_extension": ".py",
   "mimetype": "text/x-python",
   "name": "python",
   "nbconvert_exporter": "python",
   "pygments_lexer": "ipython3",
   "version": "3.12.3"
  }
 },
 "nbformat": 4,
 "nbformat_minor": 5
}
