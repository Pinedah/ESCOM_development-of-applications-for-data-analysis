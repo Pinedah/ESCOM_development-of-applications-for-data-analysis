{
  "cells": [
    {
      "cell_type": "markdown",
      "metadata": {
        "id": "view-in-github",
        "colab_type": "text"
      },
      "source": [
        "<a href=\"https://colab.research.google.com/github/Pinedah/ESCOM_development-of-applications-for-data-analysis/blob/main/Practica2_4AM1_Eq9.ipynb\" target=\"_parent\"><img src=\"https://colab.research.google.com/assets/colab-badge.svg\" alt=\"Open In Colab\"/></a>"
      ]
    },
    {
      "cell_type": "markdown",
      "metadata": {
        "id": "9UT7UMG7cYrW"
      },
      "source": [
        "# Desarrollo de Aplicaciones para el Análisis de Datos\n",
        "\n",
        "##Práctica 2.\n",
        "\n",
        "\n",
        "> **Fecha de Entrega: 12 de Septiembre**\n",
        "\n",
        "\n",
        "\n",
        "<hr>"
      ]
    },
    {
      "cell_type": "code",
      "source": [
        "from google.colab import drive\n",
        "drive.mount('/content/drive')"
      ],
      "metadata": {
        "id": "UlsJ9K5L6iIJ"
      },
      "execution_count": null,
      "outputs": []
    },
    {
      "cell_type": "markdown",
      "source": [
        "\n",
        "\n",
        " \"**Practica2_4AM2_Eq9**\"\n",
        "\n",
        "> **Nombres:**<br>\n",
        "* Cortes Rosales Israel\n",
        "* Palma Pacheco Alan Daniel\n",
        "* Pineda Hernández Francisco\n",
        "* Ramírez Aguilar Rodrigo Vidal\n",
        "\n"
      ],
      "metadata": {
        "id": "42cQ1XbQNXB3"
      }
    },
    {
      "cell_type": "markdown",
      "source": [
        "\n",
        "**Ejercicio 1.**\n",
        "1. Crea una variable que contenga como valor tu edad.\n",
        "3. Crea una variable con el nombre de **x**  y asígnale el valor de *30*.\n",
        "4. Obten el resultado de la suma de **8 + 5**, utilizando dos variables **x** y **y**.\n",
        "5. Crea una variable con el nombre de *z* que muestre el resultado de la suma de las variables **x=8** y **y=5**.\n",
        "6. Elimina los caracteres ilegales en el nombre de la siguiente variable: **2mi-primer_nombre = 'Erick'**\n",
        "7. Coloca la sintaxis correcta para asignar el mismo valor a las tres variables en una sola línea de código: x __ y __ z __ 'Naranja'\n",
        "8. Inserta la palabra clave correcta para que la variable *x* pertenezca al ámbito global\n"
      ],
      "metadata": {
        "id": "7sL6zmiL37Jj"
      }
    },
    {
      "cell_type": "code",
      "execution_count": null,
      "metadata": {
        "id": "yDPX28HPcYrc",
        "colab": {
          "base_uri": "https://localhost:8080/"
        },
        "outputId": "7aee30f5-592d-408e-ec34-fd8c20eaa13b"
      },
      "outputs": [
        {
          "output_type": "stream",
          "name": "stdout",
          "text": [
            "edad: 19\n",
            "x: 30\n",
            "z: 13\n",
            "Mi primer nombre: Erick\n",
            "valores de x, y, z: Naranja Naranja Naranja\n",
            "x: fantastico\n"
          ]
        }
      ],
      "source": [
        "def mi_funcion():\n",
        "   global x\n",
        "   x = \"fantastico\"\n",
        "\n",
        "edad = 19\n",
        "print('edad:', edad)\n",
        "x = 30\n",
        "print('x:', x)\n",
        "x = 8\n",
        "y = 5\n",
        "z = x + y\n",
        "print('z:', z)\n",
        "mi_primer_nombre = 'Erick'\n",
        "print('Mi primer nombre:',mi_primer_nombre)\n",
        "x = y = z = 'Naranja'\n",
        "print(\"valores de x, y, z:\", x, y, z)\n",
        "\n",
        "mi_funcion()\n",
        "print('x:', x)\n",
        "\n"
      ]
    },
    {
      "cell_type": "markdown",
      "source": [
        "**Ejercicio 2:**\n",
        "- El siguiente <code>código</code> no compila. Encuentra y corrige el error.\n",
        "\n",
        "```python\n",
        "if 8 > 5:\n",
        "print(\"8 es mayor que 5\")\n",
        "```"
      ],
      "metadata": {
        "id": "gJy06osr5QDE"
      }
    },
    {
      "cell_type": "markdown",
      "source": [
        "Error de identación en la segunda línea. print debe tener un tab."
      ],
      "metadata": {
        "id": "Dhy-MwDeXmK9"
      }
    },
    {
      "cell_type": "code",
      "source": [
        "if 8 > 5:\n",
        "  print(\"8 es mayor que 5\")"
      ],
      "metadata": {
        "colab": {
          "base_uri": "https://localhost:8080/"
        },
        "id": "lQMLn_NlXX8i",
        "outputId": "7b73854b-5221-47ef-8ac7-9e33a4c70793"
      },
      "execution_count": null,
      "outputs": [
        {
          "output_type": "stream",
          "name": "stdout",
          "text": [
            "8 es mayor que 5\n"
          ]
        }
      ]
    },
    {
      "cell_type": "markdown",
      "source": [
        "**Ejercicio 3:**\n",
        "\n",
        "1.  Crea dos variables (nombre y apellido) e imprímelas usando el formato `f\"{}\"`\n",
        "2.  Para la variable numérica pi = 3.14\n",
        "  - Imprime su tipo de dato\n",
        "  - Multiplica pi por 2\n",
        "  - Genera un valor random entre 10 y 20 (recuerda importar la biblioteca random)\n",
        "3. Para la frase \"Hola, ¿cómo estás?\"\n",
        "  - Extraer la subcadena \"¿Cómo estás?\n",
        "  - Convierte la frase en mayúsculas\n",
        "  - Imprime la longitud de la frase\n",
        "4. Con `a=10`  y `b=2`  realiza lo siguiente:\n",
        "  - Realiza 2 operaciones artiméticas.\n",
        "  - Utiliza 2 operadores de asignación.\n",
        "  - Haz dos comparaciones de `a` y `b`\n",
        "  - Combina las dos comparaciones anteriores con el operador `and`\n",
        "  - Crea una lista de números enteros y revisa si `a` y `b` se encuentran en ella"
      ],
      "metadata": {
        "id": "LKznyO5P5u4L"
      }
    },
    {
      "cell_type": "code",
      "source": [
        "#Crea dos variables (nombre y apellido) e imprimelas\n",
        "name = 'Pablo'\n",
        "apellido = 'Gavi'\n",
        "print(f\"{name} {apellido}\")\n",
        "#Para la variable numerica pi = 3.14 , imprime su tipo de dato\n",
        "pi = 3.14\n",
        "print(type(pi))\n",
        "#Genera un numero random entre 10 y 20 (recuerda importar la biblioteca random)\n",
        "import random\n",
        "random.randint(10,20)\n",
        "#Para la frase \"Hola , Como estas?\" , convierte la frase en mayusculas\n",
        "frase = \"Hola , Como estas?\"\n",
        "frase.upper()\n",
        "#Imprime la longitud de la frase\n",
        "print(len(frase))\n",
        "#Realiza dos operaciones aritmeticas\n",
        "a = 13\n",
        "b = 6\n",
        "print(a+b ,b*a)\n",
        "#Utiliza dos operadores de asignacion\n",
        "x = 5\n",
        "x += 10\n",
        "y = 10\n",
        "y -= 5\n",
        "print(x,y)\n",
        "#Haz dos comparaciones de a y b\n",
        "print(a>b,a<b)\n",
        "#Combina las dos comparaciones anteriores con el operador and\n",
        "print(a>b and a<b)\n",
        "#Crea una lista de numeros enteros y checa si a y b esta en ella\n",
        "lista = [1,2,3,4,5,6,5,6,7,8,1,10]\n",
        "print(a in lista, b in lista)"
      ],
      "metadata": {
        "colab": {
          "base_uri": "https://localhost:8080/"
        },
        "id": "J4VuZyCltSSs",
        "outputId": "1f64e97d-0f14-454b-b851-7b8494b0bae9"
      },
      "execution_count": null,
      "outputs": [
        {
          "output_type": "stream",
          "name": "stdout",
          "text": [
            "Pablo Gavi\n",
            "<class 'float'>\n",
            "18\n",
            "19 78\n",
            "15 5\n",
            "True False\n",
            "False\n",
            "False True\n"
          ]
        }
      ]
    },
    {
      "cell_type": "markdown",
      "source": [
        "**Ejercicio 4.**\n",
        "\n",
        "*Actividad 1*\n",
        "  - Crea una lista con elementos repetidos\n",
        "  - `['María', 'Jorge', 'Pedro', 'Carolina', 'Andrés', 'Melissa', 'Sofía', 'Mateo', 'Jorge', 'Victoria', 'Emma', 'Andrés']`\n",
        "  - Convierte la lista en una lista de elementos únicos usando la función `set`\n",
        "\n",
        "*Actividad 2*\n",
        "  - Crea una tupla de mínimo 3 elementos\n",
        "  - Accede al último elemento de la tupla\n",
        "\n",
        "*Actividad 3*\n",
        "  - Crea una lista con al menos 6 productos electrónicos\n",
        "  - Accede al segundo elemento de tu lista\n",
        "  - Reemplaza el tercer elemento por un nuevo producto electrónico\n",
        "  - Elimina el último elemento de la lista\n",
        "\n",
        "*Actividad 4*\n",
        "  - Crea un diccionario de diccionarios. Por cada producto crea un diccionario con el número ASIN como la clave (ASIN es el número de identificación de cada producto en Amazon, es un número de 10 dígitos que se puede encontrar en el URL) y un diccionario como el valor. En el diccionario de cada producto incluye las siguientes claves y valores: nombre del producto, marca, precio, url.\n",
        "  - Accede a un elemento por su clave (número ASIN)\n",
        "  - Del elemento anterior, accesa al \"nombre\" del producto\n",
        "\n",
        "  Ejemplo:\n",
        "\n",
        "  productos_audifonos = {\n",
        "      \n",
        "      'B07Q9MJKBV': {\n",
        "          \n",
        "          'nombre': 'Bose Noise Cancelling Wireless Bluetooth Headphones 700, with Alexa Voice Control, Black',\n",
        "          'marca': 'Bose',\n",
        "          'precio': 299.95,\n",
        "          'url': 'https://www.amazon.com/Bose-Cancelling-Wireless-Bluetooth-Headphones/dp/B07Q9MJKBV/'\n",
        "      },\n",
        "      \n",
        "      'B0863TXGM3': {\n",
        "          'nombre': 'Sony WH-1000XM4 Wireless Industry Leading Noise Canceling Overhead Headphones with Mic for Phone-Call and Alexa Voice Control, Black',\n",
        "          'marca': 'Sony',\n",
        "          'precio': 278.00,\n",
        "          'url': 'https://www.amazon.com/Bose-Cancelling-Wireless-Bluetooth-Headphones/dp/B07Q9MJKBV/'\n",
        "      },\n",
        "      \n",
        "  }"
      ],
      "metadata": {
        "id": "6pObDUouKTrI"
      }
    },
    {
      "cell_type": "code",
      "source": [
        "# Actividad 1:\n",
        "lista = ['María', 'Jorge', 'Pedro', 'Carolina', 'Andrés', 'Melissa', 'Sofía', 'Mateo', 'Jorge', 'Victoria', 'Emma', 'Andrés']\n",
        "list(set(lista))"
      ],
      "metadata": {
        "colab": {
          "base_uri": "https://localhost:8080/"
        },
        "id": "_cUsmN_oa-GW",
        "outputId": "504fcd5f-d277-4ca9-feaa-98cf51cb7035"
      },
      "execution_count": null,
      "outputs": [
        {
          "output_type": "execute_result",
          "data": {
            "text/plain": [
              "['Emma',\n",
              " 'Carolina',\n",
              " 'Sofía',\n",
              " 'Jorge',\n",
              " 'Victoria',\n",
              " 'Andrés',\n",
              " 'María',\n",
              " 'Pedro',\n",
              " 'Mateo',\n",
              " 'Melissa']"
            ]
          },
          "metadata": {},
          "execution_count": 8
        }
      ]
    },
    {
      "cell_type": "code",
      "source": [
        "# Actividad 2\n",
        "tupla = ('Panke', 'Rod', 'Alan')\n",
        "tupla[2]"
      ],
      "metadata": {
        "colab": {
          "base_uri": "https://localhost:8080/",
          "height": 35
        },
        "id": "u-5_aPdnbTWm",
        "outputId": "4bb565ed-be97-4555-bf49-38ede71ae6ae"
      },
      "execution_count": null,
      "outputs": [
        {
          "output_type": "execute_result",
          "data": {
            "text/plain": [
              "'Alan'"
            ],
            "application/vnd.google.colaboratory.intrinsic+json": {
              "type": "string"
            }
          },
          "metadata": {},
          "execution_count": 9
        }
      ]
    },
    {
      "cell_type": "code",
      "source": [
        "# Actividad 3\n",
        "electronicos = ['Celular', 'Laptop', 'Audifonos', 'Tableta', 'Kindle', 'Television', 'Camara']\n",
        "print(electronicos)\n",
        "print(electronicos[1])\n",
        "electronicos[2] = 'Computadora de Escritorio'\n",
        "electronicos.pop()\n",
        "print(electronicos)"
      ],
      "metadata": {
        "colab": {
          "base_uri": "https://localhost:8080/"
        },
        "id": "mxPuFhZFbhvB",
        "outputId": "09fc45c5-3d4c-403e-9244-d780ae502cf3"
      },
      "execution_count": null,
      "outputs": [
        {
          "output_type": "stream",
          "name": "stdout",
          "text": [
            "['Celular', 'Laptop', 'Audifonos', 'Tableta', 'Kindle', 'Television', 'Camara']\n",
            "Laptop\n",
            "['Celular', 'Laptop', 'Computadora de Escritorio', 'Tableta', 'Kindle', 'Television']\n"
          ]
        }
      ]
    },
    {
      "cell_type": "code",
      "source": [
        "# Actividad 4\n",
        "\n",
        "productos_audifonos = {\n",
        "  'B07Q9MJKBV': {\n",
        "    'nombre': 'Bose Noise Cancelling Wireless Bluetooth Headphones 700, with Alexa Voice Control, Black',\n",
        "    'marca': 'Bose',\n",
        "    'precio': 299.95,\n",
        "    'url': 'https://www.amazon.com/Bose-Cancelling-Wireless-Bluetooth-Headphones/dp/B07Q9MJKBV/'\n",
        "  },\n",
        "\n",
        "  'B0863TXGM3': {\n",
        "    'nombre': 'Sony WH-1000XM4 Wireless Industry Leading Noise Canceling Overhead Headphones with Mic for Phone-Call and Alexa Voice Control, Black',\n",
        "    'marca': 'Sony',\n",
        "    'precio': 278.00,\n",
        "    'url': 'https://www.amazon.com/Bose-Cancelling-Wireless-Bluetooth-Headphones/dp/B07Q9MJKBV/'\n",
        "  }\n",
        "}\n",
        "\n",
        "print(productos_audifonos['B07Q9MJKBV'])\n",
        "print(productos_audifonos['B07Q9MJKBV']['nombre'])\n"
      ],
      "metadata": {
        "colab": {
          "base_uri": "https://localhost:8080/"
        },
        "id": "kJnScrFgc75D",
        "outputId": "c014b6a1-0535-4df9-e43c-996509b6416f"
      },
      "execution_count": null,
      "outputs": [
        {
          "output_type": "stream",
          "name": "stdout",
          "text": [
            "{'nombre': 'Bose Noise Cancelling Wireless Bluetooth Headphones 700, with Alexa Voice Control, Black', 'marca': 'Bose', 'precio': 299.95, 'url': 'https://www.amazon.com/Bose-Cancelling-Wireless-Bluetooth-Headphones/dp/B07Q9MJKBV/'}\n",
            "Bose Noise Cancelling Wireless Bluetooth Headphones 700, with Alexa Voice Control, Black\n"
          ]
        }
      ]
    },
    {
      "cell_type": "markdown",
      "source": [
        "\n",
        "**Ejercicio 5.**\n",
        "1. Pregunta al usuario por un número entre 1 y 100. Si el número es mayor o igual a 1 y menor o igual a 100 imprime el número proporcionado o sal del bucle e imprime \"fuera de rango\" si el número proporcionado no se encuentra dentro del rango (ciclo for)\n",
        "2. Para la `lista_animales`, realiza las siguientes actividades:\n",
        "  - `lista_animales = [\"Abadejo\", \"Abalone\", \"Abejarón\", \"Abejaruco\", \"Abeja\", \"Abejorro\", \"Ácaro\", \"Acedía\", \"Acentor\", \"Agamido\", \"Águila\", \"Alacrán\", \"Albatros\", \"Alce\", \"Almeja\", \"Alondra\", \"Ánade Real\", \"Anchoa\", \"Anémona de mar\", \"Anfioxo\", \"Angelote\", \"Anguila\", \"Antílope\", \"Araña\", \"Arenque\", \"Armadillo\", \"Armiño\", \"Asno\", \"Atún\", \"Avefría\", \"Avestruz\", \"Avetoro\", \"Avispa\", \"Babirusa\", \"Babosa\", \"Babuino\", \"Bacalao\", \"Ballena\", \"Banteng\", \"Barasinga\", \"Barracuda\", \"Becada\", \"Beira\", \"Beluga\", \"Bengalí\", \"Bermejuela\", \"Berrendo\", \"Besugo\", \"Bisbita\", \"Bisonte\", \"Blanquillo\", \"Boa\", \"Bogavante\", \"Bongo\", \"Bonito\", \"Bonobo\", \"Boto\", \"Buey\", \"Búfalo\", \"Búho\", \"Buitre\", \"Burro\", \"Caballo\", \"Caballito de mar\", \"Cacatúa\", \"Cachalote\", \"Calamón\", \"Camaleón\", \"Camello\", \"Canguro\", \"Canario\", \"Cangrejo\", \"Caracol\", \"Castor\", \"Cebra\", \"Centollo\", \"Cerdo\", \"Chacal\", \"Chimpancé\", \"Chinchilla\", \"Ciempiés\", \"Ciervo\", \"Cigala\", \"Cisne\", \"Cobaya\", \"Cochinilla\", \"Cocodrilo\", \"Coendú\", \"Coipú\", \"Colibrí\", \"Comadreja\", \"Conejo\", \"Coral\", \"Coridora\", \"Cormorán\", \"Cóndor\", \"Cotorra\", \"Coyote\", \"Damán\", \"Delfín\", \"Diablo de Tasmania\", \"Dik-dik\", \"Dingo\", \"Dragón de Komodo\", \"Dromedario\", \"Elefante\", \"Emú\", \"Equidna\", \"Erizo\", \"Escarabajo\", \"Escorpión\", \"Escuerzo\", \"Espátula común\", \"Estrella de mar\", \"Farra\", \"Faisán\", \"Flamingo\", \"Flamenco\", \"Foca\", \"Gacela\", \"Galápago\", \"Gallina\", \"Gallipato\", \"Gallo\", \"Gamba\", \"Ganso\", \"Garcilla\", \"Garrapata\", \"Garza\", \"Gato\", \"Gavilán\", \"Glotón\", \"Golondrina\", \"Gorila\", \"Gorgojo\", \"Gorrión\", \"Grillo\", \"Grulla\", \"Guepardo\", \"Halcón\", \"Hamster\", \"Hiena\", \"Hipocampo\", \"Hipopótamo\", \"Holoturia\", \"Hormiga\", \"Hurón\", \"Hupón\", \"Ibice\", \"Icotea\", \"Iguana\", \"Insecto palo\", \"Intendio\", \"Impala\", \"Jabalí\", \"Jabirú\", \"Jerbo\", \"Jirafa\", \"Jaguar\", \"Kaguang\", \"Kiwi\", \"Krill\", \"Koala\", \"Labro\", \"Lagarto\", \"Langosta\", \"Langostino\", \"Lechuza\", \"Lémur\", \"León\", \"León marino\", \"Leopardo\", \"Libélula\", \"Liebre\", \"Lince\", \"Llama\", \"Lobo\", \"Lobo marino\", \"Lombriz\", \"Loro\", \"Luciérnaga\", \"Mamut\", \"Mandril\", \"Mantis religiosa\", \"Mapache\", \"Marabú\", \"Marabunta\", \"Mariposa\", \"Marmota\", \"Medusa\", \"Mejillón\", \"Milpiés\", \"Mofeta\", \"Mono\", \"Mosca\", \"Mosquito\", \"Morsa\", \"Murciélago\", \"Narval\", \"Navaja\", \"Nécora\", \"Nutria\", \"Ñandú\", \"Ñu\", \"Ocelote\", \"Okapi\", \"Oso\", \"Oso de agua\", \"Oso hormiguero\", \"Oso panda\", \"Oso pardo\", \"Ornitorrinco\", \"Oveja\", \"Pájaro\", \"Paloma\", \"Pantera\", \"Papagayo\", \"Pelicano\", \"Perca\", \"Perdiz\", \"Perezoso\", \"Perico\", \"Peripato\", \"Periquito\", \"Perro\", \"Petirrojo\", \"Pez\", \"Pingüino\", \"Pinzón\", \"Piojo\", \"Piquituerto\", \"Polilla\", \"Puercoespín\", \"Pulga\", \"Pulpo\", \"Puma\", \"Quebrantahuesos\", \"Quetzal\", \"Quitón\", \"Rana\", \"Rata\", \"Ratón\", \"Raya\", \"Rebeco\", \"Rémora\", \"Reno\", \"Rinoceronte\", \"Rubia Gallega\", \"Ruiseñor\", \"Salamandra\", \"Salmón\", \"Saltamontes\", \"Sanguijuela\", \"Sapo\", \"Sepia\", \"Serpiente\", \"Tábano\", \"Tejón\", \"Tenia\", \"Termita\", \"Tiburón\", \"Tigre\", \"Tijereta\", \"Topo\", \"Toro\", \"Tortuga\", \"Tritón\", \"Trucha\", \"Tucán\", \"Urogallo\", \"Urraca\", \"Vaca\", \"Varano\", \"Venado\", \"Vicuña\", \"Wapití\", \"Walabi\", \"Walaró\", \"Weta\", \"Wombat\", \"Xenopus\", \"Xenopus laevis\", \"Xoloescuintle\", \"Yak\", \"Yacare\", \"Yegua\", \"Zarigüeya\", \"Zorro\", \"Zebra\"]`\n",
        "  - Cuenta los animales que su nombre comienza con B (recuerda inicializar un contador, `contador = 0`)\n",
        "\n",
        "\n"
      ],
      "metadata": {
        "id": "ND-h18Xc55Um"
      }
    },
    {
      "cell_type": "code",
      "source": [
        " # Ciclo for que permite hasta 100 intentos\n",
        "for _ in range(100):\n",
        "    numero = int(input(\"Introduce un número entre 1 y 100: \"))\n",
        "    #Si el número es mayor que 1 y menor que 100 se imprime lo siguiente:\n",
        "    if 1 <= numero <= 100:\n",
        "        print(f\"Número proporcionado: {numero}\")\n",
        "    else:\n",
        "        print(\"Fuera de rango\")\n",
        "        break  # para números fuera del intervalo\n"
      ],
      "metadata": {
        "colab": {
          "base_uri": "https://localhost:8080/"
        },
        "id": "8cB6ZreIcrhF",
        "outputId": "8f1c0132-9dd9-4d9f-ffc2-aee4d83c6f1e"
      },
      "execution_count": null,
      "outputs": [
        {
          "output_type": "stream",
          "name": "stdout",
          "text": [
            "Introduce un número entre 1 y 100: 1\n",
            "Número proporcionado: 1\n",
            "Introduce un número entre 1 y 100: 100\n",
            "Número proporcionado: 100\n",
            "Introduce un número entre 1 y 100: 0\n",
            "Fuera de rango\n"
          ]
        }
      ]
    },
    {
      "cell_type": "code",
      "source": [
        "#lista con nombres de animales\n",
        "lista_animales=[\"Abadejo\", \"Abalone\", \"Abejarón\", \"Abejaruco\", \"Abeja\", \"Abejorro\", \"Ácaro\", \"Acedía\", \"Acentor\", \"Agamido\", \"Águila\", \"Alacrán\", \"Albatros\", \"Alce\", \"Almeja\", \"Alondra\", \"Ánade Real\", \"Anchoa\", \"Anémona de mar\", \"Anfioxo\", \"Angelote\", \"Anguila\", \"Antílope\", \"Araña\", \"Arenque\", \"Armadillo\", \"Armiño\", \"Asno\", \"Atún\", \"Avefría\", \"Avestruz\", \"Avetoro\", \"Avispa\", \"Babirusa\", \"Babosa\", \"Babuino\", \"Bacalao\", \"Ballena\", \"Banteng\", \"Barasinga\", \"Barracuda\", \"Becada\", \"Beira\", \"Beluga\", \"Bengalí\", \"Bermejuela\", \"Berrendo\", \"Besugo\", \"Bisbita\", \"Bisonte\", \"Blanquillo\", \"Boa\", \"Bogavante\", \"Bongo\", \"Bonito\", \"Bonobo\", \"Boto\", \"Buey\", \"Búfalo\", \"Búho\", \"Buitre\", \"Burro\", \"Caballo\", \"Caballito de mar\", \"Cacatúa\", \"Cachalote\", \"Calamón\", \"Camaleón\", \"Camello\", \"Canguro\", \"Canario\", \"Cangrejo\", \"Caracol\", \"Castor\", \"Cebra\", \"Centollo\", \"Cerdo\", \"Chacal\", \"Chimpancé\", \"Chinchilla\", \"Ciempiés\", \"Ciervo\", \"Cigala\", \"Cisne\", \"Cobaya\", \"Cochinilla\", \"Cocodrilo\", \"Coendú\", \"Coipú\", \"Colibrí\", \"Comadreja\", \"Conejo\", \"Coral\", \"Coridora\", \"Cormorán\", \"Cóndor\", \"Cotorra\", \"Coyote\", \"Damán\", \"Delfín\", \"Diablo de Tasmania\", \"Dik-dik\", \"Dingo\", \"Dragón de Komodo\", \"Dromedario\", \"Elefante\", \"Emú\", \"Equidna\", \"Erizo\", \"Escarabajo\", \"Escorpión\", \"Escuerzo\", \"Espátula común\", \"Estrella de mar\", \"Farra\", \"Faisán\", \"Flamingo\", \"Flamenco\", \"Foca\", \"Gacela\", \"Galápago\", \"Gallina\", \"Gallipato\", \"Gallo\", \"Gamba\", \"Ganso\", \"Garcilla\", \"Garrapata\", \"Garza\", \"Gato\", \"Gavilán\", \"Glotón\", \"Golondrina\", \"Gorila\", \"Gorgojo\", \"Gorrión\", \"Grillo\", \"Grulla\", \"Guepardo\", \"Halcón\", \"Hamster\", \"Hiena\", \"Hipocampo\", \"Hipopótamo\", \"Holoturia\", \"Hormiga\", \"Hurón\", \"Hupón\", \"Ibice\", \"Icotea\", \"Iguana\", \"Insecto palo\", \"Intendio\", \"Impala\", \"Jabalí\", \"Jabirú\", \"Jerbo\", \"Jirafa\", \"Jaguar\", \"Kaguang\", \"Kiwi\", \"Krill\", \"Koala\", \"Labro\", \"Lagarto\", \"Langosta\", \"Langostino\", \"Lechuza\", \"Lémur\", \"León\", \"León marino\", \"Leopardo\", \"Libélula\", \"Liebre\", \"Lince\", \"Llama\", \"Lobo\", \"Lobo marino\", \"Lombriz\", \"Loro\", \"Luciérnaga\", \"Mamut\", \"Mandril\", \"Mantis religiosa\", \"Mapache\", \"Marabú\", \"Marabunta\", \"Mariposa\", \"Marmota\", \"Medusa\", \"Mejillón\", \"Milpiés\", \"Mofeta\", \"Mono\", \"Mosca\", \"Mosquito\", \"Morsa\", \"Murciélago\", \"Narval\", \"Navaja\", \"Nécora\", \"Nutria\", \"Ñandú\", \"Ñu\", \"Ocelote\", \"Okapi\", \"Oso\", \"Oso de agua\", \"Oso hormiguero\", \"Oso panda\", \"Oso pardo\", \"Ornitorrinco\", \"Oveja\", \"Pájaro\", \"Paloma\", \"Pantera\", \"Papagayo\", \"Pelicano\", \"Perca\", \"Perdiz\", \"Perezoso\", \"Perico\", \"Peripato\", \"Periquito\", \"Perro\", \"Petirrojo\", \"Pez\", \"Pingüino\", \"Pinzón\", \"Piojo\", \"Piquituerto\", \"Polilla\", \"Puercoespín\", \"Pulga\", \"Pulpo\", \"Puma\", \"Quebrantahuesos\", \"Quetzal\", \"Quitón\", \"Rana\", \"Rata\", \"Ratón\", \"Raya\", \"Rebeco\", \"Rémora\", \"Reno\", \"Rinoceronte\", \"Rubia Gallega\", \"Ruiseñor\", \"Salamandra\", \"Salmón\", \"Saltamontes\", \"Sanguijuela\", \"Sapo\", \"Sepia\", \"Serpiente\", \"Tábano\", \"Tejón\", \"Tenia\", \"Termita\", \"Tiburón\", \"Tigre\", \"Tijereta\", \"Topo\", \"Toro\", \"Tortuga\", \"Tritón\", \"Trucha\", \"Tucán\", \"Urogallo\", \"Urraca\", \"Vaca\", \"Varano\", \"Venado\", \"Vicuña\", \"Wapití\", \"Walabi\", \"Walaró\", \"Weta\", \"Wombat\", \"Xenopus\", \"Xenopus laevis\", \"Xoloescuintle\", \"Yak\", \"Yacare\", \"Yegua\", \"Zarigüeya\", \"Zorro\", \"Zebra\"]\n",
        "\n",
        "# Inicializamos el contador\n",
        "contador = 0\n",
        "\n",
        "# Iteramos sobre cada nombre en la lista\n",
        "for animal in lista_animales:\n",
        "    # Comprobamos si el nombre del animal comienza con B\n",
        "    if animal.startswith('B'):\n",
        "        contador += 1\n",
        "\n",
        "# Mostramos el resultado\n",
        "print(f'Cantidad de animales que comienzan con B: {contador}')"
      ],
      "metadata": {
        "colab": {
          "base_uri": "https://localhost:8080/"
        },
        "id": "lzypq3Yw1lgW",
        "outputId": "e154ddba-7c76-4d7a-9e31-d76850fbed34"
      },
      "execution_count": null,
      "outputs": [
        {
          "output_type": "stream",
          "name": "stdout",
          "text": [
            "Cantidad de animales que comienzan con B: 29\n"
          ]
        }
      ]
    },
    {
      "cell_type": "markdown",
      "source": [
        "**Ejercicio 6.**\n",
        "1. Funciones\n",
        "  - Crea una función que se llame saludo y que tome el nombre de una persona como argumento e imprima \"Hola {nombre}, ¿cómo estás hoy?\"\n",
        "  - Crea una función que acepte dos números enteros como argumento y devuelva la multiplicación de ellos\n",
        "  **Nota:** Recuerda documentar tu función\n",
        "2. Crea una clase \"carro\" con los siguientes métodos y atributos:\n",
        "  - Atributos de instancia: fabricante, marca, modelo (año), color, precio\n",
        "  - Métodos: \"resumen\" muestra un mensaje que incluya todos los atributos\n",
        "  - Crea 3 objetos / instancias de la clase carro"
      ],
      "metadata": {
        "id": "jBcJZTFDKLsL"
      }
    },
    {
      "cell_type": "code",
      "source": [
        "# 1. Funciones\n",
        "def saludo(nombre):\n",
        "    print(f\"Hola {nombre}, ¿cómo estás hoy?\")\n",
        "\n",
        "# Ejemplo\n",
        "saludo(\"Israel\")"
      ],
      "metadata": {
        "colab": {
          "base_uri": "https://localhost:8080/"
        },
        "id": "mJP-fH0G10qp",
        "outputId": "f25d65ef-56c3-406a-d492-5b58b36f21f9"
      },
      "execution_count": null,
      "outputs": [
        {
          "output_type": "stream",
          "name": "stdout",
          "text": [
            "Hola Israel, ¿cómo estás hoy?\n"
          ]
        }
      ]
    },
    {
      "cell_type": "code",
      "source": [
        "# 1. Funciones\n",
        "\n",
        "#Se declara la función\n",
        "#recibirá dos valores\n",
        "#Devolverá el producto\n",
        "def producto(x, y):\n",
        "    return x * y\n",
        "#Se llama a la función\n",
        "#e imprime el resultado\n",
        "print(producto(3, 4))"
      ],
      "metadata": {
        "colab": {
          "base_uri": "https://localhost:8080/"
        },
        "id": "g1sA9StF18GC",
        "outputId": "9d6b8626-5dd9-43a2-c296-fd5f5c3241f8"
      },
      "execution_count": null,
      "outputs": [
        {
          "output_type": "stream",
          "name": "stdout",
          "text": [
            "12\n"
          ]
        }
      ]
    },
    {
      "cell_type": "code",
      "source": [
        "# Definición de la clase Carro\n",
        "class Carro:\n",
        "    def __init__(self, fabricante, marca, modelo, color, precio):\n",
        "        self.fabricante = fabricante\n",
        "        self.marca = marca\n",
        "        self.modelo = modelo\n",
        "        self.color = color\n",
        "        self.precio = precio\n",
        "\n",
        "    def resumen(self):\n",
        "        return (f\"Fabricante: {self.fabricante}, Marca: {self.marca}, Modelo: {self.modelo}, \"\n",
        "                f\"Color: {self.color}, Precio: ${self.precio:,.2f}\")\n",
        "\n",
        "# Creación de las instancias (3)\n",
        "carro1 = Carro(fabricante=\"Rust-eze\", marca=\"Lightning McQueen\", modelo=2006, color=\"Rojo\", precio=150000)\n",
        "carro2 = Carro(fabricante=\"Volkswagen\", marca=\"Fillmore\", modelo=1960, color=\"Verde\", precio=50000)\n",
        "carro3 = Carro(fabricante=\"Porsche\", marca=\"Sally Carrera\", modelo=2002, color=\"Azul\", precio=120000)\n",
        "\n",
        "# Imprime los datos de cada instancia\n",
        "print(carro1.resumen())\n",
        "print(carro2.resumen())\n",
        "print(carro3.resumen())\n"
      ],
      "metadata": {
        "colab": {
          "base_uri": "https://localhost:8080/"
        },
        "id": "ARYW0tO6dmnc",
        "outputId": "61f5d7e6-4e6a-41df-c739-9bbefe37d3db"
      },
      "execution_count": null,
      "outputs": [
        {
          "output_type": "stream",
          "name": "stdout",
          "text": [
            "Fabricante: Rust-eze, Marca: Lightning McQueen, Modelo: 2006, Color: Rojo, Precio: $150,000.00\n",
            "Fabricante: Volkswagen, Marca: Fillmore, Modelo: 1960, Color: Verde, Precio: $50,000.00\n",
            "Fabricante: Porsche, Marca: Sally Carrera, Modelo: 2002, Color: Azul, Precio: $120,000.00\n"
          ]
        }
      ]
    }
  ],
  "metadata": {
    "kernelspec": {
      "display_name": "base",
      "language": "python",
      "name": "python3"
    },
    "language_info": {
      "codemirror_mode": {
        "name": "ipython",
        "version": 3
      },
      "file_extension": ".py",
      "mimetype": "text/x-python",
      "name": "python",
      "nbconvert_exporter": "python",
      "pygments_lexer": "ipython3",
      "version": "3.9.12"
    },
    "vscode": {
      "interpreter": {
        "hash": "074199b25a8a867ea9a75b8ed3063be9f78cb342e7387ae79a15242657ecab73"
      }
    },
    "colab": {
      "provenance": [],
      "toc_visible": true,
      "include_colab_link": true
    }
  },
  "nbformat": 4,
  "nbformat_minor": 0
}