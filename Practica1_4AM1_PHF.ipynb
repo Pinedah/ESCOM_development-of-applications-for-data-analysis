{
  "cells": [
    {
      "cell_type": "markdown",
      "metadata": {
        "id": "view-in-github",
        "colab_type": "text"
      },
      "source": [
        "<a href=\"https://colab.research.google.com/github/Pinedah/development-of-applications-for-data-analysis/blob/main/Practica1_4AM1_PHF.ipynb\" target=\"_parent\"><img src=\"https://colab.research.google.com/assets/colab-badge.svg\" alt=\"Open In Colab\"/></a>"
      ]
    },
    {
      "cell_type": "markdown",
      "metadata": {
        "id": "WJseXgzIYbQD"
      },
      "source": [
        "___\n",
        "\n",
        "# Desarrollo de aplicaciones para análisis de datos\n",
        "___\n",
        "## Práctica 1. Conceptos Básicos"
      ]
    },
    {
      "cell_type": "markdown",
      "metadata": {
        "id": "o_Z8gbTpYbQI"
      },
      "source": [
        "Nombre: Pineda Hernández Francisco"
      ]
    },
    {
      "cell_type": "markdown",
      "metadata": {
        "id": "u1mxrBPtYbQJ"
      },
      "source": [
        "### Ejercicios\n",
        "\n",
        "Responde a las preguntas o completa las tareas que se indican en negrita."
      ]
    },
    {
      "cell_type": "markdown",
      "metadata": {
        "id": "hERQE0ClYbQJ"
      },
      "source": [
        "**¿Cuánto es 7 a la potencia de 4?**"
      ]
    },
    {
      "cell_type": "code",
      "execution_count": null,
      "metadata": {
        "colab": {
          "base_uri": "https://localhost:8080/"
        },
        "id": "P_7YBy2kYbQK",
        "outputId": "07056f68-8903-4287-d4aa-02e99bdb5ffa"
      },
      "outputs": [
        {
          "output_type": "execute_result",
          "data": {
            "text/plain": [
              "2401"
            ]
          },
          "metadata": {},
          "execution_count": 1
        }
      ],
      "source": [
        "7 ** 4"
      ]
    },
    {
      "cell_type": "markdown",
      "metadata": {
        "id": "aMzTOPGyYbQL"
      },
      "source": [
        "**Divide esta cadena**\n",
        "\n",
        "    s = \"Hi there Sam!\"\n",
        "    \n",
        "**en una lista.**"
      ]
    },
    {
      "cell_type": "code",
      "execution_count": null,
      "metadata": {
        "colab": {
          "base_uri": "https://localhost:8080/"
        },
        "id": "ic-LoAkzYbQL",
        "outputId": "bbf5f681-0400-4c5f-cda8-bf03b38df005"
      },
      "outputs": [
        {
          "output_type": "stream",
          "name": "stdout",
          "text": [
            "['Hi', 'there', 'Sam!']\n"
          ]
        }
      ],
      "source": [
        "s = \"Hi there Sam!\"\n",
        "lista = s.split()\n",
        "print(lista)"
      ]
    },
    {
      "cell_type": "markdown",
      "metadata": {
        "id": "gx4bhYMWYbQL"
      },
      "source": [
        "**Dadas las variables:**\n",
        "\n",
        "    planet = \"Tierra\"\n",
        "    diameter = 12742\n",
        "\n",
        "**Usa .format() para imprimir la siguiente cadena:**\n",
        "\n",
        "    El diamentro de la tierra son 12742 kilomettros."
      ]
    },
    {
      "cell_type": "code",
      "execution_count": 3,
      "metadata": {
        "id": "aBdPWiVwYbQM",
        "colab": {
          "base_uri": "https://localhost:8080/"
        },
        "outputId": "1aedee12-9ab5-4552-bd62-db0d971a0342"
      },
      "outputs": [
        {
          "output_type": "stream",
          "name": "stdout",
          "text": [
            "El diametro de la Tierra son 12742 kilometros\n"
          ]
        }
      ],
      "source": [
        "planet = \"Tierra\"\n",
        "diameter = 12742\n",
        "print(\"El diametro de la {one} son {two} kilometros\".format(one = planet, two = diameter))"
      ]
    },
    {
      "cell_type": "markdown",
      "metadata": {
        "id": "ZEN1GE6sYbQM"
      },
      "source": [
        "**Dada esta lista anidada, utiliza la indexación para obtener la palabra \"hello\"**"
      ]
    },
    {
      "cell_type": "code",
      "execution_count": 7,
      "metadata": {
        "id": "gzUNRQgUYbQM"
      },
      "outputs": [],
      "source": [
        "lst = [1,2,[3,4],[5,[100,200,['hello']],23,11],1,7]"
      ]
    },
    {
      "cell_type": "code",
      "execution_count": 9,
      "metadata": {
        "id": "9q8i-lGkYbQN",
        "colab": {
          "base_uri": "https://localhost:8080/"
        },
        "outputId": "68dcea00-36de-4c3d-ef7d-47054c4679ba"
      },
      "outputs": [
        {
          "output_type": "execute_result",
          "data": {
            "text/plain": [
              "['hello']"
            ]
          },
          "metadata": {},
          "execution_count": 9
        }
      ],
      "source": [
        "lst[3][1][2]"
      ]
    },
    {
      "cell_type": "markdown",
      "metadata": {
        "id": "PR3EK5CNYbQO"
      },
      "source": [
        "**Dada la siguiente tupla, ¿Por qué marca error?**"
      ]
    },
    {
      "cell_type": "markdown",
      "metadata": {
        "id": "zK43xtPkYbQO"
      },
      "source": [
        "Las tuplas son inmutables, por lo que no es posible modificar sus elementos."
      ]
    },
    {
      "cell_type": "code",
      "execution_count": null,
      "metadata": {
        "id": "z0LVejBxYbQO"
      },
      "outputs": [],
      "source": [
        "t = (1,2,3)"
      ]
    },
    {
      "cell_type": "code",
      "execution_count": null,
      "metadata": {
        "id": "M8_oVgHuYbQO",
        "outputId": "26c68779-bfaf-4f97-a3cb-0945c36a1150"
      },
      "outputs": [
        {
          "ename": "TypeError",
          "evalue": "'tuple' object does not support item assignment",
          "output_type": "error",
          "traceback": [
            "\u001b[1;31m---------------------------------------------------------------------------\u001b[0m",
            "\u001b[1;31mTypeError\u001b[0m                                 Traceback (most recent call last)",
            "Cell \u001b[1;32mIn[2], line 1\u001b[0m\n\u001b[1;32m----> 1\u001b[0m t[\u001b[38;5;241m0\u001b[39m] \u001b[38;5;241m=\u001b[39m \u001b[38;5;124m'\u001b[39m\u001b[38;5;124mNEW\u001b[39m\u001b[38;5;124m'\u001b[39m\n",
            "\u001b[1;31mTypeError\u001b[0m: 'tuple' object does not support item assignment"
          ]
        }
      ],
      "source": [
        "t[0] = 'NEW'"
      ]
    },
    {
      "cell_type": "markdown",
      "metadata": {
        "id": "6CpBSp_uYbQQ"
      },
      "source": [
        "**Dado este diccionario anidado, obten la palabra \"hello\"**"
      ]
    },
    {
      "cell_type": "code",
      "execution_count": 5,
      "metadata": {
        "id": "9bJBPCAzYbQQ"
      },
      "outputs": [],
      "source": [
        "d = {'k1':[1,2,3,{'tricky':['oh','man','inception',{'target':[1,2,3,'hello']}]}]}"
      ]
    },
    {
      "cell_type": "code",
      "execution_count": 6,
      "metadata": {
        "id": "6RbhZxvFYbQQ",
        "colab": {
          "base_uri": "https://localhost:8080/",
          "height": 35
        },
        "outputId": "6e6a5a7d-552a-4a53-b1ae-3e0a352f4767"
      },
      "outputs": [
        {
          "output_type": "execute_result",
          "data": {
            "text/plain": [
              "'hello'"
            ],
            "application/vnd.google.colaboratory.intrinsic+json": {
              "type": "string"
            }
          },
          "metadata": {},
          "execution_count": 6
        }
      ],
      "source": [
        "d['k1'][3]['tricky'][3]['target'][3]"
      ]
    },
    {
      "cell_type": "markdown",
      "metadata": {
        "id": "H1pYTxL9YbQR"
      },
      "source": [
        "**¿Cuál es la principal diferencia entre una tupla y una lista?**"
      ]
    },
    {
      "cell_type": "markdown",
      "metadata": {
        "collapsed": true,
        "jupyter": {
          "outputs_hidden": true
        },
        "id": "25ENSaNGYbQR"
      },
      "source": [
        "Las listas son mutables, es decir, puedes modificar su contenido; mientras que las tuplas no lo son, así que no es posible modificar su contenido."
      ]
    },
    {
      "cell_type": "markdown",
      "metadata": {
        "id": "izC5tINDYbQR"
      },
      "source": [
        "**Crea una función** (domainGet) **que obtenga el dominio del sitio web de correo electrónico a partir de una cadena en el formulario:**\n",
        "\n",
        "    user@domain.com\n",
        "    \n",
        "**Así, por ejemplo, pasando\"user@domain.com\"  se obtendría: domain.com**"
      ]
    },
    {
      "cell_type": "code",
      "execution_count": 10,
      "metadata": {
        "id": "R78ym37wYbQR",
        "colab": {
          "base_uri": "https://localhost:8080/",
          "height": 35
        },
        "outputId": "e78716d6-4502-4fa8-ab86-17ce2f5921a9"
      },
      "outputs": [
        {
          "output_type": "execute_result",
          "data": {
            "text/plain": [
              "'domain.com'"
            ],
            "application/vnd.google.colaboratory.intrinsic+json": {
              "type": "string"
            }
          },
          "metadata": {},
          "execution_count": 10
        }
      ],
      "source": [
        "def domainGet(email):\n",
        "  domain = email.split('@')[1]\n",
        "  return domain\n",
        "\n",
        "domainGet(\"user@domain.com\")"
      ]
    },
    {
      "cell_type": "markdown",
      "metadata": {
        "id": "1T5Vf88QYbQR"
      },
      "source": [
        "**Crea una función básica** (finDog) **que devuelva True si la palabra 'dog' está contenida en la cadena de entrada. No te preocupes por los casos extremos, como un signo de puntuación unido a la palabra perro, pero ten en cuenta las mayúsculas y minúsculas.**"
      ]
    },
    {
      "cell_type": "code",
      "execution_count": 13,
      "metadata": {
        "id": "XLa9HIiYYbQS",
        "colab": {
          "base_uri": "https://localhost:8080/"
        },
        "outputId": "ce5baf9a-3feb-4ad5-e140-e2b4115b5573"
      },
      "outputs": [
        {
          "output_type": "execute_result",
          "data": {
            "text/plain": [
              "True"
            ]
          },
          "metadata": {},
          "execution_count": 13
        }
      ],
      "source": [
        "def finDog(cadena):\n",
        "  if \"dog\" in cadena.lower():\n",
        "    return True\n",
        "  else:\n",
        "    return False\n",
        "\n",
        "finDog(\"DoGo\")"
      ]
    },
    {
      "cell_type": "markdown",
      "metadata": {
        "id": "E4Ff_Pt-YbQS"
      },
      "source": [
        "**Crea una función** (countDog) **que cuente el número de veces que aparece la palabra \"dog\" en una cadena. De nuevo, ignora los casos extremos.**"
      ]
    },
    {
      "cell_type": "code",
      "execution_count": 18,
      "metadata": {
        "id": "DIYnd5X7YbQS",
        "colab": {
          "base_uri": "https://localhost:8080/"
        },
        "outputId": "d2a9e75e-cc0f-4a9d-ef11-0a758bf41c74"
      },
      "outputs": [
        {
          "output_type": "execute_result",
          "data": {
            "text/plain": [
              "4"
            ]
          },
          "metadata": {},
          "execution_count": 18
        }
      ],
      "source": [
        "def countDog(cadena):\n",
        "  i = 0\n",
        "  for palabra in cadena.lower().split():\n",
        "    if \"dog\" in palabra:\n",
        "      i += 1\n",
        "    else:\n",
        "      continue\n",
        "  return i\n",
        "\n",
        "countDog(\"Dog is pretty fat, dOg is beauty and doG has no fur, DOG is a xoloitzcuintle :D\")"
      ]
    },
    {
      "cell_type": "markdown",
      "metadata": {
        "id": "E17e29moYbQS"
      },
      "source": [
        "**Utiliza lambda y la función filter() para filtrar las palabras de una lista que no empiecen por la letra 's'. Por ejemplo:**\n",
        "\n",
        "    seq = ['soup','dog','salad','cat','great']\n",
        "\n",
        "**debes filtrar:**\n",
        "\n",
        "    ['soup','salad']"
      ]
    },
    {
      "cell_type": "code",
      "execution_count": 23,
      "metadata": {
        "id": "PRFp7RpKYbQS",
        "colab": {
          "base_uri": "https://localhost:8080/"
        },
        "outputId": "c005377f-c825-4afd-df5a-6957e9f5b2a3"
      },
      "outputs": [
        {
          "output_type": "execute_result",
          "data": {
            "text/plain": [
              "['dog', 'cat', 'great']"
            ]
          },
          "metadata": {},
          "execution_count": 23
        }
      ],
      "source": [
        "lam = lambda x: x[0] != 's'\n",
        "seq = ['soup','dog','salad','cat','great']\n",
        "list(filter(lam, seq))"
      ]
    },
    {
      "cell_type": "markdown",
      "metadata": {
        "id": "I9Lf7GYjYbQS"
      },
      "source": [
        "### Problema Final\n",
        "**Conduces un poco rápido y te para un policía. Escribe una función que devuelva uno de los 3 resultados posibles: «Sin multa», “Multa pequeña”, o “Multa grande”.**\n",
        "* Si su velocidad es de 60 o menos, el resultado es «Sin multa».\n",
        "* Si la velocidad está entre 61 y 80 inclusive, el resultado es «Multa pequeña».\n",
        "* Si la velocidad es igual o superior a 81, el resultado es «Multa grande».\n",
        "* A menos que sea su cumpleaños (codificado como un valor booleano en los parámetros de la función) - en su cumpleaños, su velocidad puede ser 5 más alta en todos los casos."
      ]
    },
    {
      "cell_type": "code",
      "execution_count": 26,
      "metadata": {
        "id": "hnLL3_TZYbQT",
        "colab": {
          "base_uri": "https://localhost:8080/"
        },
        "outputId": "797d103d-0ccf-4794-8763-1ca265040b41"
      },
      "outputs": [
        {
          "output_type": "stream",
          "name": "stdout",
          "text": [
            "Sin multa\n",
            "Sin multa\n",
            "Multa pequeña\n",
            "Sin multa\n",
            "Multa pequeña\n",
            "Multa grande\n",
            "Multa grande\n"
          ]
        }
      ],
      "source": [
        "def multa(velocidad, cumpleanos):\n",
        "  if cumpleanos:\n",
        "    velocidad -= 5\n",
        "\n",
        "  if velocidad <= 60:\n",
        "    return \"Sin multa\"\n",
        "  elif velocidad >= 61 and velocidad <= 80:\n",
        "    return \"Multa pequeña\"\n",
        "  else:\n",
        "    return \"Multa grande\"\n",
        "\n",
        "print(multa(0, True))\n",
        "print(multa(0, False))\n",
        "\n",
        "print(multa(69, False))\n",
        "print(multa(62, True))\n",
        "\n",
        "print(multa(84, True))\n",
        "print(multa(81, False))\n",
        "\n",
        "print(multa(100, True))"
      ]
    }
  ],
  "metadata": {
    "kernelspec": {
      "display_name": "Python 3 (ipykernel)",
      "language": "python",
      "name": "python3"
    },
    "language_info": {
      "codemirror_mode": {
        "name": "ipython",
        "version": 3
      },
      "file_extension": ".py",
      "mimetype": "text/x-python",
      "name": "python",
      "nbconvert_exporter": "python",
      "pygments_lexer": "ipython3",
      "version": "3.11.7"
    },
    "colab": {
      "provenance": [],
      "include_colab_link": true
    }
  },
  "nbformat": 4,
  "nbformat_minor": 0
}